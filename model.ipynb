{
 "cells": [
  {
   "cell_type": "code",
   "execution_count": null,
   "id": "62807cce",
   "metadata": {},
   "outputs": [],
   "source": [
    "import copy\n",
    "import datetime\n",
    "import numpy as np\n",
    "import pandas as pd\n",
    "import matplotlib.pyplot as plt\n",
    "\n",
    "from dateutil.relativedelta import relativedelta\n",
    "\n",
    "import statsmodels\n",
    "from statsmodels.tsa.seasonal import seasonal_decompose\n",
    "from statsmodels.tsa.stattools import acf, adfuller\n",
    "from statsmodels.graphics.tsaplots import plot_acf, plot_pacf\n",
    "\n",
    "\n",
    "from sklearn.linear_model import LinearRegression\n",
    "from sklearn.model_selection import train_test_split\n",
    "\n",
    "%matplotlib inline"
   ]
  },
  {
   "cell_type": "code",
   "execution_count": null,
   "id": "2ca651ed",
   "metadata": {},
   "outputs": [],
   "source": [
    "df = pd.read_csv('data_clean/emergency_situations_clean.csv')"
   ]
  },
  {
   "cell_type": "code",
   "execution_count": null,
   "id": "0c9995d5",
   "metadata": {},
   "outputs": [],
   "source": [
    "df.head()"
   ]
  },
  {
   "cell_type": "code",
   "execution_count": null,
   "id": "65e35709",
   "metadata": {},
   "outputs": [],
   "source": [
    "df.columns"
   ]
  },
  {
   "cell_type": "code",
   "execution_count": null,
   "id": "d877247b",
   "metadata": {},
   "outputs": [],
   "source": [
    "df['date'].dtype"
   ]
  },
  {
   "cell_type": "code",
   "execution_count": null,
   "id": "83f67809",
   "metadata": {},
   "outputs": [],
   "source": [
    "df['date'] = pd.to_datetime(df['date'])"
   ]
  },
  {
   "cell_type": "code",
   "execution_count": null,
   "id": "c7c22892",
   "metadata": {},
   "outputs": [],
   "source": [
    "df_day = df.groupby('date')['timeIsoStr'].count().to_frame().rename(columns={'timeIsoStr':'count'})\n",
    "df_day.head()"
   ]
  },
  {
   "cell_type": "code",
   "execution_count": null,
   "id": "20e4f5db",
   "metadata": {},
   "outputs": [],
   "source": [
    "df_day['count'].mean()"
   ]
  },
  {
   "cell_type": "code",
   "execution_count": null,
   "id": "4a65aa95",
   "metadata": {},
   "outputs": [],
   "source": [
    "df_day['count'].hist()\n",
    "plt.show()"
   ]
  },
  {
   "cell_type": "code",
   "execution_count": null,
   "id": "b19be127",
   "metadata": {},
   "outputs": [],
   "source": [
    "plt.figure(figsize=(20, 6))\n",
    "plt.title('Изменение количества полифакторных ЧС', fontsize=20)\n",
    "plt.xlabel('Дата', fontsize=15)\n",
    "plt.ylabel('Количество', rotation=0, labelpad=30, fontsize=10)\n",
    "df_day['count'].plot();"
   ]
  },
  {
   "cell_type": "code",
   "execution_count": null,
   "id": "3e8ffcee",
   "metadata": {},
   "outputs": [],
   "source": [
    "fig, ax = plt.subplots(nrows=4, ncols=1, figsize=(14, 30))\n",
    "decompose = seasonal_decompose(df_day[['count']], period=365)\n",
    "\n",
    "ax[0].set_title('Original')\n",
    "ax[1].set_title('Trend')\n",
    "ax[2].set_title('Seasonal')\n",
    "ax[3].set_title('Residual')\n",
    "\n",
    "decompose.observed.plot(ax=ax[0])\n",
    "decompose.trend.plot(ax=ax[1])\n",
    "decompose.seasonal.plot(ax=ax[2])\n",
    "decompose.resid.plot(ax=ax[3]);"
   ]
  },
  {
   "cell_type": "code",
   "execution_count": null,
   "id": "18db2f52",
   "metadata": {},
   "outputs": [],
   "source": [
    "fig, ax = plt.subplots(nrows=2, ncols=1, figsize=(15, 15))\n",
    "df_day['count'].plot(ax=ax[0])\n",
    "plot_acf(df_day['count'], lags=60, ax=ax[1]);"
   ]
  },
  {
   "cell_type": "code",
   "execution_count": null,
   "id": "5a3557e2",
   "metadata": {},
   "outputs": [],
   "source": [
    "corr = acf(df_day['count'], nlags=60, fft=False)"
   ]
  },
  {
   "cell_type": "code",
   "execution_count": null,
   "id": "e7e3bde2",
   "metadata": {},
   "outputs": [],
   "source": [
    "corr[1], corr[4], corr[8], corr[12]"
   ]
  },
  {
   "cell_type": "code",
   "execution_count": null,
   "id": "a2129f07",
   "metadata": {},
   "outputs": [],
   "source": [
    "from statsmodels.tsa.ar_model import AutoReg"
   ]
  },
  {
   "cell_type": "code",
   "execution_count": null,
   "id": "14b2beb7",
   "metadata": {},
   "outputs": [],
   "source": [
    "series = df_day['count'].values"
   ]
  },
  {
   "cell_type": "code",
   "execution_count": null,
   "id": "a8a8268b",
   "metadata": {},
   "outputs": [],
   "source": [
    "ar = AutoReg(series, lags=168).fit()"
   ]
  },
  {
   "cell_type": "code",
   "execution_count": null,
   "id": "43397b15",
   "metadata": {},
   "outputs": [],
   "source": [
    "len(series)"
   ]
  },
  {
   "cell_type": "code",
   "execution_count": null,
   "id": "062e3337",
   "metadata": {},
   "outputs": [],
   "source": [
    "prediction = ar.predict(start=956, end=956+90-1, dynamic=False)"
   ]
  },
  {
   "cell_type": "code",
   "execution_count": null,
   "id": "a0acec53",
   "metadata": {},
   "outputs": [],
   "source": [
    "df_day.tail()"
   ]
  },
  {
   "cell_type": "code",
   "execution_count": null,
   "id": "aea4ae62",
   "metadata": {},
   "outputs": [],
   "source": [
    "import datetime as DT\n",
    "import pandas as pd\n",
    "\n",
    "start_date = DT.datetime(2022, 1, 1)\n",
    "end_date = DT.datetime(2022, 3, 31)\n",
    "\n",
    "res = pd.date_range(\n",
    "    min(start_date, end_date),\n",
    "    max(start_date, end_date)\n",
    ").strftime('%d/%m/%Y').tolist()"
   ]
  },
  {
   "cell_type": "code",
   "execution_count": null,
   "id": "8f4da360",
   "metadata": {},
   "outputs": [],
   "source": [
    "len(prediction)"
   ]
  },
  {
   "cell_type": "code",
   "execution_count": null,
   "id": "88a020af",
   "metadata": {},
   "outputs": [],
   "source": [
    "len(res)"
   ]
  },
  {
   "cell_type": "code",
   "execution_count": null,
   "id": "19789262",
   "metadata": {},
   "outputs": [],
   "source": [
    "df_pred = pd.DataFrame({'date': res, 'count': prediction}).set_index('date')"
   ]
  },
  {
   "cell_type": "code",
   "execution_count": null,
   "id": "3cc7e6cf",
   "metadata": {},
   "outputs": [],
   "source": [
    "df_pred = pd.concat([df_day, df_pred])"
   ]
  },
  {
   "cell_type": "code",
   "execution_count": null,
   "id": "e6327856",
   "metadata": {},
   "outputs": [],
   "source": [
    "plt.figure(figsize=(14, 6))\n",
    "plt.title('Изменение количества полифакторных ЧС', fontsize=20)\n",
    "plt.xlabel('Дата', fontsize=15)\n",
    "plt.ylabel('Количество', rotation=0, labelpad=30, fontsize=10)\n",
    "df_pred['count'].plot();"
   ]
  },
  {
   "cell_type": "code",
   "execution_count": null,
   "id": "2c82372c",
   "metadata": {},
   "outputs": [],
   "source": [
    "fig, ax = plt.subplots(nrows=4, ncols=1, figsize=(20, 30))\n",
    "decompose = seasonal_decompose(df_pred[['count']], period=365)\n",
    "\n",
    "ax[0].set_title('Original')\n",
    "ax[1].set_title('Trend')\n",
    "ax[2].set_title('Seasonal')\n",
    "ax[3].set_title('Residual')\n",
    "\n",
    "decompose.observed.plot(ax=ax[0])\n",
    "decompose.trend.plot(ax=ax[1])\n",
    "decompose.seasonal.plot(ax=ax[2])\n",
    "decompose.resid.plot(ax=ax[3]);"
   ]
  },
  {
   "cell_type": "code",
   "execution_count": null,
   "id": "78545de3",
   "metadata": {},
   "outputs": [],
   "source": []
  }
 ],
 "metadata": {
  "kernelspec": {
   "display_name": "Python 3",
   "language": "python",
   "name": "python3"
  },
  "language_info": {
   "codemirror_mode": {
    "name": "ipython",
    "version": 3
   },
   "file_extension": ".py",
   "mimetype": "text/x-python",
   "name": "python",
   "nbconvert_exporter": "python",
   "pygments_lexer": "ipython3",
   "version": "3.8.8"
  }
 },
 "nbformat": 4,
 "nbformat_minor": 5
}

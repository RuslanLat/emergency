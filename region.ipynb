{
 "cells": [
  {
   "cell_type": "code",
   "execution_count": null,
   "id": "c9baecdf",
   "metadata": {},
   "outputs": [],
   "source": [
    "import pandas as pd\n",
    "import numpy as np\n",
    "import os"
   ]
  },
  {
   "cell_type": "code",
   "execution_count": null,
   "id": "7b46224c",
   "metadata": {},
   "outputs": [],
   "source": [
    "df = pd.read_csv('data_clean/emergency_situations_clean.csv')"
   ]
  },
  {
   "cell_type": "code",
   "execution_count": null,
   "id": "b6f22960",
   "metadata": {},
   "outputs": [],
   "source": [
    "df.head()"
   ]
  },
  {
   "cell_type": "code",
   "execution_count": null,
   "id": "14ae3dfe",
   "metadata": {},
   "outputs": [],
   "source": [
    "region_city = df.query('iscity == 1')['region'].unique()\n",
    "region_city"
   ]
  },
  {
   "cell_type": "code",
   "execution_count": null,
   "id": "579d41ea",
   "metadata": {},
   "outputs": [],
   "source": [
    "path_main = 'data_city/'"
   ]
  },
  {
   "cell_type": "code",
   "execution_count": null,
   "id": "4260e98b",
   "metadata": {},
   "outputs": [],
   "source": [
    "files = os.listdir(path_main)\n",
    "files"
   ]
  },
  {
   "cell_type": "code",
   "execution_count": null,
   "id": "577bf7b0",
   "metadata": {},
   "outputs": [],
   "source": [
    "for region in region_city:\n",
    "    df_city = df[df['region'] == region]\n",
    "    df_city.to_csv(f'data_city/{region}.csv', index=False)"
   ]
  },
  {
   "cell_type": "code",
   "execution_count": null,
   "id": "cec27336",
   "metadata": {},
   "outputs": [],
   "source": [
    "region_nocity = df.query('iscity != 1')['region'].unique()\n",
    "region_nocity"
   ]
  },
  {
   "cell_type": "code",
   "execution_count": null,
   "id": "60d3e482",
   "metadata": {},
   "outputs": [],
   "source": [
    "for region in region_nocity:\n",
    "    df_nocity = df[df['region'] == region]\n",
    "    df_nocity.to_csv(f'data_region/{region}.csv', index=False)"
   ]
  },
  {
   "cell_type": "code",
   "execution_count": null,
   "id": "0d4a0788",
   "metadata": {},
   "outputs": [],
   "source": [
    "path_main = 'data_region/'"
   ]
  },
  {
   "cell_type": "code",
   "execution_count": null,
   "id": "02ff9510",
   "metadata": {},
   "outputs": [],
   "source": [
    "files = os.listdir(path_main)\n",
    "files"
   ]
  },
  {
   "cell_type": "code",
   "execution_count": null,
   "id": "2495c68a",
   "metadata": {},
   "outputs": [],
   "source": []
  }
 ],
 "metadata": {
  "kernelspec": {
   "display_name": "Python 3",
   "language": "python",
   "name": "python3"
  },
  "language_info": {
   "codemirror_mode": {
    "name": "ipython",
    "version": 3
   },
   "file_extension": ".py",
   "mimetype": "text/x-python",
   "name": "python",
   "nbconvert_exporter": "python",
   "pygments_lexer": "ipython3",
   "version": "3.8.8"
  }
 },
 "nbformat": 4,
 "nbformat_minor": 5
}

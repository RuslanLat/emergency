{
 "cells": [
  {
   "cell_type": "code",
   "execution_count": null,
   "id": "18ffaee6",
   "metadata": {},
   "outputs": [],
   "source": [
    "import pandas as pd\n",
    "import numpy as np"
   ]
  },
  {
   "cell_type": "code",
   "execution_count": null,
   "id": "c2b82966",
   "metadata": {},
   "outputs": [],
   "source": [
    "df = pd.read_csv('data/07-12.2021.csv', sep=';', header=1, encoding='windows-1251', low_memory=False)"
   ]
  },
  {
   "cell_type": "code",
   "execution_count": null,
   "id": "196bb358",
   "metadata": {},
   "outputs": [],
   "source": [
    "df.head()"
   ]
  },
  {
   "cell_type": "code",
   "execution_count": null,
   "id": "44920667",
   "metadata": {},
   "outputs": [],
   "source": [
    "df.columns"
   ]
  },
  {
   "cell_type": "code",
   "execution_count": null,
   "id": "7343d5e6",
   "metadata": {},
   "outputs": [],
   "source": [
    "df.drop(columns=['Unnamed: 34', 'Unnamed: 35'], inplace=True)"
   ]
  },
  {
   "cell_type": "code",
   "execution_count": null,
   "id": "e00f0950",
   "metadata": {},
   "outputs": [],
   "source": [
    "df.shape"
   ]
  },
  {
   "cell_type": "code",
   "execution_count": null,
   "id": "13317bfe",
   "metadata": {},
   "outputs": [],
   "source": [
    "df.rename(columns={'isDanger': 'isDanger.1'}, inplace=True)"
   ]
  },
  {
   "cell_type": "code",
   "execution_count": null,
   "id": "fb4ad1ae",
   "metadata": {},
   "outputs": [],
   "source": [
    "df.columns = [column.split()[0] for column in df.columns]"
   ]
  },
  {
   "cell_type": "code",
   "execution_count": null,
   "id": "6983301c",
   "metadata": {},
   "outputs": [],
   "source": [
    "df.columns"
   ]
  },
  {
   "cell_type": "code",
   "execution_count": null,
   "id": "6124aabd",
   "metadata": {},
   "outputs": [],
   "source": [
    "df['cdPn'].unique()"
   ]
  },
  {
   "cell_type": "code",
   "execution_count": null,
   "id": "50ab59a1",
   "metadata": {},
   "outputs": [],
   "source": [
    "df.drop(columns='cdPn', inplace=True)"
   ]
  },
  {
   "cell_type": "code",
   "execution_count": null,
   "id": "85a8ecb5",
   "metadata": {},
   "outputs": [],
   "source": [
    "df.replace('[NULL]', np.nan, inplace=True)"
   ]
  },
  {
   "cell_type": "code",
   "execution_count": null,
   "id": "b48f9a7c",
   "metadata": {},
   "outputs": [],
   "source": [
    "(df.isna().sum() / df.shape[0]).round(4) * 100"
   ]
  },
  {
   "cell_type": "code",
   "execution_count": null,
   "id": "aad523f7",
   "metadata": {},
   "outputs": [],
   "source": [
    "col_names = []\n",
    "for column in df.columns:\n",
    "    try:\n",
    "        df[column] = df[column].apply(lambda x: x.strip() if x is not np.nan else '')\n",
    "    except:\n",
    "        col_names.append(column) "
   ]
  },
  {
   "cell_type": "code",
   "execution_count": null,
   "id": "cfead317",
   "metadata": {},
   "outputs": [],
   "source": [
    "df.replace('[NULL]', np.nan, inplace=True)"
   ]
  },
  {
   "cell_type": "code",
   "execution_count": null,
   "id": "c86f2dc8",
   "metadata": {},
   "outputs": [],
   "source": [
    "column_nan = df.isna().sum()[df.isna().sum() == df.shape[0]].index\n",
    "column_nan"
   ]
  },
  {
   "cell_type": "code",
   "execution_count": null,
   "id": "49441eac",
   "metadata": {},
   "outputs": [],
   "source": [
    "df.drop(columns=column_nan, inplace=True)"
   ]
  },
  {
   "cell_type": "code",
   "execution_count": null,
   "id": "c920b696",
   "metadata": {},
   "outputs": [],
   "source": [
    "df[col_names].head()"
   ]
  },
  {
   "cell_type": "code",
   "execution_count": null,
   "id": "dacf43e3",
   "metadata": {},
   "outputs": [],
   "source": [
    "df.shape"
   ]
  },
  {
   "cell_type": "code",
   "execution_count": null,
   "id": "ce9eaede",
   "metadata": {},
   "outputs": [],
   "source": [
    "(df['name'] == df['type']).sum()"
   ]
  },
  {
   "cell_type": "code",
   "execution_count": null,
   "id": "f3eb299f",
   "metadata": {},
   "outputs": [],
   "source": [
    "df.drop(columns='type', inplace=True)"
   ]
  },
  {
   "cell_type": "code",
   "execution_count": null,
   "id": "e59a2357",
   "metadata": {},
   "outputs": [],
   "source": [
    "df['name'].nunique()"
   ]
  },
  {
   "cell_type": "code",
   "execution_count": null,
   "id": "dce32c13",
   "metadata": {},
   "outputs": [],
   "source": [
    "df['name'].isna().sum()"
   ]
  },
  {
   "cell_type": "code",
   "execution_count": null,
   "id": "cdd51627",
   "metadata": {},
   "outputs": [],
   "source": [
    "df[['hrId', 'name']].sort_values(by='name')[50:100]"
   ]
  },
  {
   "cell_type": "code",
   "execution_count": null,
   "id": "a788d4db",
   "metadata": {},
   "outputs": [],
   "source": [
    "df['type'] = df['hrId'].apply(lambda x: ' '.join(x.split('_')[1:-1]))"
   ]
  },
  {
   "cell_type": "code",
   "execution_count": null,
   "id": "c11949e3",
   "metadata": {},
   "outputs": [],
   "source": [
    "df['level'].unique()"
   ]
  },
  {
   "cell_type": "code",
   "execution_count": null,
   "id": "fc09c518",
   "metadata": {},
   "outputs": [],
   "source": [
    "df['level'].isna().sum()"
   ]
  },
  {
   "cell_type": "code",
   "execution_count": null,
   "id": "f5f4f690",
   "metadata": {},
   "outputs": [],
   "source": [
    "df['state'].unique()"
   ]
  },
  {
   "cell_type": "code",
   "execution_count": null,
   "id": "02250b39",
   "metadata": {},
   "outputs": [],
   "source": [
    "df['state'].isna().sum()"
   ]
  },
  {
   "cell_type": "code",
   "execution_count": null,
   "id": "eac7a049",
   "metadata": {},
   "outputs": [],
   "source": [
    "df.query(\"state == ''\")"
   ]
  },
  {
   "cell_type": "code",
   "execution_count": null,
   "id": "e22faabe",
   "metadata": {},
   "outputs": [],
   "source": [
    "state_index = df.query(\"state == ''\").index\n",
    "state_index"
   ]
  },
  {
   "cell_type": "code",
   "execution_count": null,
   "id": "8317527c",
   "metadata": {},
   "outputs": [],
   "source": [
    "state_mode = df['state'].mode()\n",
    "state_mode"
   ]
  },
  {
   "cell_type": "code",
   "execution_count": null,
   "id": "3a9a8815",
   "metadata": {},
   "outputs": [],
   "source": [
    "for index in state_index:\n",
    "    df['state'][index] = state_mode[0] "
   ]
  },
  {
   "cell_type": "code",
   "execution_count": null,
   "id": "27d1a87f",
   "metadata": {},
   "outputs": [],
   "source": [
    "df['state'].unique()"
   ]
  },
  {
   "cell_type": "code",
   "execution_count": null,
   "id": "cbe031d9",
   "metadata": {},
   "outputs": [],
   "source": [
    "df['regionId'].nunique()"
   ]
  },
  {
   "cell_type": "code",
   "execution_count": null,
   "id": "79df1167",
   "metadata": {},
   "outputs": [],
   "source": [
    "df['regionId'].isna().sum()"
   ]
  },
  {
   "cell_type": "code",
   "execution_count": null,
   "id": "6f6302da",
   "metadata": {},
   "outputs": [],
   "source": [
    "df['region'].isna().sum()"
   ]
  },
  {
   "cell_type": "code",
   "execution_count": null,
   "id": "dccbfa62",
   "metadata": {},
   "outputs": [],
   "source": [
    "df[['region', 'regionId']].drop_duplicates().sort_values(by='regionId')[:34]"
   ]
  },
  {
   "cell_type": "code",
   "execution_count": null,
   "id": "a3c5dd6b",
   "metadata": {},
   "outputs": [],
   "source": [
    "df.drop(columns='regionId', inplace=True)"
   ]
  },
  {
   "cell_type": "code",
   "execution_count": null,
   "id": "0f436f94",
   "metadata": {},
   "outputs": [],
   "source": [
    "df['iscity'] = df['region'].apply(lambda x: 1 if 'Волгоград' in x else 0)"
   ]
  },
  {
   "cell_type": "code",
   "execution_count": null,
   "id": "f6b6e8db",
   "metadata": {},
   "outputs": [],
   "source": [
    "df['region'] = df['region'].apply(lambda x: x.split()[-1] if x != 'не задано' else 'не задано')"
   ]
  },
  {
   "cell_type": "code",
   "execution_count": null,
   "id": "88e55eb3",
   "metadata": {},
   "outputs": [],
   "source": [
    "df['isBlocking'].unique()"
   ]
  },
  {
   "cell_type": "code",
   "execution_count": null,
   "id": "08f30d3f",
   "metadata": {},
   "outputs": [],
   "source": [
    "df['isBlocking'].isna().sum()"
   ]
  },
  {
   "cell_type": "code",
   "execution_count": null,
   "id": "473766bd",
   "metadata": {},
   "outputs": [],
   "source": [
    "df['isBlocking'].isna().sum()"
   ]
  },
  {
   "cell_type": "code",
   "execution_count": null,
   "id": "c43b1a90",
   "metadata": {},
   "outputs": [],
   "source": [
    "df['lostNumber'].unique()"
   ]
  },
  {
   "cell_type": "code",
   "execution_count": null,
   "id": "61f9966a",
   "metadata": {},
   "outputs": [],
   "source": [
    "df['lostNumber'].isna().sum()"
   ]
  },
  {
   "cell_type": "code",
   "execution_count": null,
   "id": "0cb5aa4e",
   "metadata": {},
   "outputs": [],
   "source": [
    "df.drop(columns='lostNumber', inplace=True)"
   ]
  },
  {
   "cell_type": "code",
   "execution_count": null,
   "id": "7f765b80",
   "metadata": {},
   "outputs": [],
   "source": [
    "df['membership'].nunique()"
   ]
  },
  {
   "cell_type": "code",
   "execution_count": null,
   "id": "71e21908",
   "metadata": {},
   "outputs": [],
   "source": [
    "df['membership'].isna().sum()"
   ]
  },
  {
   "cell_type": "code",
   "execution_count": null,
   "id": "bbeb3dba",
   "metadata": {},
   "outputs": [],
   "source": [
    "df['member_count'] = df['membership'].apply(lambda x: len(x.split(',')) if x != '' else 0) "
   ]
  },
  {
   "cell_type": "code",
   "execution_count": null,
   "id": "efab8bab",
   "metadata": {},
   "outputs": [],
   "source": [
    "df['member_count'].max()"
   ]
  },
  {
   "cell_type": "code",
   "execution_count": null,
   "id": "aaf4e89c",
   "metadata": {},
   "outputs": [],
   "source": [
    "df[df['member_count'] == 10]['membership'].values"
   ]
  },
  {
   "cell_type": "code",
   "execution_count": null,
   "id": "bcb97ba6",
   "metadata": {},
   "outputs": [],
   "source": [
    "def membershipname(text):\n",
    "    \n",
    "    if text == '':\n",
    "        return ''\n",
    "    else:\n",
    "        member_ship_name = []\n",
    "        for word in text.split(', '):\n",
    "            member_ship_name.append(word.split(':')[0])\n",
    "        \n",
    "        return member_ship_name "
   ]
  },
  {
   "cell_type": "code",
   "execution_count": null,
   "id": "598f5318",
   "metadata": {},
   "outputs": [],
   "source": [
    "df['member_ship_name'] = df['membership'].apply(lambda x: membershipname(x)) "
   ]
  },
  {
   "cell_type": "code",
   "execution_count": null,
   "id": "435beb24",
   "metadata": {},
   "outputs": [],
   "source": [
    "def membership(text):\n",
    "    \n",
    "    if text == '':\n",
    "        return ''\n",
    "    else:\n",
    "        member_ship = []\n",
    "        for word in text.split(', '):\n",
    "            member_ship.append(word.split(':')[1])\n",
    "        \n",
    "        return member_ship "
   ]
  },
  {
   "cell_type": "code",
   "execution_count": null,
   "id": "fac9b9b2",
   "metadata": {},
   "outputs": [],
   "source": [
    "df['membership'] = df['membership'].apply(lambda x: membership(x))"
   ]
  },
  {
   "cell_type": "code",
   "execution_count": null,
   "id": "7ca8019b",
   "metadata": {},
   "outputs": [],
   "source": [
    "df[['hrId', 'timeIsoStr']].head()"
   ]
  },
  {
   "cell_type": "code",
   "execution_count": null,
   "id": "2169521c",
   "metadata": {},
   "outputs": [],
   "source": [
    "df['timeIsoStr'].isna().sum()"
   ]
  },
  {
   "cell_type": "code",
   "execution_count": null,
   "id": "bcf9ef15",
   "metadata": {},
   "outputs": [],
   "source": [
    "df['timeIsoStr'] = pd.to_datetime(df['timeIsoStr'])"
   ]
  },
  {
   "cell_type": "code",
   "execution_count": null,
   "id": "5cd90349",
   "metadata": {},
   "outputs": [],
   "source": [
    "df['timeIsoStr'].agg(['min', 'max'])"
   ]
  },
  {
   "cell_type": "code",
   "execution_count": null,
   "id": "d8ea486f",
   "metadata": {},
   "outputs": [],
   "source": [
    "df['injuredNumber'].unique()"
   ]
  },
  {
   "cell_type": "code",
   "execution_count": null,
   "id": "05b98b1b",
   "metadata": {},
   "outputs": [],
   "source": [
    "df['injuredNumber'].isna().sum()"
   ]
  },
  {
   "cell_type": "code",
   "execution_count": null,
   "id": "ea1209a0",
   "metadata": {},
   "outputs": [],
   "source": [
    "df[df['injuredNumber'] != '0']['injuredNumber'].size"
   ]
  },
  {
   "cell_type": "code",
   "execution_count": null,
   "id": "bb134a74",
   "metadata": {},
   "outputs": [],
   "source": [
    "df.drop(columns='injuredNumber', inplace=True)"
   ]
  },
  {
   "cell_type": "code",
   "execution_count": null,
   "id": "bcad73a9",
   "metadata": {},
   "outputs": [],
   "source": [
    "df['responseStatus'].unique()"
   ]
  },
  {
   "cell_type": "code",
   "execution_count": null,
   "id": "51450cf3",
   "metadata": {},
   "outputs": [],
   "source": [
    "df[df['responseStatus'] != 200.]['responseStatus'].size"
   ]
  },
  {
   "cell_type": "code",
   "execution_count": null,
   "id": "4810330f",
   "metadata": {},
   "outputs": [],
   "source": [
    "df['responseStatus'].fillna(0, inplace=True)"
   ]
  },
  {
   "cell_type": "code",
   "execution_count": null,
   "id": "82009240",
   "metadata": {},
   "outputs": [],
   "source": [
    "df['responseStatus'].unique()"
   ]
  },
  {
   "cell_type": "code",
   "execution_count": null,
   "id": "4b4b5ea7",
   "metadata": {},
   "outputs": [],
   "source": [
    "df['responseStatus'] = df['responseStatus'].astype('int')"
   ]
  },
  {
   "cell_type": "code",
   "execution_count": null,
   "id": "85f6c689",
   "metadata": {},
   "outputs": [],
   "source": [
    "df['responseStatus'].value_counts()"
   ]
  },
  {
   "cell_type": "code",
   "execution_count": null,
   "id": "424e053e",
   "metadata": {},
   "outputs": [],
   "source": [
    "df['actionTimeIsoStr'].isna().sum() / df.shape[0]"
   ]
  },
  {
   "cell_type": "code",
   "execution_count": null,
   "id": "e2691e67",
   "metadata": {},
   "outputs": [],
   "source": [
    "df.drop(columns='actionTimeIsoStr', inplace=True)"
   ]
  },
  {
   "cell_type": "code",
   "execution_count": null,
   "id": "f9ca2053",
   "metadata": {},
   "outputs": [],
   "source": [
    "df['assignTimeIsoStr'].isna().sum() / df.shape[0]"
   ]
  },
  {
   "cell_type": "code",
   "execution_count": null,
   "id": "cafcdc12",
   "metadata": {},
   "outputs": [],
   "source": [
    "df.drop(columns='assignTimeIsoStr', inplace=True)"
   ]
  },
  {
   "cell_type": "code",
   "execution_count": null,
   "id": "2219d24a",
   "metadata": {},
   "outputs": [],
   "source": [
    "df.shape"
   ]
  },
  {
   "cell_type": "code",
   "execution_count": null,
   "id": "6a66feed",
   "metadata": {},
   "outputs": [],
   "source": [
    "df['cardId'].nunique()"
   ]
  },
  {
   "cell_type": "code",
   "execution_count": null,
   "id": "48fa907c",
   "metadata": {},
   "outputs": [],
   "source": [
    "cardId_count_index = df.groupby('cardId')['cardId'].count()[df.groupby('cardId')['cardId'].count() > 1].index\n",
    "cardId_count_index"
   ]
  },
  {
   "cell_type": "code",
   "execution_count": null,
   "id": "132b56a8",
   "metadata": {},
   "outputs": [],
   "source": [
    "df[df['cardId'].isin(cardId_count_index)].sort_values(by='cardId')"
   ]
  },
  {
   "cell_type": "code",
   "execution_count": null,
   "id": "3bf7f376",
   "metadata": {},
   "outputs": [],
   "source": [
    "df[df['cardId'].isin(cardId_count_index)].sort_values(by='cardId').shape"
   ]
  },
  {
   "cell_type": "code",
   "execution_count": null,
   "id": "e88eee4d",
   "metadata": {},
   "outputs": [],
   "source": [
    "df.drop_duplicates(subset='cardId', inplace=True)"
   ]
  },
  {
   "cell_type": "code",
   "execution_count": null,
   "id": "7674c91b",
   "metadata": {},
   "outputs": [],
   "source": [
    "df['dispatchesId'].isna().sum() / df.shape[0]"
   ]
  },
  {
   "cell_type": "code",
   "execution_count": null,
   "id": "dae9de1b",
   "metadata": {},
   "outputs": [],
   "source": [
    "df.drop(columns='dispatchesId', inplace=True)"
   ]
  },
  {
   "cell_type": "code",
   "execution_count": null,
   "id": "9a9bc42a",
   "metadata": {},
   "outputs": [],
   "source": [
    "df['isChemFlood'].unique()"
   ]
  },
  {
   "cell_type": "code",
   "execution_count": null,
   "id": "5857f601",
   "metadata": {},
   "outputs": [],
   "source": [
    "df.drop(columns='isChemFlood', inplace=True)"
   ]
  },
  {
   "cell_type": "code",
   "execution_count": null,
   "id": "b467f9ad",
   "metadata": {},
   "outputs": [],
   "source": [
    "df['point'].isna().sum()"
   ]
  },
  {
   "cell_type": "code",
   "execution_count": null,
   "id": "0951d861",
   "metadata": {},
   "outputs": [],
   "source": [
    "df['point'].fillna(\"[{'lat': 0.0, 'lon': 0.0}]\", inplace=True)"
   ]
  },
  {
   "cell_type": "code",
   "execution_count": null,
   "id": "90137009",
   "metadata": {},
   "outputs": [],
   "source": [
    "df['point'] = df['point'].apply(lambda x: x[1:-1])"
   ]
  },
  {
   "cell_type": "code",
   "execution_count": null,
   "id": "0501c8d5",
   "metadata": {},
   "outputs": [],
   "source": [
    "df['point'] = df['point'].apply(lambda x: eval(x))"
   ]
  },
  {
   "cell_type": "code",
   "execution_count": null,
   "id": "f81a72dd",
   "metadata": {},
   "outputs": [],
   "source": [
    "df['lat'] = df['point'].apply(lambda x: x['lat'])"
   ]
  },
  {
   "cell_type": "code",
   "execution_count": null,
   "id": "edbb6920",
   "metadata": {},
   "outputs": [],
   "source": [
    "df['lon'] = df['point'].apply(lambda x: x['lon'])"
   ]
  },
  {
   "cell_type": "code",
   "execution_count": null,
   "id": "0cf2a4fb",
   "metadata": {},
   "outputs": [],
   "source": [
    "df.drop(columns='point', inplace=True)"
   ]
  },
  {
   "cell_type": "code",
   "execution_count": null,
   "id": "16a2b92e",
   "metadata": {},
   "outputs": [],
   "source": [
    "(df.isna().sum() / df.shape[0]).round(4) * 100"
   ]
  },
  {
   "cell_type": "code",
   "execution_count": null,
   "id": "cb3915a6",
   "metadata": {},
   "outputs": [],
   "source": [
    "df['ierId'].tail()"
   ]
  },
  {
   "cell_type": "code",
   "execution_count": null,
   "id": "e1694930",
   "metadata": {},
   "outputs": [],
   "source": [
    "df.drop(columns='ierId', inplace=True)"
   ]
  },
  {
   "cell_type": "code",
   "execution_count": null,
   "id": "23de5021",
   "metadata": {},
   "outputs": [],
   "source": [
    "df['action'].dropna().tail()"
   ]
  },
  {
   "cell_type": "code",
   "execution_count": null,
   "id": "1ea2a5fe",
   "metadata": {},
   "outputs": [],
   "source": [
    "df.drop(columns='action', inplace=True)"
   ]
  },
  {
   "cell_type": "code",
   "execution_count": null,
   "id": "df91eaf8",
   "metadata": {},
   "outputs": [],
   "source": [
    "df['ierType'].dropna().tail()"
   ]
  },
  {
   "cell_type": "code",
   "execution_count": null,
   "id": "813b9432",
   "metadata": {},
   "outputs": [],
   "source": [
    "df.drop(columns='ierType', inplace=True)"
   ]
  },
  {
   "cell_type": "code",
   "execution_count": null,
   "id": "3590b022",
   "metadata": {},
   "outputs": [],
   "source": [
    "df['cityCode'].dropna().tail()"
   ]
  },
  {
   "cell_type": "code",
   "execution_count": null,
   "id": "3631758f",
   "metadata": {},
   "outputs": [],
   "source": [
    "df.drop(columns='cityCode', inplace=True)"
   ]
  },
  {
   "cell_type": "code",
   "execution_count": null,
   "id": "b6a821f3",
   "metadata": {},
   "outputs": [],
   "source": [
    "df['isDanger'].dropna().tail()"
   ]
  },
  {
   "cell_type": "code",
   "execution_count": null,
   "id": "c0f8b031",
   "metadata": {},
   "outputs": [],
   "source": [
    "df.drop(columns='isDanger', inplace=True)"
   ]
  },
  {
   "cell_type": "code",
   "execution_count": null,
   "id": "4b7cc865",
   "metadata": {},
   "outputs": [],
   "source": [
    "df['cityFiasId'].dropna().tail()"
   ]
  },
  {
   "cell_type": "code",
   "execution_count": null,
   "id": "ffe3cbc4",
   "metadata": {},
   "outputs": [],
   "source": [
    "df.drop(columns='cityFiasId', inplace=True)"
   ]
  },
  {
   "cell_type": "code",
   "execution_count": null,
   "id": "52100922",
   "metadata": {},
   "outputs": [],
   "source": [
    "df['streetCode'].dropna().tail()"
   ]
  },
  {
   "cell_type": "code",
   "execution_count": null,
   "id": "21886a99",
   "metadata": {},
   "outputs": [],
   "source": [
    "df.drop(columns='streetCode', inplace=True)"
   ]
  },
  {
   "cell_type": "code",
   "execution_count": null,
   "id": "055f0d7e",
   "metadata": {},
   "outputs": [],
   "source": [
    "df['districtCode'].dropna().tail()"
   ]
  },
  {
   "cell_type": "code",
   "execution_count": null,
   "id": "3320a2af",
   "metadata": {},
   "outputs": [],
   "source": [
    "df.drop(columns='districtCode', inplace=True)"
   ]
  },
  {
   "cell_type": "code",
   "execution_count": null,
   "id": "63bce749",
   "metadata": {},
   "outputs": [],
   "source": [
    "df['streetFiasId'].dropna().tail()"
   ]
  },
  {
   "cell_type": "code",
   "execution_count": null,
   "id": "2b6e6c03",
   "metadata": {},
   "outputs": [],
   "source": [
    "df.drop(columns='streetFiasId', inplace=True)"
   ]
  },
  {
   "cell_type": "code",
   "execution_count": null,
   "id": "ec7995ce",
   "metadata": {},
   "outputs": [],
   "source": [
    "df['clarification'].dropna().tail()"
   ]
  },
  {
   "cell_type": "code",
   "execution_count": null,
   "id": "05dc0a3c",
   "metadata": {},
   "outputs": [],
   "source": [
    "df.drop(columns='clarification', inplace=True)"
   ]
  },
  {
   "cell_type": "code",
   "execution_count": null,
   "id": "099302ff",
   "metadata": {},
   "outputs": [],
   "source": [
    "df['acceptOperatorStr'].dropna().tail()"
   ]
  },
  {
   "cell_type": "code",
   "execution_count": null,
   "id": "7907e8de",
   "metadata": {},
   "outputs": [],
   "source": [
    "df.drop(columns='acceptOperatorStr', inplace=True)"
   ]
  },
  {
   "cell_type": "code",
   "execution_count": null,
   "id": "6e63db45",
   "metadata": {},
   "outputs": [],
   "source": [
    "df.shape"
   ]
  },
  {
   "cell_type": "code",
   "execution_count": null,
   "id": "e02b1f8a",
   "metadata": {},
   "outputs": [],
   "source": [
    "df.info()"
   ]
  },
  {
   "cell_type": "code",
   "execution_count": null,
   "id": "c21c23aa",
   "metadata": {},
   "outputs": [],
   "source": [
    "df.rename(columns={'isDanger.1': 'isDanger'}, inplace=True)"
   ]
  },
  {
   "cell_type": "code",
   "execution_count": null,
   "id": "eea82bfc",
   "metadata": {},
   "outputs": [],
   "source": [
    "df['isNear'].value_counts()"
   ]
  },
  {
   "cell_type": "code",
   "execution_count": null,
   "id": "6e766313",
   "metadata": {},
   "outputs": [],
   "source": [
    "df.drop(columns='hrId', inplace=True)"
   ]
  },
  {
   "cell_type": "code",
   "execution_count": null,
   "id": "bdd01128",
   "metadata": {},
   "outputs": [],
   "source": [
    "df.shape"
   ]
  },
  {
   "cell_type": "code",
   "execution_count": null,
   "id": "5626784c",
   "metadata": {},
   "outputs": [],
   "source": [
    "df.to_csv('data_clean/2021_2.csv', index=False)"
   ]
  },
  {
   "cell_type": "code",
   "execution_count": null,
   "id": "c2d864e8",
   "metadata": {},
   "outputs": [],
   "source": []
  }
 ],
 "metadata": {
  "kernelspec": {
   "display_name": "Python 3",
   "language": "python",
   "name": "python3"
  },
  "language_info": {
   "codemirror_mode": {
    "name": "ipython",
    "version": 3
   },
   "file_extension": ".py",
   "mimetype": "text/x-python",
   "name": "python",
   "nbconvert_exporter": "python",
   "pygments_lexer": "ipython3",
   "version": "3.8.8"
  }
 },
 "nbformat": 4,
 "nbformat_minor": 5
}

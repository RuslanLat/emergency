{
 "cells": [
  {
   "cell_type": "code",
   "execution_count": null,
   "id": "b8e184db",
   "metadata": {},
   "outputs": [],
   "source": [
    "import pandas as pd\n",
    "import numpy as np"
   ]
  },
  {
   "cell_type": "code",
   "execution_count": null,
   "id": "f6ee5e5e",
   "metadata": {},
   "outputs": [],
   "source": [
    "df = pd.read_csv('data/07-12.2020.csv', sep=';', header=1, encoding='windows-1251', low_memory=False)"
   ]
  },
  {
   "cell_type": "code",
   "execution_count": null,
   "id": "ce384ffe",
   "metadata": {},
   "outputs": [],
   "source": [
    "df.head()"
   ]
  },
  {
   "cell_type": "code",
   "execution_count": null,
   "id": "4a9be91a",
   "metadata": {},
   "outputs": [],
   "source": [
    "df.shape"
   ]
  },
  {
   "cell_type": "code",
   "execution_count": null,
   "id": "4077b150",
   "metadata": {},
   "outputs": [],
   "source": [
    "df.columns"
   ]
  },
  {
   "cell_type": "code",
   "execution_count": null,
   "id": "2ef2ff01",
   "metadata": {},
   "outputs": [],
   "source": [
    "df.drop(columns=['Unnamed: 34', 'Unnamed: 35', 'Unnamed: 36'], inplace=True)"
   ]
  },
  {
   "cell_type": "code",
   "execution_count": null,
   "id": "0858fb44",
   "metadata": {},
   "outputs": [],
   "source": [
    "df.shape"
   ]
  },
  {
   "cell_type": "code",
   "execution_count": null,
   "id": "b5d5e7a4",
   "metadata": {},
   "outputs": [],
   "source": [
    "df.rename(columns={'isDanger': 'isDanger.1'}, inplace=True)"
   ]
  },
  {
   "cell_type": "code",
   "execution_count": null,
   "id": "71f3d2d5",
   "metadata": {},
   "outputs": [],
   "source": [
    "df.columns = [column.split()[0] for column in df.columns]"
   ]
  },
  {
   "cell_type": "code",
   "execution_count": null,
   "id": "aeba0698",
   "metadata": {},
   "outputs": [],
   "source": [
    "df.columns"
   ]
  },
  {
   "cell_type": "code",
   "execution_count": null,
   "id": "3bb83629",
   "metadata": {},
   "outputs": [],
   "source": [
    "df['cdPn'].unique()"
   ]
  },
  {
   "cell_type": "code",
   "execution_count": null,
   "id": "003b0efb",
   "metadata": {},
   "outputs": [],
   "source": [
    "df.drop(columns='cdPn', inplace=True)"
   ]
  },
  {
   "cell_type": "code",
   "execution_count": null,
   "id": "f61d7b0b",
   "metadata": {},
   "outputs": [],
   "source": [
    "df.replace('[NULL]', np.nan, inplace=True)"
   ]
  },
  {
   "cell_type": "code",
   "execution_count": null,
   "id": "e9e8c21e",
   "metadata": {},
   "outputs": [],
   "source": [
    "(df.isna().sum() / df.shape[0]).round(4) * 100"
   ]
  },
  {
   "cell_type": "code",
   "execution_count": null,
   "id": "bc1089f5",
   "metadata": {},
   "outputs": [],
   "source": [
    "col_names = []\n",
    "for column in df.columns:\n",
    "    try:\n",
    "        df[column] = df[column].apply(lambda x: x.strip() if x is not np.nan else '')\n",
    "    except:\n",
    "        col_names.append(column) "
   ]
  },
  {
   "cell_type": "code",
   "execution_count": null,
   "id": "a2dede5f",
   "metadata": {},
   "outputs": [],
   "source": [
    "df.replace('[NULL]', np.nan, inplace=True)"
   ]
  },
  {
   "cell_type": "code",
   "execution_count": null,
   "id": "88f5dcd8",
   "metadata": {},
   "outputs": [],
   "source": [
    "column_nan = df.isna().sum()[df.isna().sum() == df.shape[0]].index\n",
    "column_nan"
   ]
  },
  {
   "cell_type": "code",
   "execution_count": null,
   "id": "575b56ec",
   "metadata": {},
   "outputs": [],
   "source": [
    "df.drop(columns=column_nan, inplace=True)"
   ]
  },
  {
   "cell_type": "code",
   "execution_count": null,
   "id": "02f321ec",
   "metadata": {},
   "outputs": [],
   "source": [
    "df[col_names].head()"
   ]
  },
  {
   "cell_type": "code",
   "execution_count": null,
   "id": "4d537c05",
   "metadata": {},
   "outputs": [],
   "source": [
    "df.shape"
   ]
  },
  {
   "cell_type": "code",
   "execution_count": null,
   "id": "f390ffd1",
   "metadata": {},
   "outputs": [],
   "source": [
    "(df['name'] == df['type']).sum()"
   ]
  },
  {
   "cell_type": "code",
   "execution_count": null,
   "id": "cc9622b2",
   "metadata": {},
   "outputs": [],
   "source": [
    "df.drop(columns='type', inplace=True)"
   ]
  },
  {
   "cell_type": "code",
   "execution_count": null,
   "id": "741cfd13",
   "metadata": {},
   "outputs": [],
   "source": [
    "df['name'].nunique()"
   ]
  },
  {
   "cell_type": "code",
   "execution_count": null,
   "id": "8ddf4a3b",
   "metadata": {},
   "outputs": [],
   "source": [
    "df['name'].isna().sum()"
   ]
  },
  {
   "cell_type": "code",
   "execution_count": null,
   "id": "a3349baa",
   "metadata": {},
   "outputs": [],
   "source": [
    "df[['hrId', 'name']].sort_values(by='name')[50:100]"
   ]
  },
  {
   "cell_type": "code",
   "execution_count": null,
   "id": "e2b527c7",
   "metadata": {},
   "outputs": [],
   "source": [
    "df['type'] = df['hrId'].apply(lambda x: ' '.join(x.split('_')[1:-1]))"
   ]
  },
  {
   "cell_type": "code",
   "execution_count": null,
   "id": "3644bc02",
   "metadata": {},
   "outputs": [],
   "source": [
    "df['level'].unique()"
   ]
  },
  {
   "cell_type": "code",
   "execution_count": null,
   "id": "51091120",
   "metadata": {},
   "outputs": [],
   "source": [
    "df['level'].isna().sum()"
   ]
  },
  {
   "cell_type": "code",
   "execution_count": null,
   "id": "bedae645",
   "metadata": {},
   "outputs": [],
   "source": [
    "df['state'].unique()"
   ]
  },
  {
   "cell_type": "code",
   "execution_count": null,
   "id": "e9b56e63",
   "metadata": {},
   "outputs": [],
   "source": [
    "df['state'].isna().sum()"
   ]
  },
  {
   "cell_type": "code",
   "execution_count": null,
   "id": "73b40e2d",
   "metadata": {},
   "outputs": [],
   "source": [
    "df.query(\"state == ''\")"
   ]
  },
  {
   "cell_type": "code",
   "execution_count": null,
   "id": "954365ff",
   "metadata": {},
   "outputs": [],
   "source": [
    "state_index = df.query(\"state == ''\").index\n",
    "state_index"
   ]
  },
  {
   "cell_type": "code",
   "execution_count": null,
   "id": "c70b77d9",
   "metadata": {},
   "outputs": [],
   "source": [
    "state_mode = df['state'].mode()\n",
    "state_mode"
   ]
  },
  {
   "cell_type": "code",
   "execution_count": null,
   "id": "531b0fc1",
   "metadata": {},
   "outputs": [],
   "source": [
    "for index in state_index:\n",
    "    df['state'][index] = state_mode[0]    "
   ]
  },
  {
   "cell_type": "code",
   "execution_count": null,
   "id": "5c85ef16",
   "metadata": {},
   "outputs": [],
   "source": [
    "df['state'].unique()"
   ]
  },
  {
   "cell_type": "code",
   "execution_count": null,
   "id": "b7dff6fe",
   "metadata": {},
   "outputs": [],
   "source": [
    "df['regionId'].nunique()"
   ]
  },
  {
   "cell_type": "code",
   "execution_count": null,
   "id": "c77a63df",
   "metadata": {},
   "outputs": [],
   "source": [
    "df['regionId'].isna().sum()"
   ]
  },
  {
   "cell_type": "code",
   "execution_count": null,
   "id": "f6e45feb",
   "metadata": {},
   "outputs": [],
   "source": [
    "df['region'].nunique()"
   ]
  },
  {
   "cell_type": "code",
   "execution_count": null,
   "id": "aeed9093",
   "metadata": {},
   "outputs": [],
   "source": [
    "df['region'].isna().sum()"
   ]
  },
  {
   "cell_type": "code",
   "execution_count": null,
   "id": "dc21abc0",
   "metadata": {},
   "outputs": [],
   "source": [
    "df[['region', 'regionId']].drop_duplicates().sort_values(by='regionId')[:34]"
   ]
  },
  {
   "cell_type": "code",
   "execution_count": null,
   "id": "f8a3ee2f",
   "metadata": {},
   "outputs": [],
   "source": [
    "df.drop(columns='regionId', inplace=True)"
   ]
  },
  {
   "cell_type": "code",
   "execution_count": null,
   "id": "d4ef991f",
   "metadata": {},
   "outputs": [],
   "source": [
    "df['iscity'] = df['region'].apply(lambda x: 1 if 'Волгоград' in x else 0)"
   ]
  },
  {
   "cell_type": "code",
   "execution_count": null,
   "id": "87d00b1f",
   "metadata": {},
   "outputs": [],
   "source": [
    "df['region'] = df['region'].apply(lambda x: x.split()[-1] if x != 'не задано' else 'не задано')"
   ]
  },
  {
   "cell_type": "code",
   "execution_count": null,
   "id": "f387e30d",
   "metadata": {},
   "outputs": [],
   "source": [
    "df['isBlocking'].unique()"
   ]
  },
  {
   "cell_type": "code",
   "execution_count": null,
   "id": "77f5cf91",
   "metadata": {},
   "outputs": [],
   "source": [
    "df['isBlocking'].isna().sum()"
   ]
  },
  {
   "cell_type": "code",
   "execution_count": null,
   "id": "e85314dd",
   "metadata": {},
   "outputs": [],
   "source": [
    "df['lostNumber'].unique()"
   ]
  },
  {
   "cell_type": "code",
   "execution_count": null,
   "id": "d43de784",
   "metadata": {},
   "outputs": [],
   "source": [
    "df['lostNumber'].isna().sum()"
   ]
  },
  {
   "cell_type": "code",
   "execution_count": null,
   "id": "3659c033",
   "metadata": {},
   "outputs": [],
   "source": [
    "df.drop(columns='lostNumber', inplace=True)"
   ]
  },
  {
   "cell_type": "code",
   "execution_count": null,
   "id": "13c9e1ba",
   "metadata": {},
   "outputs": [],
   "source": [
    "df['membership'].nunique()"
   ]
  },
  {
   "cell_type": "code",
   "execution_count": null,
   "id": "27b11d60",
   "metadata": {},
   "outputs": [],
   "source": [
    "df['membership'].isna().sum()"
   ]
  },
  {
   "cell_type": "code",
   "execution_count": null,
   "id": "d4fb7016",
   "metadata": {},
   "outputs": [],
   "source": [
    "df['member_count'] = df['membership'].apply(lambda x: len(x.split(',')) if x != '' else 0) "
   ]
  },
  {
   "cell_type": "code",
   "execution_count": null,
   "id": "151d0e17",
   "metadata": {},
   "outputs": [],
   "source": [
    "df['member_count'].max()"
   ]
  },
  {
   "cell_type": "code",
   "execution_count": null,
   "id": "d9ac0f47",
   "metadata": {},
   "outputs": [],
   "source": [
    "df[df['member_count'] == 10]['membership'].values"
   ]
  },
  {
   "cell_type": "code",
   "execution_count": null,
   "id": "bad85bdc",
   "metadata": {},
   "outputs": [],
   "source": [
    "def membershipname(text):\n",
    "    \n",
    "    if text == '':\n",
    "        return ''\n",
    "    else:\n",
    "        member_ship_name = []\n",
    "        for word in text.split(', '):\n",
    "            member_ship_name.append(word.split(':')[0])\n",
    "        \n",
    "        return member_ship_name "
   ]
  },
  {
   "cell_type": "code",
   "execution_count": null,
   "id": "52e2929e",
   "metadata": {},
   "outputs": [],
   "source": [
    "df['member_ship_name'] = df['membership'].apply(lambda x: membershipname(x)) "
   ]
  },
  {
   "cell_type": "code",
   "execution_count": null,
   "id": "512a0fab",
   "metadata": {},
   "outputs": [],
   "source": [
    "def membership(text):\n",
    "    \n",
    "    if text == '':\n",
    "        return ''\n",
    "    else:\n",
    "        member_ship = []\n",
    "        for word in text.split(', '):\n",
    "            member_ship.append(word.split(':')[1])\n",
    "        \n",
    "        return member_ship "
   ]
  },
  {
   "cell_type": "code",
   "execution_count": null,
   "id": "de5dd64e",
   "metadata": {},
   "outputs": [],
   "source": [
    "df['membership'] = df['membership'].apply(lambda x: membership(x))"
   ]
  },
  {
   "cell_type": "code",
   "execution_count": null,
   "id": "e59c8f9a",
   "metadata": {},
   "outputs": [],
   "source": [
    "df[['hrId', 'timeIsoStr']].head()"
   ]
  },
  {
   "cell_type": "code",
   "execution_count": null,
   "id": "0b01e992",
   "metadata": {},
   "outputs": [],
   "source": [
    "df['timeIsoStr'].isna().sum()"
   ]
  },
  {
   "cell_type": "code",
   "execution_count": null,
   "id": "60676676",
   "metadata": {},
   "outputs": [],
   "source": [
    "df['timeIsoStr'] = pd.to_datetime(df['timeIsoStr'])"
   ]
  },
  {
   "cell_type": "code",
   "execution_count": null,
   "id": "ed651d2f",
   "metadata": {},
   "outputs": [],
   "source": [
    "df['timeIsoStr'].agg(['min', 'max'])"
   ]
  },
  {
   "cell_type": "code",
   "execution_count": null,
   "id": "ae1492d7",
   "metadata": {},
   "outputs": [],
   "source": [
    "df['injuredNumber'].unique()"
   ]
  },
  {
   "cell_type": "code",
   "execution_count": null,
   "id": "0bac9b76",
   "metadata": {},
   "outputs": [],
   "source": [
    "df['injuredNumber'].isna().sum()"
   ]
  },
  {
   "cell_type": "code",
   "execution_count": null,
   "id": "b43c73a2",
   "metadata": {},
   "outputs": [],
   "source": [
    "df['injuredNumber'] = 0"
   ]
  },
  {
   "cell_type": "code",
   "execution_count": null,
   "id": "4cc01ddb",
   "metadata": {},
   "outputs": [],
   "source": [
    "df['injuredNumber'].isna().sum()"
   ]
  },
  {
   "cell_type": "code",
   "execution_count": null,
   "id": "39437915",
   "metadata": {},
   "outputs": [],
   "source": [
    "df.drop(columns='injuredNumber', inplace=True)"
   ]
  },
  {
   "cell_type": "code",
   "execution_count": null,
   "id": "1e0a0f47",
   "metadata": {},
   "outputs": [],
   "source": [
    "df['responseStatus'].unique()"
   ]
  },
  {
   "cell_type": "code",
   "execution_count": null,
   "id": "ab5c754b",
   "metadata": {},
   "outputs": [],
   "source": [
    "df['responseStatus'].isna().sum()"
   ]
  },
  {
   "cell_type": "code",
   "execution_count": null,
   "id": "44297f3c",
   "metadata": {},
   "outputs": [],
   "source": [
    "df['responseStatus'].fillna('0', inplace=True)"
   ]
  },
  {
   "cell_type": "code",
   "execution_count": null,
   "id": "a87467f5",
   "metadata": {},
   "outputs": [],
   "source": [
    "df['responseStatus'] = df['responseStatus'].astype('int')"
   ]
  },
  {
   "cell_type": "code",
   "execution_count": null,
   "id": "531737b8",
   "metadata": {},
   "outputs": [],
   "source": [
    "df['responseStatus'].value_counts()"
   ]
  },
  {
   "cell_type": "code",
   "execution_count": null,
   "id": "c5abdd8e",
   "metadata": {},
   "outputs": [],
   "source": [
    "df['actionTimeIsoStr'].isna().sum() / df.shape[0]"
   ]
  },
  {
   "cell_type": "code",
   "execution_count": null,
   "id": "ef5640d8",
   "metadata": {},
   "outputs": [],
   "source": [
    "df.drop(columns='actionTimeIsoStr', inplace=True)"
   ]
  },
  {
   "cell_type": "code",
   "execution_count": null,
   "id": "742d5d68",
   "metadata": {},
   "outputs": [],
   "source": [
    "df['assignTimeIsoStr'].isna().sum() / df.shape[0]"
   ]
  },
  {
   "cell_type": "code",
   "execution_count": null,
   "id": "b74b133b",
   "metadata": {},
   "outputs": [],
   "source": [
    "df[['timeIsoStr', 'assignTimeIsoStr']].sort_values(by='assignTimeIsoStr').head()"
   ]
  },
  {
   "cell_type": "code",
   "execution_count": null,
   "id": "3e316c43",
   "metadata": {},
   "outputs": [],
   "source": [
    "df.drop(columns='assignTimeIsoStr', inplace=True)"
   ]
  },
  {
   "cell_type": "code",
   "execution_count": null,
   "id": "e0edfd76",
   "metadata": {},
   "outputs": [],
   "source": [
    "df.shape"
   ]
  },
  {
   "cell_type": "code",
   "execution_count": null,
   "id": "1eab8cfe",
   "metadata": {},
   "outputs": [],
   "source": [
    "df['cardId'].nunique()"
   ]
  },
  {
   "cell_type": "code",
   "execution_count": null,
   "id": "8d93fbdf",
   "metadata": {},
   "outputs": [],
   "source": [
    "cardId_count_index = df.groupby('cardId')['cardId'].count()[df.groupby('cardId')['cardId'].count() > 1].index\n",
    "cardId_count_index"
   ]
  },
  {
   "cell_type": "code",
   "execution_count": null,
   "id": "b7f43b62",
   "metadata": {},
   "outputs": [],
   "source": [
    "df[df['cardId'].isin(cardId_count_index)].sort_values(by='cardId')"
   ]
  },
  {
   "cell_type": "code",
   "execution_count": null,
   "id": "f4723d3e",
   "metadata": {},
   "outputs": [],
   "source": [
    "df[df['cardId'].isin(cardId_count_index)].sort_values(by='cardId').shape"
   ]
  },
  {
   "cell_type": "code",
   "execution_count": null,
   "id": "62102185",
   "metadata": {},
   "outputs": [],
   "source": [
    "df.drop_duplicates(subset='cardId', inplace=True)"
   ]
  },
  {
   "cell_type": "code",
   "execution_count": null,
   "id": "668cbdca",
   "metadata": {},
   "outputs": [],
   "source": [
    "df['dispatchesId'].isna().sum() / df.shape[0]"
   ]
  },
  {
   "cell_type": "code",
   "execution_count": null,
   "id": "1443ab87",
   "metadata": {},
   "outputs": [],
   "source": [
    "df.drop(columns='dispatchesId', inplace=True)"
   ]
  },
  {
   "cell_type": "code",
   "execution_count": null,
   "id": "69bd9cb1",
   "metadata": {},
   "outputs": [],
   "source": [
    "df['isChemFlood'].unique()"
   ]
  },
  {
   "cell_type": "code",
   "execution_count": null,
   "id": "aaa26285",
   "metadata": {},
   "outputs": [],
   "source": [
    "df['isChemFlood'] = 'false'"
   ]
  },
  {
   "cell_type": "code",
   "execution_count": null,
   "id": "977c6285",
   "metadata": {},
   "outputs": [],
   "source": [
    "df.drop(columns='isChemFlood', inplace=True)"
   ]
  },
  {
   "cell_type": "code",
   "execution_count": null,
   "id": "95f37f1f",
   "metadata": {},
   "outputs": [],
   "source": [
    "df['point'].isna().sum()"
   ]
  },
  {
   "cell_type": "code",
   "execution_count": null,
   "id": "cf6a38b5",
   "metadata": {},
   "outputs": [],
   "source": [
    "df['point'].fillna(\"[{'lat': 0.0, 'lon': 0.0}]\", inplace=True)"
   ]
  },
  {
   "cell_type": "code",
   "execution_count": null,
   "id": "06ab23d5",
   "metadata": {},
   "outputs": [],
   "source": [
    "df['point'] = df['point'].apply(lambda x: x[1:-1])"
   ]
  },
  {
   "cell_type": "code",
   "execution_count": null,
   "id": "5f5440ff",
   "metadata": {},
   "outputs": [],
   "source": [
    "df['point'] = df['point'].apply(lambda x: eval(x))"
   ]
  },
  {
   "cell_type": "code",
   "execution_count": null,
   "id": "6ae11606",
   "metadata": {},
   "outputs": [],
   "source": [
    "df['lat'] = df['point'].apply(lambda x: x['lat'])"
   ]
  },
  {
   "cell_type": "code",
   "execution_count": null,
   "id": "b9450a74",
   "metadata": {},
   "outputs": [],
   "source": [
    "df['lon'] = df['point'].apply(lambda x: x['lon'])"
   ]
  },
  {
   "cell_type": "code",
   "execution_count": null,
   "id": "d4287e55",
   "metadata": {},
   "outputs": [],
   "source": [
    "df.drop(columns='point', inplace=True)"
   ]
  },
  {
   "cell_type": "code",
   "execution_count": null,
   "id": "e4d55c41",
   "metadata": {},
   "outputs": [],
   "source": [
    "(df.isna().sum() / df.shape[0]).round(4) * 100"
   ]
  },
  {
   "cell_type": "code",
   "execution_count": null,
   "id": "11be3ca8",
   "metadata": {},
   "outputs": [],
   "source": [
    "df['ierId'].tail()"
   ]
  },
  {
   "cell_type": "code",
   "execution_count": null,
   "id": "c7fcbe00",
   "metadata": {},
   "outputs": [],
   "source": [
    "df.drop(columns='ierId', inplace=True)"
   ]
  },
  {
   "cell_type": "code",
   "execution_count": null,
   "id": "9b69b7a9",
   "metadata": {},
   "outputs": [],
   "source": [
    "df['action'].dropna().tail()"
   ]
  },
  {
   "cell_type": "code",
   "execution_count": null,
   "id": "d5da9c96",
   "metadata": {},
   "outputs": [],
   "source": [
    "df.drop(columns='action', inplace=True)"
   ]
  },
  {
   "cell_type": "code",
   "execution_count": null,
   "id": "bc681656",
   "metadata": {},
   "outputs": [],
   "source": [
    "df['ierType'].dropna().tail()"
   ]
  },
  {
   "cell_type": "code",
   "execution_count": null,
   "id": "a7271f37",
   "metadata": {},
   "outputs": [],
   "source": [
    "df.drop(columns='ierType', inplace=True)"
   ]
  },
  {
   "cell_type": "code",
   "execution_count": null,
   "id": "57d68e43",
   "metadata": {},
   "outputs": [],
   "source": [
    "df['cityCode'].dropna().tail()"
   ]
  },
  {
   "cell_type": "code",
   "execution_count": null,
   "id": "52061a47",
   "metadata": {},
   "outputs": [],
   "source": [
    "df.drop(columns='cityCode', inplace=True)"
   ]
  },
  {
   "cell_type": "code",
   "execution_count": null,
   "id": "837dc352",
   "metadata": {},
   "outputs": [],
   "source": [
    "df['isDanger'].dropna().tail()"
   ]
  },
  {
   "cell_type": "code",
   "execution_count": null,
   "id": "334f1d5b",
   "metadata": {},
   "outputs": [],
   "source": [
    "df.drop(columns='isDanger', inplace=True)"
   ]
  },
  {
   "cell_type": "code",
   "execution_count": null,
   "id": "470c375a",
   "metadata": {},
   "outputs": [],
   "source": [
    "df['cityFiasId'].dropna().tail()"
   ]
  },
  {
   "cell_type": "code",
   "execution_count": null,
   "id": "8cfe04af",
   "metadata": {},
   "outputs": [],
   "source": [
    "df.drop(columns='cityFiasId', inplace=True)"
   ]
  },
  {
   "cell_type": "code",
   "execution_count": null,
   "id": "0c1a286f",
   "metadata": {},
   "outputs": [],
   "source": [
    "df['streetCode'].dropna().tail()"
   ]
  },
  {
   "cell_type": "code",
   "execution_count": null,
   "id": "85393ff0",
   "metadata": {},
   "outputs": [],
   "source": [
    "df.drop(columns='streetCode', inplace=True)"
   ]
  },
  {
   "cell_type": "code",
   "execution_count": null,
   "id": "ce451dc8",
   "metadata": {},
   "outputs": [],
   "source": [
    "df['districtCode'].dropna().tail()"
   ]
  },
  {
   "cell_type": "code",
   "execution_count": null,
   "id": "99b01255",
   "metadata": {},
   "outputs": [],
   "source": [
    "df.drop(columns='districtCode', inplace=True)"
   ]
  },
  {
   "cell_type": "code",
   "execution_count": null,
   "id": "aaa0e9d5",
   "metadata": {},
   "outputs": [],
   "source": [
    "df['streetFiasId'].dropna().tail()"
   ]
  },
  {
   "cell_type": "code",
   "execution_count": null,
   "id": "0743a663",
   "metadata": {},
   "outputs": [],
   "source": [
    "df.drop(columns='streetFiasId', inplace=True)"
   ]
  },
  {
   "cell_type": "code",
   "execution_count": null,
   "id": "a00cc566",
   "metadata": {},
   "outputs": [],
   "source": [
    "df['clarification'].dropna().tail()"
   ]
  },
  {
   "cell_type": "code",
   "execution_count": null,
   "id": "5c8ff329",
   "metadata": {},
   "outputs": [],
   "source": [
    "df.drop(columns='clarification', inplace=True)"
   ]
  },
  {
   "cell_type": "code",
   "execution_count": null,
   "id": "1bd40862",
   "metadata": {},
   "outputs": [],
   "source": [
    "df['acceptOperatorStr'].dropna().tail()"
   ]
  },
  {
   "cell_type": "code",
   "execution_count": null,
   "id": "b945b0bd",
   "metadata": {},
   "outputs": [],
   "source": [
    "df.drop(columns='acceptOperatorStr', inplace=True)"
   ]
  },
  {
   "cell_type": "code",
   "execution_count": null,
   "id": "948011da",
   "metadata": {},
   "outputs": [],
   "source": [
    "df.shape"
   ]
  },
  {
   "cell_type": "code",
   "execution_count": null,
   "id": "ea36dd38",
   "metadata": {},
   "outputs": [],
   "source": [
    "df.info()"
   ]
  },
  {
   "cell_type": "code",
   "execution_count": null,
   "id": "c3af0461",
   "metadata": {},
   "outputs": [],
   "source": [
    "df.rename(columns={'isDanger.1': 'isDanger'}, inplace=True)"
   ]
  },
  {
   "cell_type": "code",
   "execution_count": null,
   "id": "20c961bb",
   "metadata": {},
   "outputs": [],
   "source": [
    "df['isNear'].value_counts()"
   ]
  },
  {
   "cell_type": "code",
   "execution_count": null,
   "id": "336a56e0",
   "metadata": {},
   "outputs": [],
   "source": [
    "df.drop(columns='hrId', inplace=True)"
   ]
  },
  {
   "cell_type": "code",
   "execution_count": null,
   "id": "ce19d751",
   "metadata": {},
   "outputs": [],
   "source": [
    "df.shape"
   ]
  },
  {
   "cell_type": "code",
   "execution_count": null,
   "id": "28092586",
   "metadata": {},
   "outputs": [],
   "source": [
    "df.to_csv('data_clean/2020_2.csv', index=False)"
   ]
  },
  {
   "cell_type": "code",
   "execution_count": null,
   "id": "41305fee",
   "metadata": {},
   "outputs": [],
   "source": []
  }
 ],
 "metadata": {
  "kernelspec": {
   "display_name": "Python 3",
   "language": "python",
   "name": "python3"
  },
  "language_info": {
   "codemirror_mode": {
    "name": "ipython",
    "version": 3
   },
   "file_extension": ".py",
   "mimetype": "text/x-python",
   "name": "python",
   "nbconvert_exporter": "python",
   "pygments_lexer": "ipython3",
   "version": "3.8.8"
  }
 },
 "nbformat": 4,
 "nbformat_minor": 5
}

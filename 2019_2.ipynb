{
 "cells": [
  {
   "cell_type": "code",
   "execution_count": null,
   "id": "0598f9b6",
   "metadata": {},
   "outputs": [],
   "source": [
    "import pandas as pd\n",
    "import numpy as np"
   ]
  },
  {
   "cell_type": "code",
   "execution_count": null,
   "id": "49b699c0",
   "metadata": {},
   "outputs": [],
   "source": [
    "df = pd.read_csv('data/10-12.2019.csv', sep=';', encoding='windows-1251', low_memory=False)"
   ]
  },
  {
   "cell_type": "code",
   "execution_count": null,
   "id": "dc26f103",
   "metadata": {},
   "outputs": [],
   "source": [
    "df.head()"
   ]
  },
  {
   "cell_type": "code",
   "execution_count": null,
   "id": "72b847c0",
   "metadata": {},
   "outputs": [],
   "source": [
    "df.shape"
   ]
  },
  {
   "cell_type": "code",
   "execution_count": null,
   "id": "08ad4307",
   "metadata": {},
   "outputs": [],
   "source": [
    "df.columns"
   ]
  },
  {
   "cell_type": "code",
   "execution_count": null,
   "id": "312c0c40",
   "metadata": {},
   "outputs": [],
   "source": [
    "df.drop(columns=['Unnamed: 36'], inplace=True)"
   ]
  },
  {
   "cell_type": "code",
   "execution_count": null,
   "id": "1031c565",
   "metadata": {},
   "outputs": [],
   "source": [
    "df.shape"
   ]
  },
  {
   "cell_type": "code",
   "execution_count": null,
   "id": "58fdb7f5",
   "metadata": {},
   "outputs": [],
   "source": [
    "df.columns = [column.split()[0] for column in df.columns]"
   ]
  },
  {
   "cell_type": "code",
   "execution_count": null,
   "id": "b5f9186e",
   "metadata": {},
   "outputs": [],
   "source": [
    "df.columns"
   ]
  },
  {
   "cell_type": "code",
   "execution_count": null,
   "id": "d058571c",
   "metadata": {},
   "outputs": [],
   "source": [
    "df['cdPn'].unique()"
   ]
  },
  {
   "cell_type": "code",
   "execution_count": null,
   "id": "3124ba51",
   "metadata": {},
   "outputs": [],
   "source": [
    "df['cdPn'] = df['cdPn'].apply(lambda x: x.strip() if x is not np.nan else '')"
   ]
  },
  {
   "cell_type": "code",
   "execution_count": null,
   "id": "4d86ed48",
   "metadata": {},
   "outputs": [],
   "source": [
    "col_names = []\n",
    "for column in df.columns:\n",
    "    try:\n",
    "        df[column] = df[column].apply(lambda x: x.strip() if x is not np.nan else '')\n",
    "    except:\n",
    "        col_names.append(column)  "
   ]
  },
  {
   "cell_type": "code",
   "execution_count": null,
   "id": "a37d4c05",
   "metadata": {},
   "outputs": [],
   "source": [
    "df[col_names].head()"
   ]
  },
  {
   "cell_type": "code",
   "execution_count": null,
   "id": "37b61cdb",
   "metadata": {},
   "outputs": [],
   "source": [
    "df.head()"
   ]
  },
  {
   "cell_type": "code",
   "execution_count": null,
   "id": "f564d8f4",
   "metadata": {},
   "outputs": [],
   "source": [
    "df = df.replace('', np.nan)"
   ]
  },
  {
   "cell_type": "code",
   "execution_count": null,
   "id": "e146b86d",
   "metadata": {},
   "outputs": [],
   "source": [
    "df.shape"
   ]
  },
  {
   "cell_type": "code",
   "execution_count": null,
   "id": "c17da89f",
   "metadata": {},
   "outputs": [],
   "source": [
    "(df.isna().sum() / df.shape[0]).round(4) * 100"
   ]
  },
  {
   "cell_type": "code",
   "execution_count": null,
   "id": "8f9ff010",
   "metadata": {},
   "outputs": [],
   "source": [
    "column_nan = df.isna().sum()[df.isna().sum() == df.shape[0]].index\n",
    "column_nan"
   ]
  },
  {
   "cell_type": "code",
   "execution_count": null,
   "id": "9ff7c607",
   "metadata": {},
   "outputs": [],
   "source": [
    "df.drop(columns=column_nan, inplace=True)"
   ]
  },
  {
   "cell_type": "code",
   "execution_count": null,
   "id": "a3931d63",
   "metadata": {},
   "outputs": [],
   "source": [
    "df.head()"
   ]
  },
  {
   "cell_type": "code",
   "execution_count": null,
   "id": "85927631",
   "metadata": {},
   "outputs": [],
   "source": [
    "df.shape[0]"
   ]
  },
  {
   "cell_type": "code",
   "execution_count": null,
   "id": "a3a72a3d",
   "metadata": {},
   "outputs": [],
   "source": [
    "(df['name'] == df['type']).sum()"
   ]
  },
  {
   "cell_type": "code",
   "execution_count": null,
   "id": "e8afa173",
   "metadata": {},
   "outputs": [],
   "source": [
    "df.drop(columns='type', inplace=True)"
   ]
  },
  {
   "cell_type": "code",
   "execution_count": null,
   "id": "1f37da4a",
   "metadata": {},
   "outputs": [],
   "source": [
    "df['name'].nunique()"
   ]
  },
  {
   "cell_type": "code",
   "execution_count": null,
   "id": "eb33dee2",
   "metadata": {},
   "outputs": [],
   "source": [
    "df['name'].isna().sum()"
   ]
  },
  {
   "cell_type": "code",
   "execution_count": null,
   "id": "9c0f50cc",
   "metadata": {},
   "outputs": [],
   "source": [
    "df[['hrId', 'name']].sort_values(by='name')[50:100]"
   ]
  },
  {
   "cell_type": "code",
   "execution_count": null,
   "id": "86f36265",
   "metadata": {},
   "outputs": [],
   "source": [
    "df['type'] = df['hrId'].apply(lambda x: ' '.join(x.split('_')[2:-1]))"
   ]
  },
  {
   "cell_type": "code",
   "execution_count": null,
   "id": "f9394dd6",
   "metadata": {},
   "outputs": [],
   "source": [
    "df['level'].unique()"
   ]
  },
  {
   "cell_type": "code",
   "execution_count": null,
   "id": "0dd45198",
   "metadata": {},
   "outputs": [],
   "source": [
    "df['level'].isna().sum()"
   ]
  },
  {
   "cell_type": "code",
   "execution_count": null,
   "id": "eefbdb37",
   "metadata": {},
   "outputs": [],
   "source": [
    "df['state'].unique()"
   ]
  },
  {
   "cell_type": "code",
   "execution_count": null,
   "id": "5e116abd",
   "metadata": {},
   "outputs": [],
   "source": [
    "df['state'].isna().sum()"
   ]
  },
  {
   "cell_type": "code",
   "execution_count": null,
   "id": "90ec2ac5",
   "metadata": {},
   "outputs": [],
   "source": [
    "df['regionId'].nunique()"
   ]
  },
  {
   "cell_type": "code",
   "execution_count": null,
   "id": "20abff74",
   "metadata": {},
   "outputs": [],
   "source": [
    "df['regionId'].isna().sum()"
   ]
  },
  {
   "cell_type": "code",
   "execution_count": null,
   "id": "dfe36ae5",
   "metadata": {},
   "outputs": [],
   "source": [
    "df['region'].nunique()"
   ]
  },
  {
   "cell_type": "code",
   "execution_count": null,
   "id": "a7d62b9c",
   "metadata": {},
   "outputs": [],
   "source": [
    "df['region'].isna().sum()"
   ]
  },
  {
   "cell_type": "code",
   "execution_count": null,
   "id": "94399437",
   "metadata": {},
   "outputs": [],
   "source": [
    "df[['region', 'regionId']].drop_duplicates().sort_values(by='regionId')"
   ]
  },
  {
   "cell_type": "code",
   "execution_count": null,
   "id": "eca4f1fb",
   "metadata": {},
   "outputs": [],
   "source": [
    "df.drop(columns='regionId', inplace=True)"
   ]
  },
  {
   "cell_type": "code",
   "execution_count": null,
   "id": "233c2cd1",
   "metadata": {},
   "outputs": [],
   "source": [
    "df['iscity'] = df['region'].apply(lambda x: 1 if 'Волгоград' in x else 0)"
   ]
  },
  {
   "cell_type": "code",
   "execution_count": null,
   "id": "5f2e9c0e",
   "metadata": {},
   "outputs": [],
   "source": [
    "df['region'] = df['region'].apply(lambda x: x.split()[-1] if x != 'не задано' else 'не задано')"
   ]
  },
  {
   "cell_type": "code",
   "execution_count": null,
   "id": "7b3fa0c7",
   "metadata": {},
   "outputs": [],
   "source": [
    "df['isDanger.1'].unique()"
   ]
  },
  {
   "cell_type": "code",
   "execution_count": null,
   "id": "1c85dd5a",
   "metadata": {},
   "outputs": [],
   "source": [
    "df['isDanger.1'].isna().sum()"
   ]
  },
  {
   "cell_type": "code",
   "execution_count": null,
   "id": "56f5c33f",
   "metadata": {},
   "outputs": [],
   "source": [
    "df.rename(columns={'isDanger.1': 'isDanger'}, inplace=True)"
   ]
  },
  {
   "cell_type": "code",
   "execution_count": null,
   "id": "9f1685e3",
   "metadata": {},
   "outputs": [],
   "source": [
    "df['isBlocking'].unique()"
   ]
  },
  {
   "cell_type": "code",
   "execution_count": null,
   "id": "0e5fd567",
   "metadata": {},
   "outputs": [],
   "source": [
    "df['isBlocking'].isna().sum()"
   ]
  },
  {
   "cell_type": "code",
   "execution_count": null,
   "id": "b7f32b95",
   "metadata": {},
   "outputs": [],
   "source": [
    "df['lostNumber'].unique()"
   ]
  },
  {
   "cell_type": "code",
   "execution_count": null,
   "id": "58a2f9c4",
   "metadata": {},
   "outputs": [],
   "source": [
    "df['lostNumber'].isna().sum()"
   ]
  },
  {
   "cell_type": "code",
   "execution_count": null,
   "id": "3355166c",
   "metadata": {},
   "outputs": [],
   "source": [
    "df.drop(columns='lostNumber', inplace=True)"
   ]
  },
  {
   "cell_type": "code",
   "execution_count": null,
   "id": "3250753c",
   "metadata": {},
   "outputs": [],
   "source": [
    "df['membership'].nunique()"
   ]
  },
  {
   "cell_type": "code",
   "execution_count": null,
   "id": "ea243a2b",
   "metadata": {},
   "outputs": [],
   "source": [
    "df['membership'].isna().sum() / df.shape[0]"
   ]
  },
  {
   "cell_type": "code",
   "execution_count": null,
   "id": "6985c9ac",
   "metadata": {},
   "outputs": [],
   "source": [
    "df['membership'].fillna('', inplace=True)"
   ]
  },
  {
   "cell_type": "code",
   "execution_count": null,
   "id": "78af283a",
   "metadata": {},
   "outputs": [],
   "source": [
    "df['member_count'] = df['membership'].apply(lambda x: len(x.split(',')) if x != '' else 0) "
   ]
  },
  {
   "cell_type": "code",
   "execution_count": null,
   "id": "96ad0cb9",
   "metadata": {},
   "outputs": [],
   "source": [
    "df['member_count'].max()"
   ]
  },
  {
   "cell_type": "code",
   "execution_count": null,
   "id": "fa382b0b",
   "metadata": {},
   "outputs": [],
   "source": [
    "df[df['member_count'] == 10]['membership'].values"
   ]
  },
  {
   "cell_type": "code",
   "execution_count": null,
   "id": "bfc8e802",
   "metadata": {},
   "outputs": [],
   "source": [
    "def membershipname(text):\n",
    "    \n",
    "    if text == '':\n",
    "        return ''\n",
    "    else:\n",
    "        member_ship_name = []\n",
    "        for word in text.split(', '):\n",
    "            member_ship_name.append(word.split(':')[0])\n",
    "        \n",
    "        return member_ship_name "
   ]
  },
  {
   "cell_type": "code",
   "execution_count": null,
   "id": "d00871f0",
   "metadata": {},
   "outputs": [],
   "source": [
    "df['member_ship_name'] = df['membership'].apply(lambda x: membershipname(x)) "
   ]
  },
  {
   "cell_type": "code",
   "execution_count": null,
   "id": "72dd6d27",
   "metadata": {},
   "outputs": [],
   "source": [
    "def membership(text):\n",
    "    \n",
    "    if text == '':\n",
    "        return ''\n",
    "    else:\n",
    "        member_ship = []\n",
    "        for word in text.split(', '):\n",
    "            member_ship.append(word.split(':')[1])\n",
    "        \n",
    "        return member_ship "
   ]
  },
  {
   "cell_type": "code",
   "execution_count": null,
   "id": "3f6530c0",
   "metadata": {},
   "outputs": [],
   "source": [
    "df['membership'] = df['membership'].apply(lambda x: membership(x))"
   ]
  },
  {
   "cell_type": "code",
   "execution_count": null,
   "id": "4ee8ec76",
   "metadata": {},
   "outputs": [],
   "source": [
    "df[['hrId', 'timeIsoStr']].head()"
   ]
  },
  {
   "cell_type": "code",
   "execution_count": null,
   "id": "320cf131",
   "metadata": {},
   "outputs": [],
   "source": [
    "df['timeIsoStr'].isna().sum()"
   ]
  },
  {
   "cell_type": "code",
   "execution_count": null,
   "id": "9d191b44",
   "metadata": {},
   "outputs": [],
   "source": [
    "df['timeIsoStr'].dtype"
   ]
  },
  {
   "cell_type": "code",
   "execution_count": null,
   "id": "e4c92ba5",
   "metadata": {},
   "outputs": [],
   "source": [
    "df[df['timeIsoStr'] == '2019-11-01+03:00'][['timeIsoStr', 'assignTimeIsoStr']]"
   ]
  },
  {
   "cell_type": "code",
   "execution_count": null,
   "id": "922e8165",
   "metadata": {},
   "outputs": [],
   "source": [
    "df['timeIsoStr'][174967] = '2019-11-01T03:00:00.000' "
   ]
  },
  {
   "cell_type": "code",
   "execution_count": null,
   "id": "acaf7997",
   "metadata": {},
   "outputs": [],
   "source": [
    "df['timeIsoStr'] = pd.to_datetime(df['timeIsoStr'])"
   ]
  },
  {
   "cell_type": "code",
   "execution_count": null,
   "id": "dbfe5b5d",
   "metadata": {},
   "outputs": [],
   "source": [
    "df['timeIsoStr'].agg(['min', 'max'])"
   ]
  },
  {
   "cell_type": "code",
   "execution_count": null,
   "id": "b50cc729",
   "metadata": {},
   "outputs": [],
   "source": [
    "df['injuredNumber'].unique()"
   ]
  },
  {
   "cell_type": "code",
   "execution_count": null,
   "id": "4da2d7a8",
   "metadata": {},
   "outputs": [],
   "source": [
    "df['injuredNumber'].isna().sum()"
   ]
  },
  {
   "cell_type": "code",
   "execution_count": null,
   "id": "6333280d",
   "metadata": {},
   "outputs": [],
   "source": [
    "df.drop(columns='injuredNumber', inplace=True)"
   ]
  },
  {
   "cell_type": "code",
   "execution_count": null,
   "id": "c26e9d1b",
   "metadata": {},
   "outputs": [],
   "source": [
    "df['responseStatus'].unique()"
   ]
  },
  {
   "cell_type": "code",
   "execution_count": null,
   "id": "b9e73aca",
   "metadata": {},
   "outputs": [],
   "source": [
    "df['responseStatus'].isna().sum()"
   ]
  },
  {
   "cell_type": "code",
   "execution_count": null,
   "id": "5464c454",
   "metadata": {},
   "outputs": [],
   "source": [
    "df['responseStatus'].replace(np.nan, '0', inplace=True)"
   ]
  },
  {
   "cell_type": "code",
   "execution_count": null,
   "id": "95b41061",
   "metadata": {},
   "outputs": [],
   "source": [
    "df['responseStatus'] = df['responseStatus'].astype('int')"
   ]
  },
  {
   "cell_type": "code",
   "execution_count": null,
   "id": "7dceb8bb",
   "metadata": {},
   "outputs": [],
   "source": [
    "df['responseStatus'].value_counts()"
   ]
  },
  {
   "cell_type": "code",
   "execution_count": null,
   "id": "c1856b24",
   "metadata": {},
   "outputs": [],
   "source": [
    "df['actionTimeIsoStr'].unique()"
   ]
  },
  {
   "cell_type": "code",
   "execution_count": null,
   "id": "90ffe70e",
   "metadata": {},
   "outputs": [],
   "source": [
    "df['actionTimeIsoStr'].isna().sum() / df.shape[0]"
   ]
  },
  {
   "cell_type": "code",
   "execution_count": null,
   "id": "7b45e61f",
   "metadata": {},
   "outputs": [],
   "source": [
    "df.drop(columns='actionTimeIsoStr', inplace=True)"
   ]
  },
  {
   "cell_type": "code",
   "execution_count": null,
   "id": "7245e5e6",
   "metadata": {},
   "outputs": [],
   "source": [
    "df['assignTimeIsoStr'].isna().sum() / df.shape[0]"
   ]
  },
  {
   "cell_type": "code",
   "execution_count": null,
   "id": "9ad4fd69",
   "metadata": {},
   "outputs": [],
   "source": [
    "df[['timeIsoStr', 'assignTimeIsoStr']].sort_values(by='assignTimeIsoStr').head()"
   ]
  },
  {
   "cell_type": "code",
   "execution_count": null,
   "id": "32599612",
   "metadata": {},
   "outputs": [],
   "source": [
    "df.drop(columns='assignTimeIsoStr', inplace=True)"
   ]
  },
  {
   "cell_type": "code",
   "execution_count": null,
   "id": "39c180b7",
   "metadata": {},
   "outputs": [],
   "source": [
    "df.shape"
   ]
  },
  {
   "cell_type": "code",
   "execution_count": null,
   "id": "d4633832",
   "metadata": {},
   "outputs": [],
   "source": [
    "df['cardId'].nunique()"
   ]
  },
  {
   "cell_type": "code",
   "execution_count": null,
   "id": "eb9f1864",
   "metadata": {},
   "outputs": [],
   "source": [
    "cardId_count_index = df.groupby('cardId')['cardId'].count()[df.groupby('cardId')['cardId'].count() > 1].index\n",
    "cardId_count_index"
   ]
  },
  {
   "cell_type": "code",
   "execution_count": null,
   "id": "8825dee6",
   "metadata": {},
   "outputs": [],
   "source": [
    "df[df['cardId'].isin(cardId_count_index)].sort_values(by='cardId')"
   ]
  },
  {
   "cell_type": "code",
   "execution_count": null,
   "id": "665df90a",
   "metadata": {},
   "outputs": [],
   "source": [
    "df[df['cardId'].isin(cardId_count_index)].sort_values(by='cardId').shape"
   ]
  },
  {
   "cell_type": "code",
   "execution_count": null,
   "id": "73ab1a60",
   "metadata": {},
   "outputs": [],
   "source": [
    "df.drop_duplicates(subset='cardId', inplace=True)"
   ]
  },
  {
   "cell_type": "code",
   "execution_count": null,
   "id": "aa704454",
   "metadata": {},
   "outputs": [],
   "source": [
    "df['dispatchesId'].isna().sum() / df.shape[0]"
   ]
  },
  {
   "cell_type": "code",
   "execution_count": null,
   "id": "5031f005",
   "metadata": {},
   "outputs": [],
   "source": [
    "df.drop(columns='dispatchesId', inplace=True)"
   ]
  },
  {
   "cell_type": "code",
   "execution_count": null,
   "id": "fd1a4513",
   "metadata": {},
   "outputs": [],
   "source": [
    "df['isChemFlood'].unique()"
   ]
  },
  {
   "cell_type": "code",
   "execution_count": null,
   "id": "99970128",
   "metadata": {},
   "outputs": [],
   "source": [
    "df['isChemFlood'].isna().sum()"
   ]
  },
  {
   "cell_type": "code",
   "execution_count": null,
   "id": "cbdcb6c6",
   "metadata": {},
   "outputs": [],
   "source": [
    "df.drop(columns='isChemFlood', inplace=True)"
   ]
  },
  {
   "cell_type": "code",
   "execution_count": null,
   "id": "83b2425c",
   "metadata": {},
   "outputs": [],
   "source": [
    "df['point'].isna().sum()"
   ]
  },
  {
   "cell_type": "code",
   "execution_count": null,
   "id": "2c7f686a",
   "metadata": {},
   "outputs": [],
   "source": [
    "df['point'].fillna(\"[{'lat': 0.0, 'lon': 0.0}]\", inplace=True)"
   ]
  },
  {
   "cell_type": "code",
   "execution_count": null,
   "id": "9d92f7f4",
   "metadata": {},
   "outputs": [],
   "source": [
    "df['point'] = df['point'].apply(lambda x: x[1:-1])"
   ]
  },
  {
   "cell_type": "code",
   "execution_count": null,
   "id": "e1b0a7a8",
   "metadata": {},
   "outputs": [],
   "source": [
    "df['point'] = df['point'].apply(lambda x: eval(x))"
   ]
  },
  {
   "cell_type": "code",
   "execution_count": null,
   "id": "db215866",
   "metadata": {},
   "outputs": [],
   "source": [
    "df['lat'] = df['point'].apply(lambda x: x['lat'])"
   ]
  },
  {
   "cell_type": "code",
   "execution_count": null,
   "id": "86492e2b",
   "metadata": {},
   "outputs": [],
   "source": [
    "df['lon'] = df['point'].apply(lambda x: x['lon'])"
   ]
  },
  {
   "cell_type": "code",
   "execution_count": null,
   "id": "8ac70074",
   "metadata": {},
   "outputs": [],
   "source": [
    "df.drop(columns='point', inplace=True)"
   ]
  },
  {
   "cell_type": "code",
   "execution_count": null,
   "id": "9d41ada1",
   "metadata": {},
   "outputs": [],
   "source": [
    "df.isna().sum()"
   ]
  },
  {
   "cell_type": "code",
   "execution_count": null,
   "id": "285fdd94",
   "metadata": {},
   "outputs": [],
   "source": [
    "df[df['acceptOperatorFio'].notna()]['acceptOperatorFio']"
   ]
  },
  {
   "cell_type": "code",
   "execution_count": null,
   "id": "d81e4037",
   "metadata": {},
   "outputs": [],
   "source": [
    "df.drop(columns='acceptOperatorFio', inplace=True)"
   ]
  },
  {
   "cell_type": "code",
   "execution_count": null,
   "id": "1b583224",
   "metadata": {},
   "outputs": [],
   "source": [
    "df.shape"
   ]
  },
  {
   "cell_type": "code",
   "execution_count": null,
   "id": "ade4ac33",
   "metadata": {},
   "outputs": [],
   "source": [
    "df.info()"
   ]
  },
  {
   "cell_type": "code",
   "execution_count": null,
   "id": "6b31c96e",
   "metadata": {},
   "outputs": [],
   "source": [
    "df.drop(columns='hrId', inplace=True)"
   ]
  },
  {
   "cell_type": "code",
   "execution_count": null,
   "id": "f27fc9d4",
   "metadata": {},
   "outputs": [],
   "source": [
    "df.to_csv('data_clean/2019_2.csv', index=False)"
   ]
  },
  {
   "cell_type": "code",
   "execution_count": null,
   "id": "a6a4d5a3",
   "metadata": {},
   "outputs": [],
   "source": [
    "df.shape"
   ]
  }
 ],
 "metadata": {
  "kernelspec": {
   "display_name": "Python 3",
   "language": "python",
   "name": "python3"
  },
  "language_info": {
   "codemirror_mode": {
    "name": "ipython",
    "version": 3
   },
   "file_extension": ".py",
   "mimetype": "text/x-python",
   "name": "python",
   "nbconvert_exporter": "python",
   "pygments_lexer": "ipython3",
   "version": "3.8.8"
  }
 },
 "nbformat": 4,
 "nbformat_minor": 5
}

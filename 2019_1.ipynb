{
 "cells": [
  {
   "cell_type": "code",
   "execution_count": null,
   "id": "dad577c0",
   "metadata": {},
   "outputs": [],
   "source": [
    "import pandas as pd\n",
    "import numpy as np"
   ]
  },
  {
   "cell_type": "code",
   "execution_count": null,
   "id": "b656dec1",
   "metadata": {},
   "outputs": [],
   "source": [
    "df = pd.read_csv('data/01-09.2019.csv', sep=';', encoding='windows-1251', low_memory=False)"
   ]
  },
  {
   "cell_type": "code",
   "execution_count": null,
   "id": "f0039814",
   "metadata": {},
   "outputs": [],
   "source": [
    "df.head()"
   ]
  },
  {
   "cell_type": "code",
   "execution_count": null,
   "id": "67454b19",
   "metadata": {},
   "outputs": [],
   "source": [
    "df.shape"
   ]
  },
  {
   "cell_type": "code",
   "execution_count": null,
   "id": "b51187f7",
   "metadata": {},
   "outputs": [],
   "source": [
    "df.columns"
   ]
  },
  {
   "cell_type": "code",
   "execution_count": null,
   "id": "a870ad40",
   "metadata": {},
   "outputs": [],
   "source": [
    "df.drop(columns=['Unnamed: 36', 'Unnamed: 37'], inplace=True)"
   ]
  },
  {
   "cell_type": "code",
   "execution_count": null,
   "id": "50454c19",
   "metadata": {},
   "outputs": [],
   "source": [
    "df.shape"
   ]
  },
  {
   "cell_type": "code",
   "execution_count": null,
   "id": "d7cf1c30",
   "metadata": {},
   "outputs": [],
   "source": [
    "df.columns = [column.split()[0] for column in df.columns]"
   ]
  },
  {
   "cell_type": "code",
   "execution_count": null,
   "id": "90081537",
   "metadata": {},
   "outputs": [],
   "source": [
    "df.columns"
   ]
  },
  {
   "cell_type": "code",
   "execution_count": null,
   "id": "8494e94f",
   "metadata": {},
   "outputs": [],
   "source": [
    "df['cdPn'].unique()"
   ]
  },
  {
   "cell_type": "code",
   "execution_count": null,
   "id": "18875a69",
   "metadata": {},
   "outputs": [],
   "source": [
    "df['cdPn'] = df['cdPn'].apply(lambda x: x.strip() if x is not np.nan else '')"
   ]
  },
  {
   "cell_type": "code",
   "execution_count": null,
   "id": "30989366",
   "metadata": {},
   "outputs": [],
   "source": [
    "col_names = []\n",
    "for column in df.columns:\n",
    "    try:\n",
    "        df[column] = df[column].apply(lambda x: x.strip() if x is not np.nan else '')\n",
    "    except:\n",
    "        col_names.append(column)       "
   ]
  },
  {
   "cell_type": "code",
   "execution_count": null,
   "id": "9379d2a3",
   "metadata": {},
   "outputs": [],
   "source": [
    "df[col_names].head()"
   ]
  },
  {
   "cell_type": "code",
   "execution_count": null,
   "id": "74e42cf0",
   "metadata": {},
   "outputs": [],
   "source": [
    "df.head()"
   ]
  },
  {
   "cell_type": "code",
   "execution_count": null,
   "id": "47483efb",
   "metadata": {},
   "outputs": [],
   "source": [
    "df = df.replace('', np.nan)"
   ]
  },
  {
   "cell_type": "code",
   "execution_count": null,
   "id": "57e7e1f2",
   "metadata": {},
   "outputs": [],
   "source": [
    "df.shape"
   ]
  },
  {
   "cell_type": "code",
   "execution_count": null,
   "id": "157e89c3",
   "metadata": {},
   "outputs": [],
   "source": [
    "(df.isna().sum() / df.shape[0]).round(4) * 100"
   ]
  },
  {
   "cell_type": "code",
   "execution_count": null,
   "id": "12a0856d",
   "metadata": {},
   "outputs": [],
   "source": [
    "column_nan = df.isna().sum()[df.isna().sum() == df.shape[0]].index\n",
    "column_nan"
   ]
  },
  {
   "cell_type": "code",
   "execution_count": null,
   "id": "1409d7b7",
   "metadata": {
    "scrolled": true
   },
   "outputs": [],
   "source": [
    "len(column_nan)"
   ]
  },
  {
   "cell_type": "code",
   "execution_count": null,
   "id": "f8a9c85b",
   "metadata": {},
   "outputs": [],
   "source": [
    "df.drop(columns=column_nan, inplace=True)"
   ]
  },
  {
   "cell_type": "code",
   "execution_count": null,
   "id": "a9282cc2",
   "metadata": {},
   "outputs": [],
   "source": [
    "df.head()"
   ]
  },
  {
   "cell_type": "code",
   "execution_count": null,
   "id": "c1e38104",
   "metadata": {},
   "outputs": [],
   "source": [
    "df.tail()"
   ]
  },
  {
   "cell_type": "code",
   "execution_count": null,
   "id": "d626cd14",
   "metadata": {},
   "outputs": [],
   "source": [
    "df.shape[0]"
   ]
  },
  {
   "cell_type": "code",
   "execution_count": null,
   "id": "600ece58",
   "metadata": {},
   "outputs": [],
   "source": [
    "(df['name'] == df['type']).sum()"
   ]
  },
  {
   "cell_type": "code",
   "execution_count": null,
   "id": "53b58827",
   "metadata": {},
   "outputs": [],
   "source": [
    "df.drop(columns='type', inplace=True)"
   ]
  },
  {
   "cell_type": "code",
   "execution_count": null,
   "id": "12527a3b",
   "metadata": {},
   "outputs": [],
   "source": [
    "df['name'].nunique()"
   ]
  },
  {
   "cell_type": "code",
   "execution_count": null,
   "id": "85c5e543",
   "metadata": {},
   "outputs": [],
   "source": [
    "df['name'].isna().sum()"
   ]
  },
  {
   "cell_type": "code",
   "execution_count": null,
   "id": "8ea07fa3",
   "metadata": {},
   "outputs": [],
   "source": [
    "df[['hrId', 'name']].sort_values(by='name')[50:100]"
   ]
  },
  {
   "cell_type": "code",
   "execution_count": null,
   "id": "fafef5f5",
   "metadata": {},
   "outputs": [],
   "source": [
    "df['type'] = df['hrId'].apply(lambda x: ' '.join(x.split('_')[2:-1]))"
   ]
  },
  {
   "cell_type": "code",
   "execution_count": null,
   "id": "6322b8e7",
   "metadata": {},
   "outputs": [],
   "source": [
    "df['level'].unique()"
   ]
  },
  {
   "cell_type": "code",
   "execution_count": null,
   "id": "4b00a716",
   "metadata": {},
   "outputs": [],
   "source": [
    "df['level'].isna().sum()"
   ]
  },
  {
   "cell_type": "code",
   "execution_count": null,
   "id": "a10ae81c",
   "metadata": {},
   "outputs": [],
   "source": [
    "df['state'].unique()"
   ]
  },
  {
   "cell_type": "code",
   "execution_count": null,
   "id": "904eb906",
   "metadata": {},
   "outputs": [],
   "source": [
    "df['state'].isna().sum()"
   ]
  },
  {
   "cell_type": "code",
   "execution_count": null,
   "id": "b05cc003",
   "metadata": {},
   "outputs": [],
   "source": [
    "df['regionId'].nunique()"
   ]
  },
  {
   "cell_type": "code",
   "execution_count": null,
   "id": "d8c47306",
   "metadata": {},
   "outputs": [],
   "source": [
    "df['regionId'].isna().sum()"
   ]
  },
  {
   "cell_type": "code",
   "execution_count": null,
   "id": "44a250ff",
   "metadata": {},
   "outputs": [],
   "source": [
    "df['region'].nunique()"
   ]
  },
  {
   "cell_type": "code",
   "execution_count": null,
   "id": "5d5e6c87",
   "metadata": {},
   "outputs": [],
   "source": [
    "df['region'].isna().sum()"
   ]
  },
  {
   "cell_type": "code",
   "execution_count": null,
   "id": "c68299df",
   "metadata": {},
   "outputs": [],
   "source": [
    "df[['region', 'regionId']].drop_duplicates().sort_values(by='regionId')"
   ]
  },
  {
   "cell_type": "code",
   "execution_count": null,
   "id": "9177fd77",
   "metadata": {},
   "outputs": [],
   "source": [
    "df.drop(columns='regionId', inplace=True)"
   ]
  },
  {
   "cell_type": "code",
   "execution_count": null,
   "id": "411401fa",
   "metadata": {},
   "outputs": [],
   "source": [
    "df['iscity'] = df['region'].apply(lambda x: 1 if 'Волгоград' in x else 0)"
   ]
  },
  {
   "cell_type": "code",
   "execution_count": null,
   "id": "7041afdc",
   "metadata": {},
   "outputs": [],
   "source": [
    "df['region'] = df['region'].apply(lambda x: x.split()[-1] if x != 'не задано' else 'не задано')"
   ]
  },
  {
   "cell_type": "code",
   "execution_count": null,
   "id": "d20a4a25",
   "metadata": {},
   "outputs": [],
   "source": [
    "df['isDanger.1'].unique()"
   ]
  },
  {
   "cell_type": "code",
   "execution_count": null,
   "id": "6312a66c",
   "metadata": {},
   "outputs": [],
   "source": [
    "df['isDanger.1'].isna().sum()"
   ]
  },
  {
   "cell_type": "code",
   "execution_count": null,
   "id": "df1901f8",
   "metadata": {},
   "outputs": [],
   "source": [
    "df.rename(columns={'isDanger.1': 'isDanger'}, inplace=True)"
   ]
  },
  {
   "cell_type": "code",
   "execution_count": null,
   "id": "28584cfa",
   "metadata": {},
   "outputs": [],
   "source": [
    "df['isBlocking'].unique()"
   ]
  },
  {
   "cell_type": "code",
   "execution_count": null,
   "id": "7e891d6e",
   "metadata": {},
   "outputs": [],
   "source": [
    "df['isBlocking'].isna().sum()"
   ]
  },
  {
   "cell_type": "code",
   "execution_count": null,
   "id": "98a6cad0",
   "metadata": {},
   "outputs": [],
   "source": [
    "df['lostNumber'].unique()"
   ]
  },
  {
   "cell_type": "code",
   "execution_count": null,
   "id": "101ed46b",
   "metadata": {},
   "outputs": [],
   "source": [
    "df['lostNumber'].isna().sum()"
   ]
  },
  {
   "cell_type": "code",
   "execution_count": null,
   "id": "5d8f3c5d",
   "metadata": {},
   "outputs": [],
   "source": [
    "df.drop(columns='lostNumber', inplace=True)"
   ]
  },
  {
   "cell_type": "code",
   "execution_count": null,
   "id": "2c63b1c2",
   "metadata": {},
   "outputs": [],
   "source": [
    "df['membership'].nunique()"
   ]
  },
  {
   "cell_type": "code",
   "execution_count": null,
   "id": "988e4b7f",
   "metadata": {},
   "outputs": [],
   "source": [
    "df['membership'].isna().sum()"
   ]
  },
  {
   "cell_type": "code",
   "execution_count": null,
   "id": "47d1959e",
   "metadata": {},
   "outputs": [],
   "source": [
    "df['membership'].fillna('', inplace=True)"
   ]
  },
  {
   "cell_type": "code",
   "execution_count": null,
   "id": "f8f6babc",
   "metadata": {},
   "outputs": [],
   "source": [
    "df['member_count'] = df['membership'].apply(lambda x: len(x.split(',')) if x != '' else 0) "
   ]
  },
  {
   "cell_type": "code",
   "execution_count": null,
   "id": "8772dda4",
   "metadata": {},
   "outputs": [],
   "source": [
    "df['member_count'].max()"
   ]
  },
  {
   "cell_type": "code",
   "execution_count": null,
   "id": "0273f2ba",
   "metadata": {},
   "outputs": [],
   "source": [
    "df[df['member_count'] == 10]['membership'].values"
   ]
  },
  {
   "cell_type": "code",
   "execution_count": null,
   "id": "15084b1a",
   "metadata": {},
   "outputs": [],
   "source": [
    "text = 'Пожарные: Расчет №1, Пожарные: Расчет №2, Полиция: Патруль №1, \\\n",
    "Полиция: Патруль №2, Газ: Бригада №1, ЕДДС: Диспетчер, ЖКХ: Бригада №1, \\\n",
    "Скорая: Бригада №1, Скорая: Бригада №2, ЕДДС: Бригада 1' "
   ]
  },
  {
   "cell_type": "code",
   "execution_count": null,
   "id": "564b1740",
   "metadata": {},
   "outputs": [],
   "source": [
    "text.split(', ')"
   ]
  },
  {
   "cell_type": "code",
   "execution_count": null,
   "id": "e7e70bbb",
   "metadata": {},
   "outputs": [],
   "source": [
    "member_ship_name = []"
   ]
  },
  {
   "cell_type": "code",
   "execution_count": null,
   "id": "44d8c6d0",
   "metadata": {},
   "outputs": [],
   "source": [
    "for word in text.split(', '):\n",
    "    member_ship_name.append(word.split(':')[0])"
   ]
  },
  {
   "cell_type": "code",
   "execution_count": null,
   "id": "86a98251",
   "metadata": {},
   "outputs": [],
   "source": [
    "member_ship_name"
   ]
  },
  {
   "cell_type": "code",
   "execution_count": null,
   "id": "4286fb5a",
   "metadata": {},
   "outputs": [],
   "source": [
    "def membershipname(text):\n",
    "    \n",
    "    if text == '':\n",
    "        return ''\n",
    "    else:\n",
    "        member_ship_name = []\n",
    "        for word in text.split(', '):\n",
    "            member_ship_name.append(word.split(':')[0])\n",
    "        \n",
    "        return member_ship_name "
   ]
  },
  {
   "cell_type": "code",
   "execution_count": null,
   "id": "08cae1dd",
   "metadata": {},
   "outputs": [],
   "source": [
    "df['member_ship_name'] = df['membership'].apply(lambda x: membershipname(x)) "
   ]
  },
  {
   "cell_type": "code",
   "execution_count": null,
   "id": "9d59030b",
   "metadata": {},
   "outputs": [],
   "source": [
    "member_ship = []"
   ]
  },
  {
   "cell_type": "code",
   "execution_count": null,
   "id": "8046aa46",
   "metadata": {},
   "outputs": [],
   "source": [
    "for word in text.split(', '):\n",
    "    member_ship.append(word.split(':')[1])"
   ]
  },
  {
   "cell_type": "code",
   "execution_count": null,
   "id": "65ffcfb5",
   "metadata": {},
   "outputs": [],
   "source": [
    "member_ship"
   ]
  },
  {
   "cell_type": "code",
   "execution_count": null,
   "id": "87c5d7c6",
   "metadata": {},
   "outputs": [],
   "source": [
    "def membership(text):\n",
    "    \n",
    "    if text == '':\n",
    "        return ''\n",
    "    else:\n",
    "        member_ship = []\n",
    "        for word in text.split(', '):\n",
    "            member_ship.append(word.split(':')[1])\n",
    "        \n",
    "        return member_ship "
   ]
  },
  {
   "cell_type": "code",
   "execution_count": null,
   "id": "2448d276",
   "metadata": {},
   "outputs": [],
   "source": [
    "df['membership'] = df['membership'].apply(lambda x: membership(x))"
   ]
  },
  {
   "cell_type": "code",
   "execution_count": null,
   "id": "6f25e00f",
   "metadata": {},
   "outputs": [],
   "source": [
    "df[['hrId', 'timeIsoStr']].head()"
   ]
  },
  {
   "cell_type": "code",
   "execution_count": null,
   "id": "062de993",
   "metadata": {},
   "outputs": [],
   "source": [
    "df['timeIsoStr'].isna().sum()"
   ]
  },
  {
   "cell_type": "code",
   "execution_count": null,
   "id": "2ba7f7a9",
   "metadata": {},
   "outputs": [],
   "source": [
    "df['timeIsoStr'].dtype"
   ]
  },
  {
   "cell_type": "code",
   "execution_count": null,
   "id": "3f1e8a21",
   "metadata": {},
   "outputs": [],
   "source": [
    "df['timeIsoStr'] = pd.to_datetime(df['timeIsoStr'])"
   ]
  },
  {
   "cell_type": "code",
   "execution_count": null,
   "id": "1191527c",
   "metadata": {},
   "outputs": [],
   "source": [
    "df['timeIsoStr'].agg(['min', 'max'])"
   ]
  },
  {
   "cell_type": "code",
   "execution_count": null,
   "id": "ecb1f8c8",
   "metadata": {},
   "outputs": [],
   "source": [
    "#df['year'] = df['timeIsoStr'].dt.year"
   ]
  },
  {
   "cell_type": "code",
   "execution_count": null,
   "id": "08e4bdb4",
   "metadata": {},
   "outputs": [],
   "source": [
    "#df['month'] = df['timeIsoStr'].dt.month"
   ]
  },
  {
   "cell_type": "code",
   "execution_count": null,
   "id": "c6e53013",
   "metadata": {},
   "outputs": [],
   "source": [
    "#df['day'] = df['timeIsoStr'].dt.day"
   ]
  },
  {
   "cell_type": "code",
   "execution_count": null,
   "id": "bf3134ec",
   "metadata": {},
   "outputs": [],
   "source": [
    "#df['time'] = df['timeIsoStr'].dt.time"
   ]
  },
  {
   "cell_type": "code",
   "execution_count": null,
   "id": "df98a002",
   "metadata": {},
   "outputs": [],
   "source": [
    "#df['hour'] = df['timeIsoStr'].dt.hour"
   ]
  },
  {
   "cell_type": "code",
   "execution_count": null,
   "id": "3958c172",
   "metadata": {},
   "outputs": [],
   "source": [
    "df['districtCode'].unique()"
   ]
  },
  {
   "cell_type": "code",
   "execution_count": null,
   "id": "e912ffb8",
   "metadata": {},
   "outputs": [],
   "source": [
    "df['districtCode'].isna().sum() / df.shape[0]"
   ]
  },
  {
   "cell_type": "code",
   "execution_count": null,
   "id": "6700fc21",
   "metadata": {},
   "outputs": [],
   "source": [
    "df.drop(columns='districtCode', inplace=True)"
   ]
  },
  {
   "cell_type": "code",
   "execution_count": null,
   "id": "6e2635b1",
   "metadata": {},
   "outputs": [],
   "source": [
    "df['injuredNumber'].unique()"
   ]
  },
  {
   "cell_type": "code",
   "execution_count": null,
   "id": "95ec9dfd",
   "metadata": {},
   "outputs": [],
   "source": [
    "df['injuredNumber'].isna().sum()"
   ]
  },
  {
   "cell_type": "code",
   "execution_count": null,
   "id": "f124072d",
   "metadata": {},
   "outputs": [],
   "source": [
    "df.drop(columns='injuredNumber', inplace=True)"
   ]
  },
  {
   "cell_type": "code",
   "execution_count": null,
   "id": "ec5993dd",
   "metadata": {},
   "outputs": [],
   "source": [
    "df['responseStatus'].unique()"
   ]
  },
  {
   "cell_type": "code",
   "execution_count": null,
   "id": "07900f61",
   "metadata": {},
   "outputs": [],
   "source": [
    "df['responseStatus'].isna().sum()"
   ]
  },
  {
   "cell_type": "code",
   "execution_count": null,
   "id": "eb1296d5",
   "metadata": {},
   "outputs": [],
   "source": [
    "df['responseStatus'].replace(np.nan, '0', inplace=True)"
   ]
  },
  {
   "cell_type": "code",
   "execution_count": null,
   "id": "e4c970a7",
   "metadata": {},
   "outputs": [],
   "source": [
    "df['responseStatus'].dtype"
   ]
  },
  {
   "cell_type": "code",
   "execution_count": null,
   "id": "2932a968",
   "metadata": {},
   "outputs": [],
   "source": [
    "df['responseStatus'] = df['responseStatus'].astype('int')"
   ]
  },
  {
   "cell_type": "code",
   "execution_count": null,
   "id": "779d42f4",
   "metadata": {},
   "outputs": [],
   "source": [
    "df['responseStatus'].value_counts()"
   ]
  },
  {
   "cell_type": "code",
   "execution_count": null,
   "id": "8ebe71cc",
   "metadata": {},
   "outputs": [],
   "source": [
    "df['actionTimeIsoStr'].unique()"
   ]
  },
  {
   "cell_type": "code",
   "execution_count": null,
   "id": "267dbbed",
   "metadata": {},
   "outputs": [],
   "source": [
    "df['actionTimeIsoStr'].isna().sum() / df.shape[0]"
   ]
  },
  {
   "cell_type": "code",
   "execution_count": null,
   "id": "be1a9c8f",
   "metadata": {},
   "outputs": [],
   "source": [
    "df.drop(columns='actionTimeIsoStr', inplace=True)"
   ]
  },
  {
   "cell_type": "code",
   "execution_count": null,
   "id": "0617c7b1",
   "metadata": {},
   "outputs": [],
   "source": [
    "df['assignTimeIsoStr'].isna().sum() / df.shape[0]"
   ]
  },
  {
   "cell_type": "code",
   "execution_count": null,
   "id": "2ad21b7f",
   "metadata": {},
   "outputs": [],
   "source": [
    "df[['timeIsoStr', 'assignTimeIsoStr']].sort_values(by='assignTimeIsoStr').head()"
   ]
  },
  {
   "cell_type": "code",
   "execution_count": null,
   "id": "267889d2",
   "metadata": {},
   "outputs": [],
   "source": [
    "df.drop(columns='assignTimeIsoStr', inplace=True)"
   ]
  },
  {
   "cell_type": "code",
   "execution_count": null,
   "id": "42fafebc",
   "metadata": {},
   "outputs": [],
   "source": [
    "df.shape"
   ]
  },
  {
   "cell_type": "code",
   "execution_count": null,
   "id": "df916cee",
   "metadata": {},
   "outputs": [],
   "source": [
    "df['cardId'].nunique()"
   ]
  },
  {
   "cell_type": "code",
   "execution_count": null,
   "id": "213c2495",
   "metadata": {},
   "outputs": [],
   "source": [
    "cardId_count_index = df.groupby('cardId')['cardId'].count()[df.groupby('cardId')['cardId'].count() > 1].index\n",
    "cardId_count_index"
   ]
  },
  {
   "cell_type": "code",
   "execution_count": null,
   "id": "000169d2",
   "metadata": {},
   "outputs": [],
   "source": [
    "df[df['cardId'].isin(cardId_count_index)].sort_values(by='cardId')"
   ]
  },
  {
   "cell_type": "code",
   "execution_count": null,
   "id": "80694057",
   "metadata": {},
   "outputs": [],
   "source": [
    "df[df['cardId'].isin(cardId_count_index)].sort_values(by='cardId').shape"
   ]
  },
  {
   "cell_type": "code",
   "execution_count": null,
   "id": "1dbe4687",
   "metadata": {},
   "outputs": [],
   "source": [
    "df.drop_duplicates(subset='cardId', inplace=True)"
   ]
  },
  {
   "cell_type": "code",
   "execution_count": null,
   "id": "e5e410c6",
   "metadata": {},
   "outputs": [],
   "source": [
    "#df.drop(columns='cardId', inplace=True)"
   ]
  },
  {
   "cell_type": "code",
   "execution_count": null,
   "id": "d6acb5cd",
   "metadata": {},
   "outputs": [],
   "source": [
    "df['dispatchesId'].isna().sum() / df.shape[0]"
   ]
  },
  {
   "cell_type": "code",
   "execution_count": null,
   "id": "bb896961",
   "metadata": {},
   "outputs": [],
   "source": [
    "df.drop(columns='dispatchesId', inplace=True)"
   ]
  },
  {
   "cell_type": "code",
   "execution_count": null,
   "id": "45ff35f1",
   "metadata": {},
   "outputs": [],
   "source": [
    "df['isChemFlood'].unique()"
   ]
  },
  {
   "cell_type": "code",
   "execution_count": null,
   "id": "2ac4a28f",
   "metadata": {},
   "outputs": [],
   "source": [
    "df['isChemFlood'].isna().sum()"
   ]
  },
  {
   "cell_type": "code",
   "execution_count": null,
   "id": "2f4fca27",
   "metadata": {},
   "outputs": [],
   "source": [
    "df['isChemFlood'].fillna('false', inplace=True)"
   ]
  },
  {
   "cell_type": "code",
   "execution_count": null,
   "id": "d9a98617",
   "metadata": {},
   "outputs": [],
   "source": [
    "df['isChemFlood'].unique()"
   ]
  },
  {
   "cell_type": "code",
   "execution_count": null,
   "id": "9a1dde0a",
   "metadata": {},
   "outputs": [],
   "source": [
    "df[df['isChemFlood'] != 'false']['isChemFlood']"
   ]
  },
  {
   "cell_type": "code",
   "execution_count": null,
   "id": "c5a81102",
   "metadata": {},
   "outputs": [],
   "source": [
    "df.drop(columns='isChemFlood', inplace=True)"
   ]
  },
  {
   "cell_type": "code",
   "execution_count": null,
   "id": "3f9dd88f",
   "metadata": {},
   "outputs": [],
   "source": [
    "df['point'].isna().sum()"
   ]
  },
  {
   "cell_type": "code",
   "execution_count": null,
   "id": "2c85e8d6",
   "metadata": {},
   "outputs": [],
   "source": [
    "df['point'].fillna(\"[{'lat': 0.0, 'lon': 0.0}]\", inplace=True)"
   ]
  },
  {
   "cell_type": "code",
   "execution_count": null,
   "id": "c4813476",
   "metadata": {},
   "outputs": [],
   "source": [
    "df['point'] = df['point'].apply(lambda x: x[1:-1])"
   ]
  },
  {
   "cell_type": "code",
   "execution_count": null,
   "id": "ffeb8152",
   "metadata": {},
   "outputs": [],
   "source": [
    "df['point'] = df['point'].apply(lambda x: eval(x))"
   ]
  },
  {
   "cell_type": "code",
   "execution_count": null,
   "id": "d71f3a99",
   "metadata": {},
   "outputs": [],
   "source": [
    "df['lat'] = df['point'].apply(lambda x: x['lat'])"
   ]
  },
  {
   "cell_type": "code",
   "execution_count": null,
   "id": "a02ca51b",
   "metadata": {},
   "outputs": [],
   "source": [
    "df['lon'] = df['point'].apply(lambda x: x['lon'])"
   ]
  },
  {
   "cell_type": "code",
   "execution_count": null,
   "id": "4d8a142d",
   "metadata": {},
   "outputs": [],
   "source": [
    "df.drop(columns='point', inplace=True)"
   ]
  },
  {
   "cell_type": "code",
   "execution_count": null,
   "id": "ab4a72fa",
   "metadata": {},
   "outputs": [],
   "source": [
    "df.isna().sum()"
   ]
  },
  {
   "cell_type": "code",
   "execution_count": null,
   "id": "7c375484",
   "metadata": {},
   "outputs": [],
   "source": [
    "df.head()"
   ]
  },
  {
   "cell_type": "code",
   "execution_count": null,
   "id": "9f9e3a97",
   "metadata": {},
   "outputs": [],
   "source": [
    "df.drop(columns='hrId', inplace=True)"
   ]
  },
  {
   "cell_type": "code",
   "execution_count": null,
   "id": "192a6907",
   "metadata": {},
   "outputs": [],
   "source": [
    "df.columns"
   ]
  },
  {
   "cell_type": "code",
   "execution_count": null,
   "id": "76c586eb",
   "metadata": {},
   "outputs": [],
   "source": [
    "df.info()"
   ]
  },
  {
   "cell_type": "code",
   "execution_count": null,
   "id": "2cd41e99",
   "metadata": {},
   "outputs": [],
   "source": [
    "df.to_csv('data_clean/2019_1.csv', index=False)"
   ]
  },
  {
   "cell_type": "code",
   "execution_count": null,
   "id": "5c9ec5bf",
   "metadata": {},
   "outputs": [],
   "source": [
    "df.shape"
   ]
  },
  {
   "cell_type": "code",
   "execution_count": null,
   "id": "9e11490a",
   "metadata": {},
   "outputs": [],
   "source": []
  }
 ],
 "metadata": {
  "kernelspec": {
   "display_name": "Python 3",
   "language": "python",
   "name": "python3"
  },
  "language_info": {
   "codemirror_mode": {
    "name": "ipython",
    "version": 3
   },
   "file_extension": ".py",
   "mimetype": "text/x-python",
   "name": "python",
   "nbconvert_exporter": "python",
   "pygments_lexer": "ipython3",
   "version": "3.8.8"
  }
 },
 "nbformat": 4,
 "nbformat_minor": 5
}

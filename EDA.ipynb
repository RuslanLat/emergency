{
 "cells": [
  {
   "cell_type": "code",
   "execution_count": null,
   "id": "c63cfd77",
   "metadata": {},
   "outputs": [],
   "source": [
    "import pandas as pd\n",
    "import numpy as np\n",
    "import os\n",
    "import seaborn as sns\n",
    "import matplotlib.pyplot as plt\n",
    "\n",
    "%matplotlib inline"
   ]
  },
  {
   "cell_type": "code",
   "execution_count": null,
   "id": "9cb86be1",
   "metadata": {},
   "outputs": [],
   "source": [
    "df = pd.read_csv('data_clean/emergency_situations.csv')"
   ]
  },
  {
   "cell_type": "code",
   "execution_count": null,
   "id": "1137f79d",
   "metadata": {},
   "outputs": [],
   "source": [
    "df.head()"
   ]
  },
  {
   "cell_type": "code",
   "execution_count": null,
   "id": "3ff456cf",
   "metadata": {},
   "outputs": [],
   "source": [
    "df.shape"
   ]
  },
  {
   "cell_type": "code",
   "execution_count": null,
   "id": "d02960f7",
   "metadata": {},
   "outputs": [],
   "source": [
    "df.columns"
   ]
  },
  {
   "cell_type": "code",
   "execution_count": null,
   "id": "50ed1c91",
   "metadata": {},
   "outputs": [],
   "source": [
    "df.info()"
   ]
  },
  {
   "cell_type": "code",
   "execution_count": null,
   "id": "29622e46",
   "metadata": {},
   "outputs": [],
   "source": [
    "df.isna().sum()"
   ]
  },
  {
   "cell_type": "code",
   "execution_count": null,
   "id": "113916aa",
   "metadata": {},
   "outputs": [],
   "source": [
    "df['timeIsoStr'] = pd.to_datetime(df['timeIsoStr'])"
   ]
  },
  {
   "cell_type": "code",
   "execution_count": null,
   "id": "215a9a64",
   "metadata": {},
   "outputs": [],
   "source": [
    "df['timeIsoStr'].agg(['min', 'max'])"
   ]
  },
  {
   "cell_type": "code",
   "execution_count": null,
   "id": "3dde347f",
   "metadata": {},
   "outputs": [],
   "source": [
    "# блокировка\n",
    "df['isBlocking'].unique()"
   ]
  },
  {
   "cell_type": "code",
   "execution_count": null,
   "id": "ec4946c2",
   "metadata": {},
   "outputs": [],
   "source": [
    "df['isBlocking'].value_counts()"
   ]
  },
  {
   "cell_type": "code",
   "execution_count": null,
   "id": "6ad70b46",
   "metadata": {},
   "outputs": [],
   "source": [
    "df[df['isBlocking'] == True][['iscity', 'region', 'name', 'timeIsoStr', 'membership', 'lat', 'lon', 'state']]"
   ]
  },
  {
   "cell_type": "code",
   "execution_count": null,
   "id": "4fa12079",
   "metadata": {},
   "outputs": [],
   "source": [
    "df['membership'][342009]"
   ]
  },
  {
   "cell_type": "code",
   "execution_count": null,
   "id": "26f3ae68",
   "metadata": {},
   "outputs": [],
   "source": [
    "df['membership'][387556]"
   ]
  },
  {
   "cell_type": "code",
   "execution_count": null,
   "id": "eebbb526",
   "metadata": {},
   "outputs": [],
   "source": [
    "# опасность\n",
    "df['isDanger'].unique()"
   ]
  },
  {
   "cell_type": "code",
   "execution_count": null,
   "id": "8904f0cd",
   "metadata": {},
   "outputs": [],
   "source": [
    "df['isDanger'].value_counts()"
   ]
  },
  {
   "cell_type": "code",
   "execution_count": null,
   "id": "62e27431",
   "metadata": {},
   "outputs": [],
   "source": [
    "df[df['isDanger'] == True][['iscity', 'region', 'name', 'timeIsoStr', 'membership', 'lat', 'lon', 'state']]"
   ]
  },
  {
   "cell_type": "code",
   "execution_count": null,
   "id": "658bd347",
   "metadata": {},
   "outputs": [],
   "source": [
    "df['responseStatus'].value_counts()"
   ]
  },
  {
   "cell_type": "code",
   "execution_count": null,
   "id": "24af494f",
   "metadata": {},
   "outputs": [],
   "source": [
    "df.query('responseStatus == 0')[['iscity', 'region', 'name', 'timeIsoStr', 'membership', 'lat', 'lon', 'state']] \\\n",
    "  .sort_values(by=['timeIsoStr', 'lat'])"
   ]
  },
  {
   "cell_type": "code",
   "execution_count": null,
   "id": "864770ff",
   "metadata": {},
   "outputs": [],
   "source": [
    "plt.figure(figsize=(8,8))\n",
    "sns.countplot(y = 'region' , hue='iscity' ,order=df['region'].value_counts().iloc[:10].index, data = df) \\\n",
    ".set_title('Распределение полифакторных ЧС в Волгоградской области', fontsize=15)\n",
    "plt.xlabel('количество полифакторных ЧС', fontsize=10)\n",
    "plt.ylabel('')\n",
    "plt.legend(loc='center right')\n",
    "plt.show()"
   ]
  },
  {
   "cell_type": "code",
   "execution_count": null,
   "id": "717449e2",
   "metadata": {},
   "outputs": [],
   "source": [
    "df[df['region'].isin(['Саратов', 'Воронеж'])]['region'].value_counts()"
   ]
  },
  {
   "cell_type": "code",
   "execution_count": null,
   "id": "abc30cb6",
   "metadata": {},
   "outputs": [],
   "source": [
    "df[df['region'].isin(['Саратов', 'Воронеж'])][['region', 'name', 'timeIsoStr', 'membership', 'lat', 'lon', 'state']]"
   ]
  },
  {
   "cell_type": "code",
   "execution_count": null,
   "id": "a4e2b31e",
   "metadata": {},
   "outputs": [],
   "source": [
    "plt.figure(figsize=(8,8))\n",
    "sns.countplot(y = 'name', order=df['name'].value_counts().iloc[:10].index, data = df) \\\n",
    ".set_title('Распределение полифакторных ЧС в Волгоградской области', fontsize=15)\n",
    "plt.xlabel('количество полифакторных ЧС', fontsize=10)\n",
    "plt.ylabel('')\n",
    "plt.show()"
   ]
  },
  {
   "cell_type": "code",
   "execution_count": null,
   "id": "fe54667d",
   "metadata": {},
   "outputs": [],
   "source": [
    "plt.figure(figsize=(8,8))\n",
    "sns.countplot(y = 'type', order=df['type'].value_counts().iloc[:10].index, data = df) \\\n",
    ".set_title('Распределение полифакторных ЧС в Волгоградской области', fontsize=15)\n",
    "plt.xlabel('количество полифакторных ЧС', fontsize=10)\n",
    "plt.ylabel('')\n",
    "plt.show()"
   ]
  },
  {
   "cell_type": "code",
   "execution_count": null,
   "id": "51cac8c4",
   "metadata": {},
   "outputs": [],
   "source": [
    "df['year'] = df['timeIsoStr'].dt.year\n",
    "df['month'] = df['timeIsoStr'].dt.month\n",
    "df['date'] = df['timeIsoStr'].dt.date\n",
    "df['time'] = df['timeIsoStr'].dt.time\n",
    "df['hour'] = df['timeIsoStr'].dt.hour"
   ]
  },
  {
   "cell_type": "code",
   "execution_count": null,
   "id": "d7c916da",
   "metadata": {},
   "outputs": [],
   "source": [
    "df['year'].value_counts().to_frame().reset_index() \\\n",
    ".rename(columns={'index':'год', 'year':'количество'})"
   ]
  },
  {
   "cell_type": "code",
   "execution_count": null,
   "id": "deb9d10c",
   "metadata": {},
   "outputs": [],
   "source": [
    "plt.figure(figsize=(5,5))\n",
    "sns.countplot(x = 'year', data = df) \\\n",
    ".set_title('Распределение полифакторных ЧС в Волгоградской области', fontsize=15)\n",
    "plt.ylabel('количество полифакторных ЧС', fontsize=10)\n",
    "plt.xlabel('')\n",
    "plt.show()"
   ]
  },
  {
   "cell_type": "code",
   "execution_count": null,
   "id": "09580d51",
   "metadata": {},
   "outputs": [],
   "source": [
    "plt.figure(figsize=(20,5))\n",
    "df.groupby('date')['date'].count().plot()\n",
    "plt.title('Динамика полифакторных ЧС', fontsize=20)\n",
    "plt.xlabel('')\n",
    "plt.show()"
   ]
  },
  {
   "cell_type": "code",
   "execution_count": null,
   "id": "1a3240cd",
   "metadata": {},
   "outputs": [],
   "source": [
    "df.groupby('date')['date'].count().sort_values()[:10]"
   ]
  },
  {
   "cell_type": "code",
   "execution_count": null,
   "id": "91009ea5",
   "metadata": {},
   "outputs": [],
   "source": [
    "df.groupby('date')['date'].count().sort_values(ascending=False)[:10]"
   ]
  },
  {
   "cell_type": "code",
   "execution_count": null,
   "id": "c6544909",
   "metadata": {},
   "outputs": [],
   "source": [
    "month_data = df.groupby(['year', 'month'])['month'].count().unstack(fill_value=0).T"
   ]
  },
  {
   "cell_type": "code",
   "execution_count": null,
   "id": "7ef506c3",
   "metadata": {},
   "outputs": [],
   "source": [
    "month_data"
   ]
  },
  {
   "cell_type": "code",
   "execution_count": null,
   "id": "2f062def",
   "metadata": {},
   "outputs": [],
   "source": [
    "plt.figure(figsize=(20,8))\n",
    "sns.lineplot(data=month_data).set_title('Распределение полифакторных ЧС в Волгоградской области', fontsize=15)\n",
    "plt.ylabel('количество полифакторных ЧС', fontsize=10)\n",
    "plt.xlabel('месяц')\n",
    "plt.show()"
   ]
  },
  {
   "cell_type": "code",
   "execution_count": null,
   "id": "d374d736",
   "metadata": {},
   "outputs": [],
   "source": [
    "text = ' '.join(list(df['name'].apply(lambda x: x.lower()).values))"
   ]
  },
  {
   "cell_type": "code",
   "execution_count": null,
   "id": "027ae529",
   "metadata": {},
   "outputs": [],
   "source": [
    "type(text)"
   ]
  },
  {
   "cell_type": "code",
   "execution_count": null,
   "id": "598e88b3",
   "metadata": {},
   "outputs": [],
   "source": [
    "def plot_cloud(wordcloud):\n",
    "    # Устанавливаем размер картинки\n",
    "    plt.figure(figsize=(20, 10))\n",
    "    # Показать изображение\n",
    "    plt.imshow(wordcloud) \n",
    "    # Без подписей на осях\n",
    "    plt.axis(\"off\")"
   ]
  },
  {
   "cell_type": "code",
   "execution_count": null,
   "id": "b243f929",
   "metadata": {},
   "outputs": [],
   "source": [
    "#pip install wordcloud"
   ]
  },
  {
   "cell_type": "code",
   "execution_count": null,
   "id": "18a3ae39",
   "metadata": {},
   "outputs": [],
   "source": [
    "#pip install stop-words"
   ]
  },
  {
   "cell_type": "code",
   "execution_count": null,
   "id": "b51bc363",
   "metadata": {},
   "outputs": [],
   "source": [
    "from PIL import Image"
   ]
  },
  {
   "cell_type": "code",
   "execution_count": null,
   "id": "888c6c93",
   "metadata": {},
   "outputs": [],
   "source": [
    "#mask = np.array(Image.open('data/mask.jfif'))"
   ]
  },
  {
   "cell_type": "code",
   "execution_count": null,
   "id": "ad9a44b7",
   "metadata": {},
   "outputs": [],
   "source": [
    "from wordcloud import WordCloud\n",
    "from stop_words import get_stop_words\n",
    "\n",
    "STOPWORDS_RU = get_stop_words('russian')\n",
    "\n",
    "wordcloud = WordCloud(width = 2200, \n",
    "                      height = 1200, \n",
    "                      random_state=1, \n",
    "                      background_color='white', \n",
    "                      normalize_plurals = True, \n",
    "                      collocations=False, repeat = True, min_font_size = 6, \n",
    "                      stopwords = STOPWORDS_RU).generate(text)\n",
    "\n",
    "plot_cloud(wordcloud)"
   ]
  },
  {
   "cell_type": "code",
   "execution_count": null,
   "id": "8da41fd7",
   "metadata": {},
   "outputs": [],
   "source": [
    "plt.figure(figsize=(5,5))\n",
    "sns.countplot(y = 'state', data = df) \\\n",
    ".set_title('Распределение полифакторных ЧС в Волгоградской области', fontsize=15)\n",
    "plt.xlabel('количество полифакторных ЧС', fontsize=10)\n",
    "plt.ylabel('')\n",
    "plt.show()"
   ]
  },
  {
   "cell_type": "code",
   "execution_count": null,
   "id": "c7918420",
   "metadata": {},
   "outputs": [],
   "source": [
    "df['state'].value_counts()"
   ]
  },
  {
   "cell_type": "code",
   "execution_count": null,
   "id": "a53fb817",
   "metadata": {},
   "outputs": [],
   "source": [
    "df.query(\"(state == 'Новая') | (state == 'Назначена в ДДС') | (state == 'Обрабатывается в ДДС')\").shape[0]"
   ]
  },
  {
   "cell_type": "code",
   "execution_count": null,
   "id": "6a924d95",
   "metadata": {},
   "outputs": [],
   "source": [
    "df.query(\"(state == 'Новая') | (state == 'Назначена в ДДС') | (state == 'Обрабатывается в ДДС')\")['region'] \\\n",
    "  .value_counts().head()"
   ]
  },
  {
   "cell_type": "code",
   "execution_count": null,
   "id": "8bb575ec",
   "metadata": {},
   "outputs": [],
   "source": [
    "plt.figure(figsize=(5,5))\n",
    "sns.countplot(y = 'level', data = df) \\\n",
    ".set_title('Распределение полифакторных ЧС в Волгоградской области', fontsize=15)\n",
    "plt.xlabel('количество полифакторных ЧС', fontsize=10)\n",
    "plt.ylabel('')\n",
    "plt.show()"
   ]
  },
  {
   "cell_type": "code",
   "execution_count": null,
   "id": "c370bb37",
   "metadata": {},
   "outputs": [],
   "source": [
    "df['level'].value_counts()"
   ]
  },
  {
   "cell_type": "code",
   "execution_count": null,
   "id": "7a472289",
   "metadata": {},
   "outputs": [],
   "source": [
    "df.query(\"level == 'ЧС в субъекте'\")[['region', 'name', 'timeIsoStr', 'membership', 'lat', 'lon', 'state']]"
   ]
  },
  {
   "cell_type": "code",
   "execution_count": null,
   "id": "0c76c409",
   "metadata": {},
   "outputs": [],
   "source": [
    "plt.figure(figsize=(10,8))\n",
    "sns.countplot(x = 'member_count', data = df) \\\n",
    ".set_title('Распределение полифакторных ЧС в Волгоградской области', fontsize=15)\n",
    "plt.ylabel('количество полифакторных ЧС', fontsize=10)\n",
    "plt.xlabel('')\n",
    "plt.show()"
   ]
  },
  {
   "cell_type": "code",
   "execution_count": null,
   "id": "d5e6b0ff",
   "metadata": {},
   "outputs": [],
   "source": [
    "df['member_ship_name'].nunique()"
   ]
  },
  {
   "cell_type": "code",
   "execution_count": null,
   "id": "285457ee",
   "metadata": {},
   "outputs": [],
   "source": [
    "member_ship_list = list(df['member_ship_name'].dropna().values)"
   ]
  },
  {
   "cell_type": "code",
   "execution_count": null,
   "id": "25c09b8c",
   "metadata": {},
   "outputs": [],
   "source": [
    "member_ship = []\n",
    "for members in member_ship_list:\n",
    "    if len(eval(members)) > 1:\n",
    "        for member in eval(members):\n",
    "            if member not in member_ship: \n",
    "                member_ship.append(member)\n",
    "    else:\n",
    "        if eval(members)[0] not in member_ship: \n",
    "                member_ship.append(eval(members)[0])"
   ]
  },
  {
   "cell_type": "code",
   "execution_count": null,
   "id": "7df88d1b",
   "metadata": {},
   "outputs": [],
   "source": [
    "member_ship"
   ]
  },
  {
   "cell_type": "code",
   "execution_count": null,
   "id": "fa00d6cc",
   "metadata": {},
   "outputs": [],
   "source": [
    "def member_ship_Ambulance(text):\n",
    "    try:\n",
    "        return eval(text).count('Скорая')    \n",
    "    except:\n",
    "        return 0"
   ]
  },
  {
   "cell_type": "code",
   "execution_count": null,
   "id": "5e7d841b",
   "metadata": {},
   "outputs": [],
   "source": [
    "def member_ship_Police(text):\n",
    "    try:\n",
    "        return eval(text).count('Полиция')    \n",
    "    except:\n",
    "        return 0"
   ]
  },
  {
   "cell_type": "code",
   "execution_count": null,
   "id": "1ad82389",
   "metadata": {},
   "outputs": [],
   "source": [
    "def member_ship_EDDS(text):\n",
    "    try:\n",
    "        return eval(text).count('ЕДДС')    \n",
    "    except:\n",
    "        return 0"
   ]
  },
  {
   "cell_type": "code",
   "execution_count": null,
   "id": "1ff0725c",
   "metadata": {},
   "outputs": [],
   "source": [
    "def member_ship_Gas(text):\n",
    "    try:\n",
    "        return eval(text).count('Газ')    \n",
    "    except:\n",
    "        return 0"
   ]
  },
  {
   "cell_type": "code",
   "execution_count": null,
   "id": "0bd45cb7",
   "metadata": {},
   "outputs": [],
   "source": [
    "def member_ship_HCS(text):\n",
    "    try:\n",
    "        return eval(text).count('ЖКХ')    \n",
    "    except:\n",
    "        return 0"
   ]
  },
  {
   "cell_type": "code",
   "execution_count": null,
   "id": "32588532",
   "metadata": {},
   "outputs": [],
   "source": [
    "def member_ship_Antiterror(text):\n",
    "    try:\n",
    "        return eval(text).count('Антитеррор')    \n",
    "    except:\n",
    "        return 0"
   ]
  },
  {
   "cell_type": "code",
   "execution_count": null,
   "id": "3d1d69e7",
   "metadata": {},
   "outputs": [],
   "source": [
    "def member_ship_Firefighters(text):\n",
    "    try:\n",
    "        return eval(text).count('Пожарные')    \n",
    "    except:\n",
    "        return 0"
   ]
  },
  {
   "cell_type": "code",
   "execution_count": null,
   "id": "06b0bdf4",
   "metadata": {},
   "outputs": [],
   "source": [
    "df['ambulance'] = df['member_ship_name'].apply(lambda x: member_ship_Ambulance(x))"
   ]
  },
  {
   "cell_type": "code",
   "execution_count": null,
   "id": "60b261cd",
   "metadata": {},
   "outputs": [],
   "source": [
    "df['police'] = df['member_ship_name'].apply(lambda x: member_ship_Police(x))"
   ]
  },
  {
   "cell_type": "code",
   "execution_count": null,
   "id": "03533ec5",
   "metadata": {},
   "outputs": [],
   "source": [
    "df['EDDS'] = df['member_ship_name'].apply(lambda x: member_ship_EDDS(x))"
   ]
  },
  {
   "cell_type": "code",
   "execution_count": null,
   "id": "ecbab46e",
   "metadata": {},
   "outputs": [],
   "source": [
    "df['gas'] = df['member_ship_name'].apply(lambda x: member_ship_Gas(x))"
   ]
  },
  {
   "cell_type": "code",
   "execution_count": null,
   "id": "02ea980d",
   "metadata": {},
   "outputs": [],
   "source": [
    "df['HCS'] = df['member_ship_name'].apply(lambda x: member_ship_HCS(x))"
   ]
  },
  {
   "cell_type": "code",
   "execution_count": null,
   "id": "9b4e73ed",
   "metadata": {},
   "outputs": [],
   "source": [
    "df['antiterror'] = df['member_ship_name'].apply(lambda x: member_ship_Antiterror(x))"
   ]
  },
  {
   "cell_type": "code",
   "execution_count": null,
   "id": "d508a15e",
   "metadata": {},
   "outputs": [],
   "source": [
    "df['firefighters'] = df['member_ship_name'].apply(lambda x: member_ship_Firefighters(x))"
   ]
  },
  {
   "cell_type": "code",
   "execution_count": null,
   "id": "f4538ab4",
   "metadata": {},
   "outputs": [],
   "source": [
    "plt.figure(figsize=(10,5))\n",
    "df[['ambulance', 'police', 'EDDS', 'gas', 'HCS', 'antiterror', 'firefighters']].sum().plot(kind='bar', rot=0)\n",
    "plt.title('Распределение полифакторных ЧС в Волгоградской области', fontsize=15)\n",
    "plt.ylabel('количество полифакторных ЧС', fontsize=10)\n",
    "plt.xlabel('')\n",
    "plt.show()"
   ]
  },
  {
   "cell_type": "code",
   "execution_count": null,
   "id": "6aa824a8",
   "metadata": {},
   "outputs": [],
   "source": [
    "text = []\n",
    "for members in member_ship_list:\n",
    "    if len(eval(members)) > 1:\n",
    "        for member in eval(members):\n",
    "            text.append(member)\n",
    "    else:\n",
    "        text.append(eval(members)[0])"
   ]
  },
  {
   "cell_type": "code",
   "execution_count": null,
   "id": "c71f1111",
   "metadata": {},
   "outputs": [],
   "source": [
    "text = str(text)"
   ]
  },
  {
   "cell_type": "code",
   "execution_count": null,
   "id": "ec24d54f",
   "metadata": {},
   "outputs": [],
   "source": [
    "text = text[1:-1]"
   ]
  },
  {
   "cell_type": "code",
   "execution_count": null,
   "id": "52fddd14",
   "metadata": {},
   "outputs": [],
   "source": [
    "wordcloud = WordCloud(width = 2200, \n",
    "                      height = 1200, \n",
    "                      random_state=1, \n",
    "                      background_color='white', \n",
    "                      normalize_plurals = True, \n",
    "                      collocations=False, repeat = True, min_font_size = 6, \n",
    "                      stopwords = STOPWORDS_RU).generate(text)\n",
    "\n",
    "plot_cloud(wordcloud)"
   ]
  },
  {
   "cell_type": "code",
   "execution_count": null,
   "id": "b3ca6e2b",
   "metadata": {},
   "outputs": [],
   "source": [
    "df['isNear'].value_counts()"
   ]
  },
  {
   "cell_type": "code",
   "execution_count": null,
   "id": "5404631f",
   "metadata": {},
   "outputs": [],
   "source": [
    "df[df['isNear'] == True][['region', 'name', 'timeIsoStr', 'membership', 'lat', 'lon', 'state']]"
   ]
  },
  {
   "cell_type": "code",
   "execution_count": null,
   "id": "97ab929a",
   "metadata": {},
   "outputs": [],
   "source": [
    "df[df['isNear'] == False][['region', 'name', 'timeIsoStr', 'membership', 'lat', 'lon', 'state']][:20]"
   ]
  },
  {
   "cell_type": "code",
   "execution_count": null,
   "id": "7d33ad8e",
   "metadata": {},
   "outputs": [],
   "source": [
    "df[['name', 'type']].drop_duplicates(subset='name').sort_values(by='name')[:50]"
   ]
  },
  {
   "cell_type": "code",
   "execution_count": null,
   "id": "c10d3909",
   "metadata": {},
   "outputs": [],
   "source": [
    "df[['name', 'type']].drop_duplicates(subset='name').sort_values(by='name')[50:100]"
   ]
  },
  {
   "cell_type": "code",
   "execution_count": null,
   "id": "579c42ba",
   "metadata": {},
   "outputs": [],
   "source": [
    "df.drop(columns='type', inplace=True)"
   ]
  },
  {
   "cell_type": "code",
   "execution_count": null,
   "id": "1bb8af41",
   "metadata": {},
   "outputs": [],
   "source": [
    "df['name'].nunique()"
   ]
  },
  {
   "cell_type": "code",
   "execution_count": null,
   "id": "62a6a44e",
   "metadata": {},
   "outputs": [],
   "source": [
    "name = df['name'].unique()"
   ]
  },
  {
   "cell_type": "code",
   "execution_count": null,
   "id": "9fa384da",
   "metadata": {},
   "outputs": [],
   "source": [
    "transport = ['Светофор', 'Наезд на препятствие', 'Наезд на животное', 'Застрявшие транспортные средства',\n",
    "             'Управление транспортным средством в состоянии алкогольного/наркотического опьянения',\n",
    "            'Брошенное транспортное средство', 'Повреждение транспортного средства', 'ДТП с пострадавшими',\n",
    "             'Наезд на пешехода', 'Авария на воздушном судне', 'Крушение воздушного судна',\n",
    "            'ДТП', 'Пожар на транспортном средстве', 'Транспортные пробки', 'Пожар на общественном транспортном средстве', \n",
    "            'Поломка междугородних/межмуниципальных транспортных средств', 'Гололёд',\n",
    "            'Взрыв на транспортном средстве', 'Запах газа на общественном транспортном средстве', \n",
    "            'Авария на грузовых/пассажирских поездах и поездах метрополитена', 'Угроза обрушения в метроэлектротрансе',\n",
    "             'Падение пассажира', 'Наезд на стоящее транспортное средство', 'Авария на грузовых/пассажирских судах',\n",
    "             'Пожар на транспортном средстве, перевозящем опасные грузы', 'Снежные заносы/Гололед'\n",
    "            'Наезд на внезапно появившееся препятствие',  'Снежные заносы/Гололед',\n",
    "            'Повреждение припаркованного транспортного средства', 'Наезд на велосипедиста', 'Covid – Транспорт',\n",
    "            'Подозрительное транспортное средство', 'Наезд на внезапно появившееся препятствие',\n",
    "            'Крушение грузовых/пассажирских поездов и поездов метрополитена']\n",
    "hcs = ['Водоснабжение', 'Запах газа в жилом здании', 'Вскрытие дверей', 'Бездомные животные', 'Водоотведение',\n",
    "      'Упавшие деревья', 'Обрушение', 'Обрыв кабеля', 'Застрявшие граждане в лифте', 'Провал грунта',\n",
    "       'Пожар в жилом здании', 'Застревание/падение животных', 'Взрыв инженерных коммуникаций',\n",
    "      'Благоустройство', 'Обрушение зданий', 'Снежные заносы', 'Подтопление зданий', 'Угроза обрушения',\n",
    "      'Взрыв бытового газа', 'Застревание/падение граждан', 'Теплоснабжение', 'Открытые люки',\n",
    "       'Застревание/падение граждан/животных в труднодоступные места', 'Угроза обрушения зданий',\n",
    "      'Запах газа на социально значимом объекте']\n",
    "industry = ['Газоснабжение', 'Электроснабжение', 'Неизвестный запах', 'Запах газа',\n",
    "            'Запах газа в местах массового пребывания граждан',\n",
    "           'Пожар в производственных/технических/торговых/складских помещениях',\n",
    "            'Запах газа на производственных/технических/торговых/складских помещениях',\n",
    "           'Пожар на потенциально опасном объекте', 'Пожар на инженерных коммуникациях',\n",
    "            'Запах газа на потенциально опасном объекте', 'Авария на газопроводе',\n",
    "           'Авария с выбросом/сбросом аварийно химически опасных веществ']\n",
    "healthcare = ['Психически неуравновешенные люди', 'Оказание медицинской помощи', 'Причинение вреда здоровью',\n",
    "              'Попытка суицида', 'Covid – Трудовые отношения', 'Covid – Поддержка бизнеса',\n",
    "             'Инфекционные болезни животных/птиц', '2019-nCov: консультация', '2019-nCoV без симптомов',\n",
    "              '2019-nCoV с симптомами', 'Covid – Образование', 'Covid – Регистрация', 'Covid – Иные вопросы',\n",
    "             '2019-nCov консультация', 'Covid – Здоровье, лекарства', 'Covid – Самоизоляция', 'Covid – Симптомы',\n",
    "              'Covid – Соц.обеспечение', 'Covid – Товары и услуги', 'Психологическая помощь', 'Covid – СИЗ, Дезобработка']\n",
    "crime = ['Оскорбительные вызовы', 'Семейный конфликт', 'Детские шалости', 'Правонарушение',\n",
    "       'Труп', 'Кража', 'Управление транспортным средством в неадекватном состоянии', \n",
    "        'Грабеж', 'Обнаружение неразорвавшихся боеприпасов и взрывоопасных предметов', 'Пожар ландшафтный', 'Драка',\n",
    "        'Пожар загорание/задымление', 'Заблудившиеся граждане', 'Подозрительный предмет', 'Злонамеренные вызовы',\n",
    "         'Потерявшиеся граждане', 'Угон транспортного средства',\n",
    "         'Незаконный оборот наркотических средств и психотропных веществ',\n",
    "       'Спасение на воде', 'Ножевое ранение', 'Разведение костров', 'Исчезновение граждан',\n",
    "         'Стрельба из огнестрельного оружия', 'Взрыв',\n",
    "        'Мошенничество', 'Стрельба', 'Незаконное лишение свободы граждан', 'Бомж', 'Массовые беспорядки',\n",
    "        'Незаконный оборот алкогольной продукции', 'Стрельба из пневматического оружия', 'Похищение граждан', \n",
    "        'Помощь на воде', 'Вандализм', 'Убийство', 'Разбой', 'Захват объектов', 'Огнестрельное ранение', 'Ранение',\n",
    "        'Пожар на социально значимом объекте', 'Захват заложников', 'Незаконный оборот огнестрельного оружия',\n",
    "        'Незаконный оборот денежных средств', 'Обнаружение опасных, отравляющих, ядовитых и иных вредных веществ',\n",
    "        'Обнаружение огнестрельного оружия', 'Обнаружение', 'Побег осужденных/арестованных граждан', 'Незаконный оборот',\n",
    "        'Обнаружение бесхозных контейнеров,цистерн,резервуаров с неизвестным содержанием', 'Грабёж',\n",
    "         'Розыск подозреваемых/обвиняемых граждан', 'Пожар ландшафтный/Природный', 'Поиск пропавших людей',\n",
    "        'Стрельба из метательного оружия', 'Правонарушение/Общественный порядок',\n",
    "         'Поражение растений болезнями и вредителями', 'Захват заложников/объектов',\n",
    "        'Подозрительный гражданин', 'Сигнализация', 'Соседний субъект', 'Изнасилование', 'Угроза террористического акта',\n",
    "        'Пожар в местах массового пребывания граждан']\n",
    "more = ['Неправильное понимание экстренной ситуации', 'Получение справок', 'Помощь населению', 'не задано',\n",
    "        'Оказание помощи населению', '1:Соседний субъект', 'Тренировка', 'Тест Соседний субъект', 'Другое',]\n",
    "error = ['Случайный набор номера', 'Прерывание вызова звонящим сразу после подключения', 'Вызов с молчанием',\n",
    "         'Автоматические ложные вызовы', 'Ложные вызовы вследствие сбоя в сети связи',\n",
    "         'Неправильный набор номера (ошибочный)', 'Tест_Карточки', 'Тест_Карточки']"
   ]
  },
  {
   "cell_type": "code",
   "execution_count": null,
   "id": "ccb5a160",
   "metadata": {},
   "outputs": [],
   "source": [
    "def type_name(name):\n",
    "    if name in transport:\n",
    "        return 'ЧС на транспорте'\n",
    "    elif name in hcs:\n",
    "        return 'ЧС в сфере ЖКХ'\n",
    "    elif name in industry:\n",
    "        return 'ЧС в сфере ТЭК и Промышленность'\n",
    "    elif name in healthcare:\n",
    "        return 'ЧС в сфере здравоохранения'\n",
    "    elif name in crime:\n",
    "        return 'ЧС, связанные с противоправными действиями'\n",
    "    elif name in more:\n",
    "        return 'Другое'\n",
    "    elif name in error:\n",
    "        return 'сбой связи'\n",
    "    else:\n",
    "        return 'не задано'"
   ]
  },
  {
   "cell_type": "code",
   "execution_count": null,
   "id": "f6033afa",
   "metadata": {},
   "outputs": [],
   "source": [
    "df['type'] = df['name'].apply(lambda x: type_name(x))"
   ]
  },
  {
   "cell_type": "code",
   "execution_count": null,
   "id": "edfd2358",
   "metadata": {},
   "outputs": [],
   "source": [
    "df[df['type'] == 'не задано']['name']"
   ]
  },
  {
   "cell_type": "code",
   "execution_count": null,
   "id": "5811694c",
   "metadata": {},
   "outputs": [],
   "source": [
    "df['type'].value_counts()"
   ]
  },
  {
   "cell_type": "code",
   "execution_count": null,
   "id": "56285379",
   "metadata": {},
   "outputs": [],
   "source": [
    "plt.figure(figsize=(10,8))\n",
    "sns.countplot(y = 'type', order=df['type'].value_counts().index, data = df) \\\n",
    ".set_title('Распределение полифакторных ЧС в Волгоградской области', fontsize=15)\n",
    "plt.xlabel('количество полифакторных ЧС', fontsize=10)\n",
    "plt.ylabel('')\n",
    "plt.show()"
   ]
  },
  {
   "cell_type": "code",
   "execution_count": null,
   "id": "e0c61b56",
   "metadata": {},
   "outputs": [],
   "source": [
    "df.shape"
   ]
  },
  {
   "cell_type": "code",
   "execution_count": null,
   "id": "7c254b6f",
   "metadata": {},
   "outputs": [],
   "source": [
    "df.query('type == \"сбой связи\"').shape"
   ]
  },
  {
   "cell_type": "code",
   "execution_count": null,
   "id": "a473ed7c",
   "metadata": {},
   "outputs": [],
   "source": [
    "100 - round(1233706 / 2506703, 4) * 100"
   ]
  },
  {
   "cell_type": "code",
   "execution_count": null,
   "id": "876377e1",
   "metadata": {},
   "outputs": [],
   "source": [
    "round(1233706 / 2506703, 4) * 100"
   ]
  },
  {
   "cell_type": "code",
   "execution_count": null,
   "id": "bddd05f7",
   "metadata": {},
   "outputs": [],
   "source": [
    "type_df = df.groupby(['type', 'year', 'month'])['region'].count().unstack(fill_value=0).T\n",
    "type_df.head()"
   ]
  },
  {
   "cell_type": "code",
   "execution_count": null,
   "id": "b45704c0",
   "metadata": {},
   "outputs": [],
   "source": [
    "type_df['ЧС в сфере здравоохранения']"
   ]
  },
  {
   "cell_type": "code",
   "execution_count": null,
   "id": "3f7f0242",
   "metadata": {},
   "outputs": [],
   "source": [
    "plt.figure(figsize=(20,8))\n",
    "sns.lineplot(data=type_df['ЧС в сфере здравоохранения']).set_title('Распределение ЧС в сфере здравоохранения в Волгоградской области', fontsize=15)\n",
    "plt.ylabel('количество полифакторных ЧС', fontsize=10)\n",
    "plt.xlabel('месяц')\n",
    "plt.show()"
   ]
  },
  {
   "cell_type": "code",
   "execution_count": null,
   "id": "6f9d0650",
   "metadata": {},
   "outputs": [],
   "source": [
    "plt.figure(figsize=(20,8))\n",
    "sns.lineplot(data=type_df['ЧС, связанные с противоправными действиями']) \\\n",
    ".set_title('Распределение ЧС, связанные с противоправными действиями в Волгоградской области', fontsize=15)\n",
    "plt.ylabel('количество полифакторных ЧС', fontsize=10)\n",
    "plt.xlabel('месяц')\n",
    "plt.show()"
   ]
  },
  {
   "cell_type": "code",
   "execution_count": null,
   "id": "72906505",
   "metadata": {},
   "outputs": [],
   "source": [
    "plt.figure(figsize=(20,8))\n",
    "sns.lineplot(data=type_df['ЧС на транспорте']) \\\n",
    ".set_title('Распределение ЧС на транспорте в Волгоградской области', fontsize=15)\n",
    "plt.ylabel('количество полифакторных ЧС', fontsize=10)\n",
    "plt.xlabel('месяц')\n",
    "plt.show()"
   ]
  },
  {
   "cell_type": "code",
   "execution_count": null,
   "id": "f97cc986",
   "metadata": {},
   "outputs": [],
   "source": [
    "plt.figure(figsize=(20,8))\n",
    "sns.lineplot(data=type_df['ЧС в сфере ЖКХ']) \\\n",
    ".set_title('Распределение ЧС в сфере ЖКХ в Волгоградской области', fontsize=15)\n",
    "plt.ylabel('количество полифакторных ЧС', fontsize=10)\n",
    "plt.xlabel('месяц')\n",
    "plt.show()"
   ]
  },
  {
   "cell_type": "code",
   "execution_count": null,
   "id": "4255a74f",
   "metadata": {},
   "outputs": [],
   "source": [
    "plt.figure(figsize=(20,8))\n",
    "sns.lineplot(data=type_df['ЧС в сфере ТЭК и Промышленность']) \\\n",
    ".set_title('Распределение ЧС в сфере ТЭК и Промышленность в Волгоградской области', fontsize=15)\n",
    "plt.ylabel('количество полифакторных ЧС', fontsize=10)\n",
    "plt.xlabel('месяц')\n",
    "plt.show()"
   ]
  },
  {
   "cell_type": "code",
   "execution_count": null,
   "id": "41ce3020",
   "metadata": {},
   "outputs": [],
   "source": [
    "plt.figure(figsize=(20,8))\n",
    "sns.lineplot(data=type_df['Другое']) \\\n",
    ".set_title('Распределение Другое в Волгоградской области', fontsize=15)\n",
    "plt.ylabel('количество полифакторных ЧС', fontsize=10)\n",
    "plt.xlabel('месяц')\n",
    "plt.show()"
   ]
  },
  {
   "cell_type": "code",
   "execution_count": null,
   "id": "9950f1a6",
   "metadata": {},
   "outputs": [],
   "source": [
    "plt.figure(figsize=(20,8))\n",
    "sns.lineplot(data=type_df['сбой связи']) \\\n",
    ".set_title('Распределение сбой связи в Волгоградской области', fontsize=15)\n",
    "plt.ylabel('количество полифакторных ЧС', fontsize=10)\n",
    "plt.xlabel('месяц')\n",
    "plt.show()"
   ]
  },
  {
   "cell_type": "code",
   "execution_count": null,
   "id": "b31b9e8f",
   "metadata": {},
   "outputs": [],
   "source": [
    "region_type = df.groupby(['region'])['type'].value_counts().unstack(fill_value=0) \\\n",
    ".sort_values(by='ЧС в сфере здравоохранения', ascending=False)\n",
    "region_type.head()"
   ]
  },
  {
   "cell_type": "code",
   "execution_count": null,
   "id": "c5d238e4",
   "metadata": {},
   "outputs": [],
   "source": [
    "region_type.plot(kind='bar', figsize=(30,10))\n",
    "plt.show()"
   ]
  },
  {
   "cell_type": "code",
   "execution_count": null,
   "id": "93eae299",
   "metadata": {},
   "outputs": [],
   "source": [
    "plt.figure(figsize=(8,8))\n",
    "sns.countplot(y = 'region' , hue='iscity' ,order=df.query('type != \"сбой связи\"')['region'] \\\n",
    "              .value_counts().iloc[:10].index, \\\n",
    "              data = df.query('type != \"сбой связи\"')) \\\n",
    "            .set_title('Распределение полифакторных ЧС в Волгоградской области', fontsize=15)\n",
    "plt.xlabel('количество полифакторных ЧС', fontsize=10)\n",
    "plt.ylabel('')\n",
    "plt.legend(loc='center right')\n",
    "plt.show()"
   ]
  },
  {
   "cell_type": "code",
   "execution_count": null,
   "id": "64001eb8",
   "metadata": {},
   "outputs": [],
   "source": [
    "plt.figure(figsize=(8,8))\n",
    "sns.countplot(y = 'name', order=df.query('type != \"сбой связи\"')['name'].value_counts().iloc[:10].index, \\\n",
    "    data = df.query('type != \"сбой связи\"')) \\\n",
    "    .set_title('Распределение полифакторных ЧС в Волгоградской области', fontsize=15)\n",
    "plt.xlabel('количество полифакторных ЧС', fontsize=10)\n",
    "plt.ylabel('')\n",
    "plt.show()"
   ]
  },
  {
   "cell_type": "code",
   "execution_count": null,
   "id": "a8c6876b",
   "metadata": {},
   "outputs": [],
   "source": [
    "df.columns"
   ]
  },
  {
   "cell_type": "code",
   "execution_count": null,
   "id": "7cfbbf12",
   "metadata": {},
   "outputs": [],
   "source": [
    "df.head()"
   ]
  },
  {
   "cell_type": "code",
   "execution_count": null,
   "id": "2692187e",
   "metadata": {},
   "outputs": [],
   "source": [
    "df.to_csv('data_clean/emergency_situations_clean.csv', index=False)"
   ]
  },
  {
   "cell_type": "code",
   "execution_count": null,
   "id": "b9b17aa4",
   "metadata": {},
   "outputs": [],
   "source": []
  },
  {
   "cell_type": "code",
   "execution_count": null,
   "id": "00f55129",
   "metadata": {},
   "outputs": [],
   "source": []
  },
  {
   "cell_type": "code",
   "execution_count": null,
   "id": "538834da",
   "metadata": {},
   "outputs": [],
   "source": []
  }
 ],
 "metadata": {
  "kernelspec": {
   "display_name": "Python 3",
   "language": "python",
   "name": "python3"
  },
  "language_info": {
   "codemirror_mode": {
    "name": "ipython",
    "version": 3
   },
   "file_extension": ".py",
   "mimetype": "text/x-python",
   "name": "python",
   "nbconvert_exporter": "python",
   "pygments_lexer": "ipython3",
   "version": "3.8.8"
  }
 },
 "nbformat": 4,
 "nbformat_minor": 5
}

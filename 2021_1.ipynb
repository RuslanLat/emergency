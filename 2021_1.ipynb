{
 "cells": [
  {
   "cell_type": "code",
   "execution_count": null,
   "id": "380681cd",
   "metadata": {},
   "outputs": [],
   "source": [
    "import pandas as pd\n",
    "import numpy as np"
   ]
  },
  {
   "cell_type": "code",
   "execution_count": null,
   "id": "c6560b61",
   "metadata": {},
   "outputs": [],
   "source": [
    "df = pd.read_csv('data/01-06.2021.csv', sep=';', header=1, encoding='windows-1251', low_memory=False)"
   ]
  },
  {
   "cell_type": "code",
   "execution_count": null,
   "id": "1a152dc9",
   "metadata": {},
   "outputs": [],
   "source": [
    "df.head()"
   ]
  },
  {
   "cell_type": "code",
   "execution_count": null,
   "id": "40c33be6",
   "metadata": {},
   "outputs": [],
   "source": [
    "df.columns"
   ]
  },
  {
   "cell_type": "code",
   "execution_count": null,
   "id": "c60acf36",
   "metadata": {},
   "outputs": [],
   "source": [
    "df.drop(columns=['Unnamed: 35', 'Unnamed: 36', 'Unnamed: 37'], inplace=True)"
   ]
  },
  {
   "cell_type": "code",
   "execution_count": null,
   "id": "0517db99",
   "metadata": {},
   "outputs": [],
   "source": [
    "df.shape"
   ]
  },
  {
   "cell_type": "code",
   "execution_count": null,
   "id": "59b280a3",
   "metadata": {},
   "outputs": [],
   "source": [
    "df.rename(columns={'isDanger': 'isDanger.1'}, inplace=True)"
   ]
  },
  {
   "cell_type": "code",
   "execution_count": null,
   "id": "4b30c906",
   "metadata": {},
   "outputs": [],
   "source": [
    "df.columns = [column.split()[0] for column in df.columns]"
   ]
  },
  {
   "cell_type": "code",
   "execution_count": null,
   "id": "0b222fee",
   "metadata": {},
   "outputs": [],
   "source": [
    "df.columns"
   ]
  },
  {
   "cell_type": "code",
   "execution_count": null,
   "id": "153df719",
   "metadata": {},
   "outputs": [],
   "source": [
    "df['cdPn'].unique()"
   ]
  },
  {
   "cell_type": "code",
   "execution_count": null,
   "id": "2e3bc85e",
   "metadata": {},
   "outputs": [],
   "source": [
    "df.drop(columns='cdPn', inplace=True)"
   ]
  },
  {
   "cell_type": "code",
   "execution_count": null,
   "id": "a30518dd",
   "metadata": {},
   "outputs": [],
   "source": [
    "df.replace('[NULL]', np.nan, inplace=True)"
   ]
  },
  {
   "cell_type": "code",
   "execution_count": null,
   "id": "b1baa725",
   "metadata": {},
   "outputs": [],
   "source": [
    "(df.isna().sum() / df.shape[0]).round(4) * 100"
   ]
  },
  {
   "cell_type": "code",
   "execution_count": null,
   "id": "eab01243",
   "metadata": {},
   "outputs": [],
   "source": [
    "col_names = []\n",
    "for column in df.columns:\n",
    "    try:\n",
    "        df[column] = df[column].apply(lambda x: x.strip() if x is not np.nan else '')\n",
    "    except:\n",
    "        col_names.append(column) "
   ]
  },
  {
   "cell_type": "code",
   "execution_count": null,
   "id": "01dcfe3a",
   "metadata": {},
   "outputs": [],
   "source": [
    "df.replace('[NULL]', np.nan, inplace=True)"
   ]
  },
  {
   "cell_type": "code",
   "execution_count": null,
   "id": "d02474e0",
   "metadata": {},
   "outputs": [],
   "source": [
    "column_nan = df.isna().sum()[df.isna().sum() == df.shape[0]].index\n",
    "column_nan"
   ]
  },
  {
   "cell_type": "code",
   "execution_count": null,
   "id": "fecdcc1c",
   "metadata": {},
   "outputs": [],
   "source": [
    "df[col_names].head()"
   ]
  },
  {
   "cell_type": "code",
   "execution_count": null,
   "id": "2f6d64af",
   "metadata": {},
   "outputs": [],
   "source": [
    "df.drop(columns=column_nan, inplace=True)"
   ]
  },
  {
   "cell_type": "code",
   "execution_count": null,
   "id": "f3d175a7",
   "metadata": {},
   "outputs": [],
   "source": [
    "df.shape"
   ]
  },
  {
   "cell_type": "code",
   "execution_count": null,
   "id": "1acdebe4",
   "metadata": {},
   "outputs": [],
   "source": [
    "(df['name'] == df['type']).sum()"
   ]
  },
  {
   "cell_type": "code",
   "execution_count": null,
   "id": "a1f467bc",
   "metadata": {},
   "outputs": [],
   "source": [
    "df.drop(columns='type', inplace=True)"
   ]
  },
  {
   "cell_type": "code",
   "execution_count": null,
   "id": "9faff05a",
   "metadata": {},
   "outputs": [],
   "source": [
    "df['name'].nunique()"
   ]
  },
  {
   "cell_type": "code",
   "execution_count": null,
   "id": "4cdec714",
   "metadata": {},
   "outputs": [],
   "source": [
    "df['name'].isna().sum()"
   ]
  },
  {
   "cell_type": "code",
   "execution_count": null,
   "id": "13861cde",
   "metadata": {},
   "outputs": [],
   "source": [
    "df[['hrId', 'name']].sort_values(by='name')[50:100]"
   ]
  },
  {
   "cell_type": "code",
   "execution_count": null,
   "id": "447eb0f1",
   "metadata": {},
   "outputs": [],
   "source": [
    "df['type'] = df['hrId'].apply(lambda x: ' '.join(x.split('_')[1:-1]))"
   ]
  },
  {
   "cell_type": "code",
   "execution_count": null,
   "id": "878d5c29",
   "metadata": {},
   "outputs": [],
   "source": [
    "df['level'].unique()"
   ]
  },
  {
   "cell_type": "code",
   "execution_count": null,
   "id": "7c594301",
   "metadata": {},
   "outputs": [],
   "source": [
    "df['level'].isna().sum()"
   ]
  },
  {
   "cell_type": "code",
   "execution_count": null,
   "id": "00a9efe6",
   "metadata": {},
   "outputs": [],
   "source": [
    "df['state'].unique()"
   ]
  },
  {
   "cell_type": "code",
   "execution_count": null,
   "id": "3ceeb98e",
   "metadata": {},
   "outputs": [],
   "source": [
    "df['state'].isna().sum()"
   ]
  },
  {
   "cell_type": "code",
   "execution_count": null,
   "id": "236226cb",
   "metadata": {},
   "outputs": [],
   "source": [
    "df.query(\"state == ''\")"
   ]
  },
  {
   "cell_type": "code",
   "execution_count": null,
   "id": "74934981",
   "metadata": {},
   "outputs": [],
   "source": [
    "state_index = df.query(\"state == ''\").index\n",
    "state_index"
   ]
  },
  {
   "cell_type": "code",
   "execution_count": null,
   "id": "d53bead2",
   "metadata": {},
   "outputs": [],
   "source": [
    "state_mode = df['state'].mode()\n",
    "state_mode"
   ]
  },
  {
   "cell_type": "code",
   "execution_count": null,
   "id": "faf00973",
   "metadata": {},
   "outputs": [],
   "source": [
    "for index in state_index:\n",
    "    df['state'][index] = state_mode[0]    "
   ]
  },
  {
   "cell_type": "code",
   "execution_count": null,
   "id": "c818ed35",
   "metadata": {},
   "outputs": [],
   "source": [
    "df['state'].unique()"
   ]
  },
  {
   "cell_type": "code",
   "execution_count": null,
   "id": "15dbccf7",
   "metadata": {},
   "outputs": [],
   "source": [
    "df['regionId'].nunique()"
   ]
  },
  {
   "cell_type": "code",
   "execution_count": null,
   "id": "d4d09efe",
   "metadata": {},
   "outputs": [],
   "source": [
    "df['regionId'].isna().sum()"
   ]
  },
  {
   "cell_type": "code",
   "execution_count": null,
   "id": "fa3a44f4",
   "metadata": {},
   "outputs": [],
   "source": [
    "df['region'].isna().sum()"
   ]
  },
  {
   "cell_type": "code",
   "execution_count": null,
   "id": "c38c26b1",
   "metadata": {},
   "outputs": [],
   "source": [
    "df[['region', 'regionId']].drop_duplicates().sort_values(by='regionId')[:34]"
   ]
  },
  {
   "cell_type": "code",
   "execution_count": null,
   "id": "b1855269",
   "metadata": {},
   "outputs": [],
   "source": [
    "df.drop(columns='regionId', inplace=True)"
   ]
  },
  {
   "cell_type": "code",
   "execution_count": null,
   "id": "5ce1f86d",
   "metadata": {},
   "outputs": [],
   "source": [
    "df['iscity'] = df['region'].apply(lambda x: 1 if 'Волгоград' in x else 0)"
   ]
  },
  {
   "cell_type": "code",
   "execution_count": null,
   "id": "254d3181",
   "metadata": {},
   "outputs": [],
   "source": [
    "df['region'] = df['region'].apply(lambda x: x.split()[-1] if x != 'не задано' else 'не задано')"
   ]
  },
  {
   "cell_type": "code",
   "execution_count": null,
   "id": "34af24d6",
   "metadata": {},
   "outputs": [],
   "source": [
    "df['isBlocking'].unique()"
   ]
  },
  {
   "cell_type": "code",
   "execution_count": null,
   "id": "ff4ffe6b",
   "metadata": {},
   "outputs": [],
   "source": [
    "df['isBlocking'].isna().sum()"
   ]
  },
  {
   "cell_type": "code",
   "execution_count": null,
   "id": "9f3002f6",
   "metadata": {},
   "outputs": [],
   "source": [
    "df['isBlocking'].isna().sum()"
   ]
  },
  {
   "cell_type": "code",
   "execution_count": null,
   "id": "ddaaefb8",
   "metadata": {},
   "outputs": [],
   "source": [
    "df['lostNumber'].unique()"
   ]
  },
  {
   "cell_type": "code",
   "execution_count": null,
   "id": "9486b508",
   "metadata": {},
   "outputs": [],
   "source": [
    "df['lostNumber'].isna().sum()"
   ]
  },
  {
   "cell_type": "code",
   "execution_count": null,
   "id": "b0b89420",
   "metadata": {},
   "outputs": [],
   "source": [
    "df.drop(columns='lostNumber', inplace=True)"
   ]
  },
  {
   "cell_type": "code",
   "execution_count": null,
   "id": "3d736863",
   "metadata": {},
   "outputs": [],
   "source": [
    "df['membership'].nunique()"
   ]
  },
  {
   "cell_type": "code",
   "execution_count": null,
   "id": "47a321eb",
   "metadata": {},
   "outputs": [],
   "source": [
    "df['membership'].isna().sum()"
   ]
  },
  {
   "cell_type": "code",
   "execution_count": null,
   "id": "e4898ea3",
   "metadata": {},
   "outputs": [],
   "source": [
    "df['member_count'] = df['membership'].apply(lambda x: len(x.split(',')) if x != '' else 0) "
   ]
  },
  {
   "cell_type": "code",
   "execution_count": null,
   "id": "634ff31e",
   "metadata": {},
   "outputs": [],
   "source": [
    "df['member_count'].max()"
   ]
  },
  {
   "cell_type": "code",
   "execution_count": null,
   "id": "be5e130e",
   "metadata": {},
   "outputs": [],
   "source": [
    "df[df['member_count'] == 10]['membership'].values"
   ]
  },
  {
   "cell_type": "code",
   "execution_count": null,
   "id": "31e2db05",
   "metadata": {},
   "outputs": [],
   "source": [
    "def membershipname(text):\n",
    "    \n",
    "    if text == '':\n",
    "        return ''\n",
    "    else:\n",
    "        member_ship_name = []\n",
    "        for word in text.split(', '):\n",
    "            member_ship_name.append(word.split(':')[0])\n",
    "        \n",
    "        return member_ship_name "
   ]
  },
  {
   "cell_type": "code",
   "execution_count": null,
   "id": "27864bda",
   "metadata": {},
   "outputs": [],
   "source": [
    "df['member_ship_name'] = df['membership'].apply(lambda x: membershipname(x)) "
   ]
  },
  {
   "cell_type": "code",
   "execution_count": null,
   "id": "710f8865",
   "metadata": {},
   "outputs": [],
   "source": [
    "def membership(text):\n",
    "    \n",
    "    if text == '':\n",
    "        return ''\n",
    "    else:\n",
    "        member_ship = []\n",
    "        for word in text.split(', '):\n",
    "            member_ship.append(word.split(':')[1])\n",
    "        \n",
    "        return member_ship "
   ]
  },
  {
   "cell_type": "code",
   "execution_count": null,
   "id": "0b8b99c8",
   "metadata": {},
   "outputs": [],
   "source": [
    "df['membership'] = df['membership'].apply(lambda x: membership(x))"
   ]
  },
  {
   "cell_type": "code",
   "execution_count": null,
   "id": "a0eebf43",
   "metadata": {},
   "outputs": [],
   "source": [
    "df[['hrId', 'timeIsoStr']].head()"
   ]
  },
  {
   "cell_type": "code",
   "execution_count": null,
   "id": "4bfa3a7d",
   "metadata": {},
   "outputs": [],
   "source": [
    "df['timeIsoStr'].isna().sum()"
   ]
  },
  {
   "cell_type": "code",
   "execution_count": null,
   "id": "1d8b9a0e",
   "metadata": {},
   "outputs": [],
   "source": [
    "df['timeIsoStr'] = pd.to_datetime(df['timeIsoStr'])"
   ]
  },
  {
   "cell_type": "code",
   "execution_count": null,
   "id": "a8a08b75",
   "metadata": {},
   "outputs": [],
   "source": [
    "df['timeIsoStr'].agg(['min', 'max'])"
   ]
  },
  {
   "cell_type": "code",
   "execution_count": null,
   "id": "5b9d8533",
   "metadata": {},
   "outputs": [],
   "source": [
    "df['injuredNumber'].unique()"
   ]
  },
  {
   "cell_type": "code",
   "execution_count": null,
   "id": "e8af9eb4",
   "metadata": {},
   "outputs": [],
   "source": [
    "df['injuredNumber'].isna().sum()"
   ]
  },
  {
   "cell_type": "code",
   "execution_count": null,
   "id": "cf35b4c2",
   "metadata": {},
   "outputs": [],
   "source": [
    "df[df['injuredNumber'] != '0']['injuredNumber'].size"
   ]
  },
  {
   "cell_type": "code",
   "execution_count": null,
   "id": "b668d672",
   "metadata": {},
   "outputs": [],
   "source": [
    "df.drop(columns='injuredNumber', inplace=True)"
   ]
  },
  {
   "cell_type": "code",
   "execution_count": null,
   "id": "20cb8647",
   "metadata": {},
   "outputs": [],
   "source": [
    "df['responseStatus'].unique()"
   ]
  },
  {
   "cell_type": "code",
   "execution_count": null,
   "id": "c21efa73",
   "metadata": {},
   "outputs": [],
   "source": [
    "df[df['responseStatus'] != '200']['responseStatus'].size"
   ]
  },
  {
   "cell_type": "code",
   "execution_count": null,
   "id": "5b31e979",
   "metadata": {},
   "outputs": [],
   "source": [
    "responseStatus_index = df[df['responseStatus'] != '200'].index\n",
    "responseStatus_index"
   ]
  },
  {
   "cell_type": "code",
   "execution_count": null,
   "id": "f9778158",
   "metadata": {},
   "outputs": [],
   "source": [
    "for index in responseStatus_index:\n",
    "    df['responseStatus'][index] = 0    "
   ]
  },
  {
   "cell_type": "code",
   "execution_count": null,
   "id": "82860ad6",
   "metadata": {},
   "outputs": [],
   "source": [
    "df['responseStatus'].unique()"
   ]
  },
  {
   "cell_type": "code",
   "execution_count": null,
   "id": "80aee18d",
   "metadata": {},
   "outputs": [],
   "source": [
    "df['responseStatus'] = df['responseStatus'].astype('int')"
   ]
  },
  {
   "cell_type": "code",
   "execution_count": null,
   "id": "8a96bf53",
   "metadata": {},
   "outputs": [],
   "source": [
    "df['responseStatus'].value_counts()"
   ]
  },
  {
   "cell_type": "code",
   "execution_count": null,
   "id": "f87d44f2",
   "metadata": {},
   "outputs": [],
   "source": [
    "df['actionTimeIsoStr'].isna().sum() / df.shape[0]"
   ]
  },
  {
   "cell_type": "code",
   "execution_count": null,
   "id": "b3b0b5d5",
   "metadata": {},
   "outputs": [],
   "source": [
    "df.drop(columns='actionTimeIsoStr', inplace=True)"
   ]
  },
  {
   "cell_type": "code",
   "execution_count": null,
   "id": "b2eae41e",
   "metadata": {},
   "outputs": [],
   "source": [
    "df['assignTimeIsoStr'].isna().sum() / df.shape[0]"
   ]
  },
  {
   "cell_type": "code",
   "execution_count": null,
   "id": "c95241d0",
   "metadata": {},
   "outputs": [],
   "source": [
    "df.drop(columns='assignTimeIsoStr', inplace=True)"
   ]
  },
  {
   "cell_type": "code",
   "execution_count": null,
   "id": "b5af250a",
   "metadata": {},
   "outputs": [],
   "source": [
    "df.shape"
   ]
  },
  {
   "cell_type": "code",
   "execution_count": null,
   "id": "099178f5",
   "metadata": {},
   "outputs": [],
   "source": [
    "df['cardId'].nunique()"
   ]
  },
  {
   "cell_type": "code",
   "execution_count": null,
   "id": "805dbca4",
   "metadata": {},
   "outputs": [],
   "source": [
    "cardId_count_index = df.groupby('cardId')['cardId'].count()[df.groupby('cardId')['cardId'].count() > 1].index\n",
    "cardId_count_index"
   ]
  },
  {
   "cell_type": "code",
   "execution_count": null,
   "id": "445e90da",
   "metadata": {},
   "outputs": [],
   "source": [
    "df[df['cardId'].isin(cardId_count_index)].sort_values(by='cardId')"
   ]
  },
  {
   "cell_type": "code",
   "execution_count": null,
   "id": "2bbf9619",
   "metadata": {},
   "outputs": [],
   "source": [
    "df[df['cardId'].isin(cardId_count_index)].sort_values(by='cardId').shape"
   ]
  },
  {
   "cell_type": "code",
   "execution_count": null,
   "id": "7ed80197",
   "metadata": {},
   "outputs": [],
   "source": [
    "df.drop_duplicates(subset='cardId', inplace=True)"
   ]
  },
  {
   "cell_type": "code",
   "execution_count": null,
   "id": "7a463d4a",
   "metadata": {},
   "outputs": [],
   "source": [
    "df['dispatchesId'].isna().sum() / df.shape[0]"
   ]
  },
  {
   "cell_type": "code",
   "execution_count": null,
   "id": "5c2c5343",
   "metadata": {},
   "outputs": [],
   "source": [
    "df.drop(columns='dispatchesId', inplace=True)"
   ]
  },
  {
   "cell_type": "code",
   "execution_count": null,
   "id": "f1e30b6f",
   "metadata": {},
   "outputs": [],
   "source": [
    "df['isChemFlood'].unique()"
   ]
  },
  {
   "cell_type": "code",
   "execution_count": null,
   "id": "8fc42dfe",
   "metadata": {},
   "outputs": [],
   "source": [
    "df.drop(columns='isChemFlood', inplace=True)"
   ]
  },
  {
   "cell_type": "code",
   "execution_count": null,
   "id": "183be503",
   "metadata": {},
   "outputs": [],
   "source": [
    "df['point'].isna().sum()"
   ]
  },
  {
   "cell_type": "code",
   "execution_count": null,
   "id": "03789e40",
   "metadata": {},
   "outputs": [],
   "source": [
    "df['point'].fillna(\"[{'lat': 0.0, 'lon': 0.0}]\", inplace=True)"
   ]
  },
  {
   "cell_type": "code",
   "execution_count": null,
   "id": "3cbde595",
   "metadata": {},
   "outputs": [],
   "source": [
    "df['point'] = df['point'].apply(lambda x: x[1:-1])"
   ]
  },
  {
   "cell_type": "code",
   "execution_count": null,
   "id": "f28ddd82",
   "metadata": {},
   "outputs": [],
   "source": [
    "df['point'] = df['point'].apply(lambda x: eval(x))"
   ]
  },
  {
   "cell_type": "code",
   "execution_count": null,
   "id": "8aae414d",
   "metadata": {},
   "outputs": [],
   "source": [
    "df['lat'] = df['point'].apply(lambda x: x['lat'])"
   ]
  },
  {
   "cell_type": "code",
   "execution_count": null,
   "id": "5fe6626a",
   "metadata": {},
   "outputs": [],
   "source": [
    "df['lon'] = df['point'].apply(lambda x: x['lon'])"
   ]
  },
  {
   "cell_type": "code",
   "execution_count": null,
   "id": "876ee167",
   "metadata": {},
   "outputs": [],
   "source": [
    "df.drop(columns='point', inplace=True)"
   ]
  },
  {
   "cell_type": "code",
   "execution_count": null,
   "id": "632cc816",
   "metadata": {},
   "outputs": [],
   "source": [
    "(df.isna().sum() / df.shape[0]).round(4) * 100"
   ]
  },
  {
   "cell_type": "code",
   "execution_count": null,
   "id": "4759cf39",
   "metadata": {},
   "outputs": [],
   "source": [
    "df['ierId'].tail()"
   ]
  },
  {
   "cell_type": "code",
   "execution_count": null,
   "id": "eb6bca77",
   "metadata": {},
   "outputs": [],
   "source": [
    "df.drop(columns='ierId', inplace=True)"
   ]
  },
  {
   "cell_type": "code",
   "execution_count": null,
   "id": "d65cbc06",
   "metadata": {},
   "outputs": [],
   "source": [
    "df['action'].dropna().tail()"
   ]
  },
  {
   "cell_type": "code",
   "execution_count": null,
   "id": "0b778abc",
   "metadata": {},
   "outputs": [],
   "source": [
    "df.drop(columns='action', inplace=True)"
   ]
  },
  {
   "cell_type": "code",
   "execution_count": null,
   "id": "fd9c7370",
   "metadata": {},
   "outputs": [],
   "source": [
    "df['ierType'].dropna().tail()"
   ]
  },
  {
   "cell_type": "code",
   "execution_count": null,
   "id": "f0df1b7e",
   "metadata": {},
   "outputs": [],
   "source": [
    "df.drop(columns='ierType', inplace=True)"
   ]
  },
  {
   "cell_type": "code",
   "execution_count": null,
   "id": "1cf362b5",
   "metadata": {},
   "outputs": [],
   "source": [
    "df['cityCode'].dropna().tail()"
   ]
  },
  {
   "cell_type": "code",
   "execution_count": null,
   "id": "58383643",
   "metadata": {},
   "outputs": [],
   "source": [
    "df.drop(columns='cityCode', inplace=True)"
   ]
  },
  {
   "cell_type": "code",
   "execution_count": null,
   "id": "d7cf5865",
   "metadata": {},
   "outputs": [],
   "source": [
    "df['isDanger'].dropna().tail()"
   ]
  },
  {
   "cell_type": "code",
   "execution_count": null,
   "id": "6305be91",
   "metadata": {},
   "outputs": [],
   "source": [
    "df.drop(columns='isDanger', inplace=True)"
   ]
  },
  {
   "cell_type": "code",
   "execution_count": null,
   "id": "e8d6e560",
   "metadata": {},
   "outputs": [],
   "source": [
    "df['cityFiasId'].dropna().tail()"
   ]
  },
  {
   "cell_type": "code",
   "execution_count": null,
   "id": "f111f8a6",
   "metadata": {},
   "outputs": [],
   "source": [
    "df.drop(columns='cityFiasId', inplace=True)"
   ]
  },
  {
   "cell_type": "code",
   "execution_count": null,
   "id": "eb0fa784",
   "metadata": {},
   "outputs": [],
   "source": [
    "df['streetCode'].dropna().tail()"
   ]
  },
  {
   "cell_type": "code",
   "execution_count": null,
   "id": "50317b8a",
   "metadata": {},
   "outputs": [],
   "source": [
    "df.drop(columns='streetCode', inplace=True)"
   ]
  },
  {
   "cell_type": "code",
   "execution_count": null,
   "id": "4e80d968",
   "metadata": {},
   "outputs": [],
   "source": [
    "df['districtCode'].dropna().tail()"
   ]
  },
  {
   "cell_type": "code",
   "execution_count": null,
   "id": "06a03c7a",
   "metadata": {},
   "outputs": [],
   "source": [
    "df.drop(columns='districtCode', inplace=True)"
   ]
  },
  {
   "cell_type": "code",
   "execution_count": null,
   "id": "6310b4bf",
   "metadata": {},
   "outputs": [],
   "source": [
    "df['streetFiasId'].dropna().tail()"
   ]
  },
  {
   "cell_type": "code",
   "execution_count": null,
   "id": "1d109583",
   "metadata": {},
   "outputs": [],
   "source": [
    "df.drop(columns='streetFiasId', inplace=True)"
   ]
  },
  {
   "cell_type": "code",
   "execution_count": null,
   "id": "7ee6f465",
   "metadata": {},
   "outputs": [],
   "source": [
    "df['clarification'].dropna().tail()"
   ]
  },
  {
   "cell_type": "code",
   "execution_count": null,
   "id": "05adb22d",
   "metadata": {},
   "outputs": [],
   "source": [
    "df.drop(columns='clarification', inplace=True)"
   ]
  },
  {
   "cell_type": "code",
   "execution_count": null,
   "id": "ca413f05",
   "metadata": {},
   "outputs": [],
   "source": [
    "df['acceptOperatorStr'].dropna().tail()"
   ]
  },
  {
   "cell_type": "code",
   "execution_count": null,
   "id": "44ac4530",
   "metadata": {},
   "outputs": [],
   "source": [
    "df.drop(columns='acceptOperatorStr', inplace=True)"
   ]
  },
  {
   "cell_type": "code",
   "execution_count": null,
   "id": "80784c74",
   "metadata": {},
   "outputs": [],
   "source": [
    "df.shape"
   ]
  },
  {
   "cell_type": "code",
   "execution_count": null,
   "id": "284f9a54",
   "metadata": {},
   "outputs": [],
   "source": [
    "df.info()"
   ]
  },
  {
   "cell_type": "code",
   "execution_count": null,
   "id": "2d5972e4",
   "metadata": {},
   "outputs": [],
   "source": [
    "df.rename(columns={'isDanger.1': 'isDanger'}, inplace=True)"
   ]
  },
  {
   "cell_type": "code",
   "execution_count": null,
   "id": "017bab6c",
   "metadata": {},
   "outputs": [],
   "source": [
    "df['isNear'].value_counts()"
   ]
  },
  {
   "cell_type": "code",
   "execution_count": null,
   "id": "38f860c0",
   "metadata": {},
   "outputs": [],
   "source": [
    "df.drop(columns='hrId', inplace=True)"
   ]
  },
  {
   "cell_type": "code",
   "execution_count": null,
   "id": "6ecb5191",
   "metadata": {},
   "outputs": [],
   "source": [
    "df['acceptOperatorFio'].dropna().head()"
   ]
  },
  {
   "cell_type": "code",
   "execution_count": null,
   "id": "277e86aa",
   "metadata": {},
   "outputs": [],
   "source": [
    "df.drop(columns='acceptOperatorFio', inplace=True)"
   ]
  },
  {
   "cell_type": "code",
   "execution_count": null,
   "id": "2f726301",
   "metadata": {},
   "outputs": [],
   "source": [
    "df.shape"
   ]
  },
  {
   "cell_type": "code",
   "execution_count": null,
   "id": "2d4342cb",
   "metadata": {},
   "outputs": [],
   "source": [
    "df.to_csv('data_clean/2021_1.csv', index=False)"
   ]
  },
  {
   "cell_type": "code",
   "execution_count": null,
   "id": "35e3dc3e",
   "metadata": {},
   "outputs": [],
   "source": []
  }
 ],
 "metadata": {
  "kernelspec": {
   "display_name": "Python 3",
   "language": "python",
   "name": "python3"
  },
  "language_info": {
   "codemirror_mode": {
    "name": "ipython",
    "version": 3
   },
   "file_extension": ".py",
   "mimetype": "text/x-python",
   "name": "python",
   "nbconvert_exporter": "python",
   "pygments_lexer": "ipython3",
   "version": "3.8.8"
  }
 },
 "nbformat": 4,
 "nbformat_minor": 5
}

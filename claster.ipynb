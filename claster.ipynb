{
 "cells": [
  {
   "cell_type": "code",
   "execution_count": null,
   "id": "e54baa88",
   "metadata": {},
   "outputs": [],
   "source": [
    "import pandas as pd\n",
    "import numpy as np\n",
    "import gmplot\n",
    "import seaborn as sns\n",
    "import matplotlib.pyplot as plt\n",
    "\n",
    "%matplotlib inline"
   ]
  },
  {
   "cell_type": "code",
   "execution_count": null,
   "id": "8a89cfb4",
   "metadata": {},
   "outputs": [],
   "source": [
    "df = pd.read_csv('data_region/Нехаевский.csv')"
   ]
  },
  {
   "cell_type": "code",
   "execution_count": null,
   "id": "68077fc6",
   "metadata": {},
   "outputs": [],
   "source": [
    "df.head()"
   ]
  },
  {
   "cell_type": "code",
   "execution_count": null,
   "id": "66c9673d",
   "metadata": {},
   "outputs": [],
   "source": [
    "df = df[(df[\"lat\"] != 0.0) & df[\"lat\"].notna()]"
   ]
  },
  {
   "cell_type": "code",
   "execution_count": null,
   "id": "d2e32d35",
   "metadata": {},
   "outputs": [],
   "source": [
    "X = df[[\"lat\", \"lon\"]]"
   ]
  },
  {
   "cell_type": "code",
   "execution_count": null,
   "id": "0803fbb0",
   "metadata": {},
   "outputs": [],
   "source": [
    "from sklearn.cluster import KMeans\n",
    "from tqdm import tqdm\n",
    "X = np.column_stack((X.lat, X.lon))\n",
    "K = range(1, 11)\n",
    "plt.figure(figsize=(12, 7))\n",
    "plt.plot(K, [KMeans(n_clusters=k, random_state=1, n_init =\n",
    "10).fit(X).inertia_ for k in tqdm(K)], '-o')\n",
    "plt.grid()\n",
    "plt.gca().set(xlabel='k - число кластеров', ylabel='$Q_{final}(k)$',\n",
    "title='График каменистой осыпи')\n",
    "plt.show()"
   ]
  },
  {
   "cell_type": "code",
   "execution_count": null,
   "id": "63e27436",
   "metadata": {},
   "outputs": [],
   "source": [
    "kmeans = KMeans(n_clusters=10)"
   ]
  },
  {
   "cell_type": "code",
   "execution_count": null,
   "id": "15ed0019",
   "metadata": {},
   "outputs": [],
   "source": [
    "kmeans.fit(X)"
   ]
  },
  {
   "cell_type": "code",
   "execution_count": null,
   "id": "1c490ab8",
   "metadata": {},
   "outputs": [],
   "source": [
    "df['claster'] = kmeans.predict(X)"
   ]
  },
  {
   "cell_type": "code",
   "execution_count": null,
   "id": "12b1ee50",
   "metadata": {},
   "outputs": [],
   "source": [
    "import folium"
   ]
  },
  {
   "cell_type": "code",
   "execution_count": null,
   "id": "767cb61d",
   "metadata": {},
   "outputs": [],
   "source": [
    "latmean=df[\"lat\"].mean()\n",
    "lonmean=df[\"lon\"].mean()"
   ]
  },
  {
   "cell_type": "code",
   "execution_count": null,
   "id": "70842b6a",
   "metadata": {},
   "outputs": [],
   "source": [
    "m = folium.Map(location=[latmean,lonmean], zoom_start=6)"
   ]
  },
  {
   "cell_type": "code",
   "execution_count": null,
   "id": "9ffb0217",
   "metadata": {},
   "outputs": [],
   "source": [
    "def color(claster):\n",
    "    if claster == 0:\n",
    "        col = 'green'\n",
    "    elif claster == 1:\n",
    "        col = 'blue'\n",
    "    elif claster == 2:\n",
    "        col = 'orange'\n",
    "    elif claster == 3:\n",
    "        col = 'purple'\n",
    "    elif claster == 4:\n",
    "        col = 'darkred'\n",
    "    elif claster == 5:\n",
    "        col = 'beige'\n",
    "    elif claster == 6:\n",
    "        col = 'pink'\n",
    "    elif claster == 7:\n",
    "        col = 'lightgreen'\n",
    "    elif claster == 8:\n",
    "        col = 'lightgray'\n",
    "    else:\n",
    "        col='red'\n",
    "    return col"
   ]
  },
  {
   "cell_type": "code",
   "execution_count": null,
   "id": "e88fb421",
   "metadata": {},
   "outputs": [],
   "source": [
    "{0:'green',1:'blue',2:'orange',3:'purple',4:'darkred',5:'beige',6:'pink',7:'lightgreen',8:'lightgray',9:'red'}"
   ]
  },
  {
   "cell_type": "code",
   "execution_count": null,
   "id": "c83986a6",
   "metadata": {},
   "outputs": [],
   "source": [
    "for lat, lan, claster in zip(df[\"lat\"],df[\"lon\"],df['claster']):\n",
    "    folium.Marker(location=[lat,lan], icon= folium.Icon(color=color(claster))).add_to(m)"
   ]
  },
  {
   "cell_type": "code",
   "execution_count": null,
   "id": "d04dfea1",
   "metadata": {
    "scrolled": true
   },
   "outputs": [],
   "source": [
    "m"
   ]
  },
  {
   "cell_type": "code",
   "execution_count": null,
   "id": "65253012",
   "metadata": {},
   "outputs": [],
   "source": [
    "df['claster'].value_counts()"
   ]
  },
  {
   "cell_type": "code",
   "execution_count": null,
   "id": "f96a849f",
   "metadata": {},
   "outputs": [],
   "source": [
    "df_new = df.query('(claster != 9) & (claster != 5) & (claster != 1) & (claster != 3)')"
   ]
  },
  {
   "cell_type": "code",
   "execution_count": null,
   "id": "26fb125e",
   "metadata": {},
   "outputs": [],
   "source": [
    "X = df_new[[\"lat\", \"lon\"]]"
   ]
  },
  {
   "cell_type": "code",
   "execution_count": null,
   "id": "3af6211b",
   "metadata": {
    "scrolled": true
   },
   "outputs": [],
   "source": [
    "from sklearn.cluster import KMeans\n",
    "from tqdm import tqdm\n",
    "X = np.column_stack((X.lat, X.lon))\n",
    "K = range(1, 11)\n",
    "plt.figure(figsize=(12, 5))\n",
    "plt.plot(K, [KMeans(n_clusters=k, random_state=1, n_init =\n",
    "10).fit(X).inertia_ for k in tqdm(K)], '-o')\n",
    "plt.grid()\n",
    "plt.gca().set(xlabel='k - число кластеров', ylabel='$Q_{final}(k)$',\n",
    "title='График каменистой осыпи')\n",
    "plt.show()"
   ]
  },
  {
   "cell_type": "code",
   "execution_count": null,
   "id": "1e07db24",
   "metadata": {},
   "outputs": [],
   "source": [
    "kmeans = KMeans(n_clusters=10)"
   ]
  },
  {
   "cell_type": "code",
   "execution_count": null,
   "id": "b4e9a8a4",
   "metadata": {},
   "outputs": [],
   "source": [
    "kmeans.fit(X)"
   ]
  },
  {
   "cell_type": "code",
   "execution_count": null,
   "id": "1626afad",
   "metadata": {},
   "outputs": [],
   "source": [
    "df_new['claster'] = kmeans.predict(X)"
   ]
  },
  {
   "cell_type": "code",
   "execution_count": null,
   "id": "840b5247",
   "metadata": {},
   "outputs": [],
   "source": [
    "df_new['claster'].value_counts()"
   ]
  },
  {
   "cell_type": "code",
   "execution_count": null,
   "id": "462083a5",
   "metadata": {},
   "outputs": [],
   "source": [
    "df_new.groupby('claster')['type'].value_counts().to_frame()[:50]"
   ]
  },
  {
   "cell_type": "code",
   "execution_count": null,
   "id": "a6028a8b",
   "metadata": {},
   "outputs": [],
   "source": [
    "latmean=df_new[\"lat\"].mean()\n",
    "lonmean=df_new[\"lon\"].mean()"
   ]
  },
  {
   "cell_type": "code",
   "execution_count": null,
   "id": "c6c3e854",
   "metadata": {},
   "outputs": [],
   "source": [
    "m = folium.Map(location=[latmean,lonmean], zoom_start=6)"
   ]
  },
  {
   "cell_type": "code",
   "execution_count": null,
   "id": "cb34c9de",
   "metadata": {},
   "outputs": [],
   "source": [
    "for lat, lan, claster in zip(df_new[\"lat\"],df_new[\"lon\"],df_new['claster']):\n",
    "    folium.Marker(location=[lat,lan], icon= folium.Icon(color=color(claster))).add_to(m)"
   ]
  },
  {
   "cell_type": "code",
   "execution_count": null,
   "id": "7cdaed23",
   "metadata": {},
   "outputs": [],
   "source": [
    "m"
   ]
  },
  {
   "cell_type": "code",
   "execution_count": null,
   "id": "c68b8c7d",
   "metadata": {},
   "outputs": [],
   "source": [
    "X = df_new[[\"lat\", \"lon\"]]"
   ]
  },
  {
   "cell_type": "code",
   "execution_count": null,
   "id": "765d6182",
   "metadata": {},
   "outputs": [],
   "source": [
    "from sklearn.cluster import KMeans\n",
    "from tqdm import tqdm\n",
    "X = np.column_stack((X.lat, X.lon))\n",
    "K = range(1, 20)\n",
    "plt.figure(figsize=(12, 5))\n",
    "plt.plot(K, [KMeans(n_clusters=k, random_state=1, n_init =\n",
    "10).fit(X).inertia_ for k in tqdm(K)], '-o')\n",
    "plt.grid()\n",
    "plt.gca().set(xlabel='k - число кластеров', ylabel='$Q_{final}(k)$',\n",
    "title='График каменистой осыпи')\n",
    "plt.show()"
   ]
  },
  {
   "cell_type": "code",
   "execution_count": null,
   "id": "327b22ae",
   "metadata": {},
   "outputs": [],
   "source": []
  }
 ],
 "metadata": {
  "kernelspec": {
   "display_name": "Python 3",
   "language": "python",
   "name": "python3"
  },
  "language_info": {
   "codemirror_mode": {
    "name": "ipython",
    "version": 3
   },
   "file_extension": ".py",
   "mimetype": "text/x-python",
   "name": "python",
   "nbconvert_exporter": "python",
   "pygments_lexer": "ipython3",
   "version": "3.8.8"
  }
 },
 "nbformat": 4,
 "nbformat_minor": 5
}

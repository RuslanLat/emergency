{
 "cells": [
  {
   "cell_type": "code",
   "execution_count": null,
   "id": "71abfe81",
   "metadata": {},
   "outputs": [],
   "source": [
    "import pandas as pd\n",
    "import numpy as np\n",
    "import os\n",
    "import seaborn as sns\n",
    "import matplotlib.pyplot as plt\n",
    "\n",
    "%matplotlib inline"
   ]
  },
  {
   "cell_type": "code",
   "execution_count": null,
   "id": "dff836d9",
   "metadata": {},
   "outputs": [],
   "source": [
    "df = pd.read_csv('data_clean/emergency_situations_clean.csv')"
   ]
  },
  {
   "cell_type": "code",
   "execution_count": null,
   "id": "d083a74e",
   "metadata": {},
   "outputs": [],
   "source": [
    "df.head()"
   ]
  },
  {
   "cell_type": "code",
   "execution_count": null,
   "id": "310a0f95",
   "metadata": {},
   "outputs": [],
   "source": [
    "import folium\n",
    "\n",
    "m = folium.Map(location=(48.75221795615271, 44.573017166767976), zoom_start=11)\n",
    "\n",
    "m"
   ]
  },
  {
   "cell_type": "code",
   "execution_count": null,
   "id": "3dd374cd",
   "metadata": {},
   "outputs": [],
   "source": [
    "df.columns"
   ]
  },
  {
   "cell_type": "code",
   "execution_count": null,
   "id": "9c7c816e",
   "metadata": {},
   "outputs": [],
   "source": [
    "df[['timeIsoStr', 'date', 'region', 'iscity', 'name', 'type', 'lat', 'lon']].sort_values(by=['region', 'timeIsoStr'])[:20]"
   ]
  },
  {
   "cell_type": "code",
   "execution_count": null,
   "id": "7c9a77c7",
   "metadata": {},
   "outputs": [],
   "source": [
    "geo_df = df.groupby(['region', 'date', 'lat', 'lon', 'name'], as_index=False)['timeIsoStr'].count() \\\n",
    "        .rename(columns={'timeIsoStr':'count'}).sort_values(by='count', ascending=False)\n",
    "geo_df.head()"
   ]
  },
  {
   "cell_type": "code",
   "execution_count": null,
   "id": "9586b488",
   "metadata": {},
   "outputs": [],
   "source": [
    "geo_df[geo_df['count'] > 1].shape"
   ]
  },
  {
   "cell_type": "code",
   "execution_count": null,
   "id": "cfde0f83",
   "metadata": {},
   "outputs": [],
   "source": [
    "geo_df[geo_df['count'] > 1]['count'].sum()"
   ]
  },
  {
   "cell_type": "code",
   "execution_count": null,
   "id": "46d64ec3",
   "metadata": {},
   "outputs": [],
   "source": [
    "location = (50.0712, 45.3843)\n",
    "m = folium.Map(location=location, zoom_start=16)\n",
    "folium.Circle(radius=10,\n",
    "            location=(50.0712, 45.3843),\n",
    "            color=\"blue\",\n",
    "            fill_color=\"blue\",\n",
    "            fill=True).add_to(m)"
   ]
  },
  {
   "cell_type": "code",
   "execution_count": null,
   "id": "e194443d",
   "metadata": {},
   "outputs": [],
   "source": [
    "m"
   ]
  },
  {
   "cell_type": "code",
   "execution_count": null,
   "id": "383f4c06",
   "metadata": {},
   "outputs": [],
   "source": [
    "df.query('(region == \"Ворошиловский\") & (date == \"2020-06-22\") & (lat == 48.707103)') \\\n",
    "[['timeIsoStr', 'date', 'region', 'name', 'type', 'lat', 'lon']]['name'].value_counts()"
   ]
  },
  {
   "cell_type": "code",
   "execution_count": null,
   "id": "425ebb71",
   "metadata": {},
   "outputs": [],
   "source": [
    "df.query('(region == \"Ворошиловский\") & (date == \"2019-01-23\") & (lat == 50.071200)') \\\n",
    "[['timeIsoStr', 'date', 'region', 'name', 'type', 'lat', 'lon']]['name'].value_counts()"
   ]
  },
  {
   "cell_type": "code",
   "execution_count": null,
   "id": "de3ce50d",
   "metadata": {},
   "outputs": [],
   "source": [
    "df.query('(region == \"Волгоград\") & (date == \"2019-08-10\") & (lat == 48.509400)') \\\n",
    "[['timeIsoStr', 'date', 'region', 'name', 'type', 'lat', 'lon']]['name'].value_counts()"
   ]
  },
  {
   "cell_type": "code",
   "execution_count": null,
   "id": "f6d90060",
   "metadata": {},
   "outputs": [],
   "source": [
    "geo_df['count'].describe()"
   ]
  },
  {
   "cell_type": "code",
   "execution_count": null,
   "id": "0f64ef22",
   "metadata": {},
   "outputs": [],
   "source": [
    "geo_df[geo_df['count'] > 1].shape"
   ]
  },
  {
   "cell_type": "code",
   "execution_count": null,
   "id": "39fd598c",
   "metadata": {},
   "outputs": [],
   "source": [
    "geo_df[geo_df['count'] > 1]['region'].value_counts()"
   ]
  },
  {
   "cell_type": "code",
   "execution_count": null,
   "id": "5b0e7575",
   "metadata": {},
   "outputs": [],
   "source": [
    "plt.figure(figsize=(10,8))\n",
    "sns.countplot(y = 'region', order=geo_df[geo_df['count'] > 1]['region'].value_counts() \\\n",
    "              .iloc[:10].index, data = geo_df[geo_df['count'] > 1]) \\\n",
    ".set_title('Распределение полифакторных ЧС в Волгоградской области', fontsize=15)\n",
    "plt.xlabel('количество полифакторных ЧС', fontsize=10)\n",
    "plt.ylabel('')\n",
    "plt.show()"
   ]
  },
  {
   "cell_type": "code",
   "execution_count": null,
   "id": "6776e246",
   "metadata": {},
   "outputs": [],
   "source": [
    "plt.figure(figsize=(10,8))\n",
    "sns.countplot(y = 'name', order=geo_df[geo_df['count'] > 1]['name'].value_counts() \\\n",
    "              .iloc[:10].index, data = geo_df[geo_df['count'] > 1]) \\\n",
    ".set_title('Распределение полифакторных ЧС в Волгоградской области', fontsize=15)\n",
    "plt.xlabel('количество полифакторных ЧС', fontsize=10)\n",
    "plt.ylabel('')\n",
    "plt.show()"
   ]
  },
  {
   "cell_type": "code",
   "execution_count": null,
   "id": "885ceb20",
   "metadata": {},
   "outputs": [],
   "source": [
    "geo_df[geo_df['count'] > 1]['name'].value_counts()[:20]"
   ]
  },
  {
   "cell_type": "code",
   "execution_count": null,
   "id": "f6de479c",
   "metadata": {},
   "outputs": [],
   "source": [
    "df[(df['region'] == 'Волжский') & (df['date'] == '2021-08-08') & (df['name'] == 'Оказание медицинской помощи') \\\n",
    "  & (df['lat'] == 48.82860)] \\\n",
    "[['timeIsoStr', 'date', 'region', 'name', 'type', 'member_count', 'lat', 'lon']].sort_values(by=['timeIsoStr'])[:50]"
   ]
  },
  {
   "cell_type": "code",
   "execution_count": null,
   "id": "ea5df440",
   "metadata": {},
   "outputs": [],
   "source": [
    "location = (48.82860, 44.76030)\n",
    "m = folium.Map(location=location, zoom_start=16)\n",
    "folium.Circle(radius=10,\n",
    "            location=(48.82860, 44.76030),\n",
    "            color=\"blue\",\n",
    "            fill_color=\"blue\",\n",
    "            fill=True).add_to(m)"
   ]
  },
  {
   "cell_type": "code",
   "execution_count": null,
   "id": "f1883137",
   "metadata": {},
   "outputs": [],
   "source": [
    "m"
   ]
  },
  {
   "cell_type": "code",
   "execution_count": null,
   "id": "c25b7f75",
   "metadata": {},
   "outputs": [],
   "source": [
    "df[(df['region'] == 'Волгоград') & (df['date'] == '2019-08-10') & (df['name'] == 'Вызов с молчанием') \\\n",
    "  & (df['lat'] == 48.50940)] \\\n",
    "[['timeIsoStr', 'date', 'region', 'name', 'type', 'member_count', 'lat', 'lon']].sort_values(by=['timeIsoStr'])[:50]"
   ]
  },
  {
   "cell_type": "code",
   "execution_count": null,
   "id": "b93e5801",
   "metadata": {},
   "outputs": [],
   "source": [
    "location = (48.50940, 44.56490)\n",
    "m = folium.Map(location=location, zoom_start=16)\n",
    "folium.Circle(radius=10,\n",
    "            location=(48.50940, 44.56490),\n",
    "            color=\"blue\",\n",
    "            fill_color=\"blue\",\n",
    "            fill=True).add_to(m)"
   ]
  },
  {
   "cell_type": "code",
   "execution_count": null,
   "id": "df5b5629",
   "metadata": {},
   "outputs": [],
   "source": [
    "m"
   ]
  },
  {
   "cell_type": "code",
   "execution_count": null,
   "id": "1c15faf3",
   "metadata": {},
   "outputs": [],
   "source": []
  }
 ],
 "metadata": {
  "kernelspec": {
   "display_name": "Python 3",
   "language": "python",
   "name": "python3"
  },
  "language_info": {
   "codemirror_mode": {
    "name": "ipython",
    "version": 3
   },
   "file_extension": ".py",
   "mimetype": "text/x-python",
   "name": "python",
   "nbconvert_exporter": "python",
   "pygments_lexer": "ipython3",
   "version": "3.8.8"
  }
 },
 "nbformat": 4,
 "nbformat_minor": 5
}
